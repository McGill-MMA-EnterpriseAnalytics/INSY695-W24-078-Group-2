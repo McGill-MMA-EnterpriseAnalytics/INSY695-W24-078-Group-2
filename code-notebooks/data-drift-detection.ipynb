{
 "cells": [
  {
   "cell_type": "markdown",
   "metadata": {},
   "source": [
    "# Data Drift Detection\n",
    "## Preprocessing"
   ]
  },
  {
   "cell_type": "code",
   "execution_count": 146,
   "metadata": {},
   "outputs": [],
   "source": [
    "import pandas as pd\n",
    "import numpy as np\n",
    "\n",
    "original = pd.read_csv('final-weather-flight-data/dataset_YUL-Flights-Weather.csv')\n",
    "new = pd.read_csv('final-weather-flight-data/Enterprise-II-YUL-Flights-Weather.csv')\n",
    "#original = original.drop_duplicates()\n",
    "#original.to_csv('final-weather-flight-data/dataset_YUL-Flights-Weather.csv', index=False)"
   ]
  },
  {
   "cell_type": "markdown",
   "metadata": {},
   "source": [
    "['Actual Departure Time','Actual Departure'\n",
    " 'Arrival Terminal', \n",
    " 'Departure Delay (min)','Delay (in Minutes)'\n",
    "    'Departure IATA Code', 'Departure Airport',\n",
    "    'Estimated Arrival Time',\n",
    "    'Estimated Departure Time', \n",
    "    'IATA Flight Number',\n",
    "       'Scheduled Arrival Time', \n",
    "       'Scheduled Departure Time', 'Scheduled Departure'\n",
    "       'Status', 'Flight Status',\n",
    "        'Type']"
   ]
  },
  {
   "cell_type": "code",
   "execution_count": 82,
   "metadata": {},
   "outputs": [
    {
     "name": "stdout",
     "output_type": "stream",
     "text": [
      "Time range for original data:\n",
      "2023-09-30 20:00:00\n",
      "2024-02-01 18:00:00\n",
      "Time range for new data:\n",
      "2024-01-24 06:00:00\n",
      "2024-04-22 23:00:00\n"
     ]
    }
   ],
   "source": [
    "# time range for old data\n",
    "print(\"Time range for original data:\")\n",
    "print(original['Scheduled Departure Time'].min())\n",
    "print(original['Scheduled Departure Time'].max())\n",
    "\n",
    "# time range for new data\n",
    "print(\"Time range for new data:\")\n",
    "print(new['Scheduled Departure'].min())\n",
    "print(new['Scheduled Departure'].max())"
   ]
  },
  {
   "cell_type": "code",
   "execution_count": 85,
   "metadata": {},
   "outputs": [],
   "source": [
    "# slice the new data to match the time range of the old data\n",
    "new = new[(new['Scheduled Departure'] > original['Scheduled Departure Time'].max()) ]"
   ]
  },
  {
   "cell_type": "code",
   "execution_count": 147,
   "metadata": {},
   "outputs": [
    {
     "name": "stdout",
     "output_type": "stream",
     "text": [
      "Columns missing in new dataset: Index(['Departure Delay (min)', 'Scheduled Departure Time', 'Status'], dtype='object')\n",
      "Unknown columns in new dataset: Index(['Actual Departure', 'Delay (in Minutes)', 'Departure Airport',\n",
      "       'Flight Status', 'Scheduled Departure'],\n",
      "      dtype='object')\n",
      "New dataset contains column called 'Scheduled Departure' which may refer to 'Scheduled Departure Time'.\n",
      "Column 'Scheduled Departure' has been renamed to 'Scheduled Departure Time'.\n"
     ]
    }
   ],
   "source": [
    "from fuzzywuzzy import fuzz\n",
    "to_be_droped = ['Type', 'Departure IATA Code',  'Estimated Departure Time', \n",
    "    'Actual Departure Time', 'Arrival Terminal', 'Scheduled Arrival Time', 'Estimated Arrival Time', 'Flight Number',\n",
    "    'IATA Flight Number', 'Timestamp', 'Weather Description']\n",
    "\n",
    "def detect_column_changes(original, new):\n",
    "    # Drop columns in the new dataset that are in the to_be_droped list, if any\n",
    "    new = new.drop(columns=to_be_droped, errors='ignore')\n",
    "    original = original.drop(columns=to_be_droped)\n",
    "    # Detect columns in original but not in new\n",
    "    missing_in_new = original.columns.difference(new.columns)\n",
    "    if len(missing_in_new) > 0:\n",
    "        print(\"Columns missing in new dataset:\", missing_in_new)\n",
    "    \n",
    "    # Detect columns in new but not in original\n",
    "    new_in_new = new.columns.difference(original.columns)\n",
    "    if len(new_in_new) > 0:\n",
    "        print(\"Unknown columns in new dataset:\", new_in_new)\n",
    "    \n",
    "    # Fuzzy matching for similar column names\n",
    "    for new_col in new_in_new:\n",
    "        for old_col in original.columns:\n",
    "            # Check for a high degree of similarity\n",
    "            if fuzz.token_sort_ratio(new_col, old_col) > 85:\n",
    "                print(f\"New dataset contains column called '{new_col}' which may refer to '{old_col}'.\")\n",
    "                response = input(\"Do you want to replace that? (yes/no) \")\n",
    "                if response.lower() == 'yes':\n",
    "                    new.rename(columns={new_col: old_col}, inplace=True)\n",
    "                    print(f\"Column '{new_col}' has been renamed to '{old_col}'.\")\n",
    "                break\n",
    "    return new\n",
    "\n",
    "# Example usage\n",
    "new = detect_column_changes(original, new)"
   ]
  },
  {
   "cell_type": "code",
   "execution_count": 148,
   "metadata": {},
   "outputs": [],
   "source": [
    "# rename columns\n",
    "new.rename(columns={'Delay (in Minutes)': 'Departure Delay (min)', 'Flight Status': 'Status'}, inplace=True)"
   ]
  },
  {
   "cell_type": "code",
   "execution_count": 149,
   "metadata": {},
   "outputs": [],
   "source": [
    "new.drop(columns=['Actual Departure', 'Departure Airport'], inplace=True)"
   ]
  },
  {
   "cell_type": "code",
   "execution_count": 150,
   "metadata": {},
   "outputs": [],
   "source": [
    "to_be_droped = ['Type', 'Departure IATA Code',  'Estimated Departure Time', \n",
    "    'Actual Departure Time', 'Arrival Terminal', 'Scheduled Arrival Time', 'Estimated Arrival Time', 'Flight Number',\n",
    "    'IATA Flight Number', 'Timestamp', 'Weather Description']\n",
    "\n",
    "original = original.drop(columns=to_be_droped)\n",
    "\n",
    "# merge the two datasets\n",
    "merged = pd.concat([original, new], ignore_index=True)\n",
    "merged.to_csv('final-weather-flight-data/full_dataset_YUL-Flights-Weather.csv', index=False)"
   ]
  },
  {
   "cell_type": "code",
   "execution_count": 76,
   "metadata": {},
   "outputs": [
    {
     "name": "stdout",
     "output_type": "stream",
     "text": [
      "Duplicate rows:\n",
      "       Status Departure Gate  Departure Delay (min) Scheduled Departure Time  \\\n",
      "6717   active            NaN                    0.0      2023-10-11 08:00:00   \n",
      "6718   active            NaN                    0.0      2023-10-11 08:00:00   \n",
      "9603   active            NaN                   25.0      2024-01-06 08:00:00   \n",
      "9610   active            NaN                   25.0      2024-01-06 08:00:00   \n",
      "20954  active            NaN                   21.0      2024-01-23 20:00:00   \n",
      "21056  active            NaN                   21.0      2024-01-23 20:00:00   \n",
      "29425  active            NaN                   21.0      2024-01-17 20:00:00   \n",
      "29645  active            NaN                   21.0      2024-01-17 20:00:00   \n",
      "\n",
      "      Arrival IATA Code       Airline Name  Temperature  Feels Like  Pressure  \\\n",
      "6717                teb  starlink aviation         8.72        8.72    1009.0   \n",
      "6718                teb  starlink aviation         8.72        8.72    1009.0   \n",
      "9603                ord         air canada        -6.95      -10.91    1024.0   \n",
      "9610                ord         air canada        -6.95      -10.91    1024.0   \n",
      "20954               lga         air canada        -6.29      -11.95    1035.0   \n",
      "21056               lga         air canada        -6.29      -11.95    1035.0   \n",
      "29425               lga         air canada        -8.76      -15.76    1008.0   \n",
      "29645               lga         air canada        -8.76      -15.76    1008.0   \n",
      "\n",
      "       Humidity  Wind Speed  Wind Degree  Clouds Weather Main  Rain 1h  \\\n",
      "6717       91.0        0.45        158.0   100.0         Rain     0.87   \n",
      "6718       91.0        0.45        158.0   100.0         Rain     0.87   \n",
      "9603       78.0        2.24         68.0    12.0       Clouds     0.00   \n",
      "9610       78.0        2.24         68.0    12.0       Clouds     0.00   \n",
      "20954      84.0        3.93         66.0   100.0       Clouds     0.00   \n",
      "21056      84.0        3.93         66.0   100.0       Clouds     0.00   \n",
      "29425      66.0        9.77        250.0    75.0         Haze     0.00   \n",
      "29645      66.0        9.77        250.0    75.0         Haze     0.00   \n",
      "\n",
      "       Snow 1h  \n",
      "6717       0.0  \n",
      "6718       0.0  \n",
      "9603       0.0  \n",
      "9610       0.0  \n",
      "20954      0.0  \n",
      "21056      0.0  \n",
      "29425      0.0  \n",
      "29645      0.0  \n"
     ]
    }
   ],
   "source": [
    "# # check for duplicates between the two datasets\n",
    "# to_be_droped = ['Type', 'Departure IATA Code',  'Estimated Departure Time', \n",
    "#     'Actual Departure Time', 'Arrival Terminal', 'Scheduled Arrival Time', 'Estimated Arrival Time', 'Flight Number',\n",
    "#     'IATA Flight Number', 'Timestamp', 'Weather Description']\n",
    "\n",
    "# original = original.drop(columns=to_be_droped)\n",
    "# combined = pd.concat([original, new])\n",
    "\n",
    "# # Find duplicate rows across the two datasets\n",
    "# duplicates = combined.duplicated(keep=False)\n",
    "\n",
    "# # Extract the duplicate rows\n",
    "# duplicate_rows = combined[duplicates]\n",
    "\n",
    "# print(\"Duplicate rows:\")\n",
    "# print(duplicate_rows)"
   ]
  },
  {
   "cell_type": "code",
   "execution_count": 77,
   "metadata": {},
   "outputs": [],
   "source": [
    "# # remove rows that are in duplicate_rows from new\n",
    "# new = new[~new.isin(duplicate_rows)]\n"
   ]
  },
  {
   "cell_type": "code",
   "execution_count": 90,
   "metadata": {},
   "outputs": [],
   "source": [
    "new.to_csv('final-weather-flight-data/Enterprise-II-YUL-Flights-Weather-renamed.csv',index=False)"
   ]
  },
  {
   "cell_type": "markdown",
   "metadata": {},
   "source": [
    "after preprocessing...."
   ]
  },
  {
   "cell_type": "markdown",
   "metadata": {},
   "source": [
    "## Model Development"
   ]
  },
  {
   "cell_type": "code",
   "execution_count": 91,
   "metadata": {},
   "outputs": [
    {
     "name": "stdout",
     "output_type": "stream",
     "text": [
      "1.4595597520345105\n"
     ]
    }
   ],
   "source": [
    "from sklearn.model_selection import train_test_split\n",
    "from sklearn.metrics import mean_squared_error\n",
    "from sklearn.ensemble import RandomForestRegressor, GradientBoostingRegressor, VotingRegressor\n",
    "from sklearn.linear_model import LinearRegression\n",
    "from sklearn.svm import SVR\n",
    "import xgboost as xgb\n",
    "ensemble =  VotingRegressor(\n",
    "        estimators=[\n",
    "            ('lr', LinearRegression()),\n",
    "            ('rf', RandomForestRegressor(n_estimators=100, random_state=42)),\n",
    "            ('gb', GradientBoostingRegressor(random_state=42)),\n",
    "            ('xgb', xgb.XGBRegressor(random_state=42)),\n",
    "            ('svm', SVR())\n",
    "        ]\n",
    "    )\n",
    "\n",
    "after = pd.read_csv('./final-weather-flight-data/Enterprise-II-processed_dataset_YUL-Flights-Weather.csv')\n",
    "X_after = after.drop(columns=['Departure Delay (min)'])\n",
    "y_after = after['Departure Delay (min)']\n",
    "X_train, X_test, y_train, y_test = train_test_split(X_after, y_after, test_size=0.2, random_state=42)\n",
    "\n",
    "ensemble.fit(X_train, y_train)\n",
    "y_pred = ensemble.predict(X_test)\n",
    "print(mean_squared_error(y_test, y_pred))"
   ]
  },
  {
   "cell_type": "code",
   "execution_count": 92,
   "metadata": {},
   "outputs": [
    {
     "name": "stdout",
     "output_type": "stream",
     "text": [
      "0.593609718376034\n"
     ]
    }
   ],
   "source": [
    "before = pd.read_csv('final-weather-flight-data/processed_dataset_YUL-Flights-Weather.csv')\n",
    "X_before = before.drop(columns=['Departure Delay (min)'])\n",
    "y_before = before['Departure Delay (min)']\n",
    "X_train_before, X_test_before, y_train_before, y_test_before = train_test_split(X_before, y_before, test_size=0.2, random_state=42)\n",
    "\n",
    "ensemble.fit(X_train_before, y_train_before)\n",
    "y_pred_before = ensemble.predict(X_test_before)\n",
    "print(mean_squared_error(y_test_before, y_pred_before))"
   ]
  },
  {
   "cell_type": "code",
   "execution_count": 102,
   "metadata": {},
   "outputs": [
    {
     "name": "stdout",
     "output_type": "stream",
     "text": [
      "                  feature  importance\n",
      "9          Departure Gate    0.177999\n",
      "10      Arrival IATA Code    0.106773\n",
      "8                 Snow 1h    0.100518\n",
      "3                Humidity    0.088702\n",
      "11           Airline Name    0.085754\n",
      "1              Feels Like    0.079332\n",
      "2                Pressure    0.066932\n",
      "5             Wind Degree    0.057484\n",
      "0             Temperature    0.057279\n",
      "4              Wind Speed    0.051756\n",
      "6                  Clouds    0.048308\n",
      "14   Weekday of Departure    0.037889\n",
      "13  Departure Time of Day    0.014991\n",
      "12           Weather Main    0.009902\n",
      "16                 Season    0.009280\n",
      "17             Visibility    0.003431\n",
      "15       Weather Severity    0.002145\n",
      "7                 Rain 1h    0.001523\n"
     ]
    }
   ],
   "source": [
    "# get feature importance\n",
    "ensemble.fit(X_after, y_after)\n",
    "feature_importance = ensemble.named_estimators_['rf'].feature_importances_\n",
    "feature_importance = pd.DataFrame({'feature': X_after.columns, 'importance': feature_importance}).sort_values(by='importance', ascending=False)\n",
    "print(feature_importance)"
   ]
  },
  {
   "cell_type": "markdown",
   "metadata": {},
   "source": [
    "We see massive increase on mse, so the model performance gone bad."
   ]
  },
  {
   "cell_type": "markdown",
   "metadata": {},
   "source": [
    "## TFDV"
   ]
  },
  {
   "cell_type": "code",
   "execution_count": 93,
   "metadata": {},
   "outputs": [
    {
     "data": {
      "text/html": [
       "<iframe id='facets-iframe' width=\"100%\" height=\"500px\"></iframe>\n",
       "        <script>\n",
       "        facets_iframe = document.getElementById('facets-iframe');\n",
       "        facets_html = '<script src=\"https://cdnjs.cloudflare.com/ajax/libs/webcomponentsjs/1.3.3/webcomponents-lite.js\"><\\/script><link rel=\"import\" href=\"https://raw.githubusercontent.com/PAIR-code/facets/master/facets-dist/facets-jupyter.html\"><facets-overview proto-input=\"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\"></facets-overview>';\n",
       "        facets_iframe.srcdoc = facets_html;\n",
       "         facets_iframe.id = \"\";\n",
       "         setTimeout(() => {\n",
       "           facets_iframe.setAttribute('height', facets_iframe.contentWindow.document.body.offsetHeight + 'px')\n",
       "         }, 1500)\n",
       "         </script>"
      ],
      "text/plain": [
       "<IPython.core.display.HTML object>"
      ]
     },
     "metadata": {},
     "output_type": "display_data"
    }
   ],
   "source": [
    "import tensorflow as tf\n",
    "import tensorflow_data_validation as tfdv\n",
    "import pandas as pd\n",
    "\n",
    "early_data_stats = tfdv.generate_statistics_from_dataframe(before)\n",
    "\n",
    "latest_data_stats = tfdv.generate_statistics_from_dataframe(after)\n",
    "# visualize statistics\n",
    "tfdv.visualize_statistics(early_data_stats)"
   ]
  },
  {
   "cell_type": "code",
   "execution_count": 94,
   "metadata": {},
   "outputs": [],
   "source": [
    "html = tfdv.get_statistics_html(early_data_stats)\n",
    "with open('data-drift-viz/early_data_stats.html', 'w') as f:\n",
    "    f.write(html)"
   ]
  },
  {
   "cell_type": "code",
   "execution_count": 53,
   "metadata": {},
   "outputs": [
    {
     "data": {
      "text/html": [
       "<iframe id='facets-iframe' width=\"100%\" height=\"500px\"></iframe>\n",
       "        <script>\n",
       "        facets_iframe = document.getElementById('facets-iframe');\n",
       "        facets_html = '<script src=\"https://cdnjs.cloudflare.com/ajax/libs/webcomponentsjs/1.3.3/webcomponents-lite.js\"><\\/script><link rel=\"import\" href=\"https://raw.githubusercontent.com/PAIR-code/facets/master/facets-dist/facets-jupyter.html\"><facets-overview proto-input=\"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\"></facets-overview>';\n",
       "        facets_iframe.srcdoc = facets_html;\n",
       "         facets_iframe.id = \"\";\n",
       "         setTimeout(() => {\n",
       "           facets_iframe.setAttribute('height', facets_iframe.contentWindow.document.body.offsetHeight + 'px')\n",
       "         }, 1500)\n",
       "         </script>"
      ],
      "text/plain": [
       "<IPython.core.display.HTML object>"
      ]
     },
     "metadata": {},
     "output_type": "display_data"
    }
   ],
   "source": [
    "tfdv.visualize_statistics(latest_data_stats)"
   ]
  },
  {
   "cell_type": "code",
   "execution_count": 95,
   "metadata": {},
   "outputs": [],
   "source": [
    "html = tfdv.get_statistics_html(latest_data_stats)\n",
    "with open('data-drift-viz/latest_data_stats.html', 'w') as f:\n",
    "    f.write(html)"
   ]
  },
  {
   "cell_type": "code",
   "execution_count": 96,
   "metadata": {},
   "outputs": [
    {
     "data": {
      "text/html": [
       "<div>\n",
       "<style scoped>\n",
       "    .dataframe tbody tr th:only-of-type {\n",
       "        vertical-align: middle;\n",
       "    }\n",
       "\n",
       "    .dataframe tbody tr th {\n",
       "        vertical-align: top;\n",
       "    }\n",
       "\n",
       "    .dataframe thead th {\n",
       "        text-align: right;\n",
       "    }\n",
       "</style>\n",
       "<table border=\"1\" class=\"dataframe\">\n",
       "  <thead>\n",
       "    <tr style=\"text-align: right;\">\n",
       "      <th></th>\n",
       "      <th>Type</th>\n",
       "      <th>Presence</th>\n",
       "      <th>Valency</th>\n",
       "      <th>Domain</th>\n",
       "    </tr>\n",
       "    <tr>\n",
       "      <th>Feature name</th>\n",
       "      <th></th>\n",
       "      <th></th>\n",
       "      <th></th>\n",
       "      <th></th>\n",
       "    </tr>\n",
       "  </thead>\n",
       "  <tbody>\n",
       "    <tr>\n",
       "      <th>'Departure Delay (min)'</th>\n",
       "      <td>FLOAT</td>\n",
       "      <td>required</td>\n",
       "      <td></td>\n",
       "      <td>-</td>\n",
       "    </tr>\n",
       "    <tr>\n",
       "      <th>'Temperature'</th>\n",
       "      <td>FLOAT</td>\n",
       "      <td>required</td>\n",
       "      <td></td>\n",
       "      <td>-</td>\n",
       "    </tr>\n",
       "    <tr>\n",
       "      <th>'Feels Like'</th>\n",
       "      <td>FLOAT</td>\n",
       "      <td>required</td>\n",
       "      <td></td>\n",
       "      <td>-</td>\n",
       "    </tr>\n",
       "    <tr>\n",
       "      <th>'Pressure'</th>\n",
       "      <td>FLOAT</td>\n",
       "      <td>required</td>\n",
       "      <td></td>\n",
       "      <td>-</td>\n",
       "    </tr>\n",
       "    <tr>\n",
       "      <th>'Humidity'</th>\n",
       "      <td>FLOAT</td>\n",
       "      <td>required</td>\n",
       "      <td></td>\n",
       "      <td>-</td>\n",
       "    </tr>\n",
       "    <tr>\n",
       "      <th>'Wind Speed'</th>\n",
       "      <td>FLOAT</td>\n",
       "      <td>required</td>\n",
       "      <td></td>\n",
       "      <td>-</td>\n",
       "    </tr>\n",
       "    <tr>\n",
       "      <th>'Wind Degree'</th>\n",
       "      <td>FLOAT</td>\n",
       "      <td>required</td>\n",
       "      <td></td>\n",
       "      <td>-</td>\n",
       "    </tr>\n",
       "    <tr>\n",
       "      <th>'Clouds'</th>\n",
       "      <td>FLOAT</td>\n",
       "      <td>required</td>\n",
       "      <td></td>\n",
       "      <td>-</td>\n",
       "    </tr>\n",
       "    <tr>\n",
       "      <th>'Rain 1h'</th>\n",
       "      <td>FLOAT</td>\n",
       "      <td>required</td>\n",
       "      <td></td>\n",
       "      <td>-</td>\n",
       "    </tr>\n",
       "    <tr>\n",
       "      <th>'Snow 1h'</th>\n",
       "      <td>FLOAT</td>\n",
       "      <td>required</td>\n",
       "      <td></td>\n",
       "      <td>-</td>\n",
       "    </tr>\n",
       "    <tr>\n",
       "      <th>'Departure Gate'</th>\n",
       "      <td>FLOAT</td>\n",
       "      <td>required</td>\n",
       "      <td></td>\n",
       "      <td>-</td>\n",
       "    </tr>\n",
       "    <tr>\n",
       "      <th>'Arrival IATA Code'</th>\n",
       "      <td>FLOAT</td>\n",
       "      <td>required</td>\n",
       "      <td></td>\n",
       "      <td>-</td>\n",
       "    </tr>\n",
       "    <tr>\n",
       "      <th>'Airline Name'</th>\n",
       "      <td>FLOAT</td>\n",
       "      <td>required</td>\n",
       "      <td></td>\n",
       "      <td>-</td>\n",
       "    </tr>\n",
       "    <tr>\n",
       "      <th>'Weather Main'</th>\n",
       "      <td>FLOAT</td>\n",
       "      <td>required</td>\n",
       "      <td></td>\n",
       "      <td>-</td>\n",
       "    </tr>\n",
       "    <tr>\n",
       "      <th>'Departure Time of Day'</th>\n",
       "      <td>FLOAT</td>\n",
       "      <td>required</td>\n",
       "      <td></td>\n",
       "      <td>-</td>\n",
       "    </tr>\n",
       "    <tr>\n",
       "      <th>'Weekday of Departure'</th>\n",
       "      <td>FLOAT</td>\n",
       "      <td>required</td>\n",
       "      <td></td>\n",
       "      <td>-</td>\n",
       "    </tr>\n",
       "    <tr>\n",
       "      <th>'Weather Severity'</th>\n",
       "      <td>FLOAT</td>\n",
       "      <td>required</td>\n",
       "      <td></td>\n",
       "      <td>-</td>\n",
       "    </tr>\n",
       "    <tr>\n",
       "      <th>'Season'</th>\n",
       "      <td>FLOAT</td>\n",
       "      <td>required</td>\n",
       "      <td></td>\n",
       "      <td>-</td>\n",
       "    </tr>\n",
       "    <tr>\n",
       "      <th>'Visibility'</th>\n",
       "      <td>FLOAT</td>\n",
       "      <td>required</td>\n",
       "      <td></td>\n",
       "      <td>-</td>\n",
       "    </tr>\n",
       "  </tbody>\n",
       "</table>\n",
       "</div>"
      ],
      "text/plain": [
       "                          Type  Presence Valency Domain\n",
       "Feature name                                           \n",
       "'Departure Delay (min)'  FLOAT  required              -\n",
       "'Temperature'            FLOAT  required              -\n",
       "'Feels Like'             FLOAT  required              -\n",
       "'Pressure'               FLOAT  required              -\n",
       "'Humidity'               FLOAT  required              -\n",
       "'Wind Speed'             FLOAT  required              -\n",
       "'Wind Degree'            FLOAT  required              -\n",
       "'Clouds'                 FLOAT  required              -\n",
       "'Rain 1h'                FLOAT  required              -\n",
       "'Snow 1h'                FLOAT  required              -\n",
       "'Departure Gate'         FLOAT  required              -\n",
       "'Arrival IATA Code'      FLOAT  required              -\n",
       "'Airline Name'           FLOAT  required              -\n",
       "'Weather Main'           FLOAT  required              -\n",
       "'Departure Time of Day'  FLOAT  required              -\n",
       "'Weekday of Departure'   FLOAT  required              -\n",
       "'Weather Severity'       FLOAT  required              -\n",
       "'Season'                 FLOAT  required              -\n",
       "'Visibility'             FLOAT  required              -"
      ]
     },
     "metadata": {},
     "output_type": "display_data"
    }
   ],
   "source": [
    "# infer schema from the statistics \n",
    "early_data_schema = tfdv.infer_schema(statistics=early_data_stats)\n",
    "# display the schema\n",
    "tfdv.display_schema(schema=early_data_schema)"
   ]
  },
  {
   "cell_type": "code",
   "execution_count": 97,
   "metadata": {},
   "outputs": [
    {
     "data": {
      "text/html": [
       "<h4 style=\"color:green;\">No anomalies found.</h4>"
      ],
      "text/plain": [
       "<IPython.core.display.HTML object>"
      ]
     },
     "metadata": {},
     "output_type": "display_data"
    }
   ],
   "source": [
    "anomalies_schema = tfdv.validate_statistics(statistics=latest_data_stats, schema=early_data_schema)\n",
    "tfdv.display_anomalies(anomalies_schema)"
   ]
  },
  {
   "cell_type": "code",
   "execution_count": 98,
   "metadata": {},
   "outputs": [
    {
     "data": {
      "text/html": [
       "<iframe id='facets-iframe' width=\"100%\" height=\"500px\"></iframe>\n",
       "        <script>\n",
       "        facets_iframe = document.getElementById('facets-iframe');\n",
       "        facets_html = '<script src=\"https://cdnjs.cloudflare.com/ajax/libs/webcomponentsjs/1.3.3/webcomponents-lite.js\"><\\/script><link rel=\"import\" href=\"https://raw.githubusercontent.com/PAIR-code/facets/master/facets-dist/facets-jupyter.html\"><facets-overview proto-input=\"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\"></facets-overview>';\n",
       "        facets_iframe.srcdoc = facets_html;\n",
       "         facets_iframe.id = \"\";\n",
       "         setTimeout(() => {\n",
       "           facets_iframe.setAttribute('height', facets_iframe.contentWindow.document.body.offsetHeight + 'px')\n",
       "         }, 1500)\n",
       "         </script>"
      ],
      "text/plain": [
       "<IPython.core.display.HTML object>"
      ]
     },
     "metadata": {},
     "output_type": "display_data"
    }
   ],
   "source": [
    "tfdv.visualize_statistics(lhs_statistics=early_data_stats, rhs_statistics=latest_data_stats,\n",
    "                          lhs_name='before feb', rhs_name='after feb')"
   ]
  },
  {
   "cell_type": "code",
   "execution_count": 100,
   "metadata": {},
   "outputs": [],
   "source": [
    "# write to html\n",
    "html = tfdv.get_statistics_html(lhs_statistics=early_data_stats, rhs_statistics=latest_data_stats,\n",
    "                          lhs_name='before feb', rhs_name='after feb')\n",
    "with open('data-drift-viz/stacked_view.html', 'w') as f:\n",
    "    f.write(html)\n",
    "\n"
   ]
  },
  {
   "cell_type": "markdown",
   "metadata": {},
   "source": [
    "As a general rule of thumb, some suggested threshold values for monitoring feature drift using JSD are:\n",
    "\n",
    "- Small threshold value (e.g., 0.05 to 0.1): This threshold value may be appropriate when detecting subtle changes in patterns, or when the consequences of feature drift are severe (e.g., in fraud detection or medical diagnosis applications).\n",
    "- Medium threshold value (e.g., 0.1 to 0.2): This threshold value may be appropriate when detecting moderate changes in patterns, or when the consequences of feature drift are less severe (e.g., in recommendation systems or marketing campaigns).\n",
    "- Large threshold value (e.g., > 0.2): This threshold value may be appropriate when detecting major changes in patterns, or when the consequences of feature drift are relatively minor (e.g., in product quality monitoring or website traffic analysis).\n",
    "\n",
    "On the other hand, the L-infinity norm is a metric used to quantify the difference between the probability distributions of two categorical variables. Specifically, it measures the maximum absolute difference between the probability values of corresponding categories in the two distributions. The same guidelines mentioned earlier are also applicable here."
   ]
  },
  {
   "cell_type": "code",
   "execution_count": 103,
   "metadata": {},
   "outputs": [
    {
     "data": {
      "text/html": [
       "<h4 style=\"color:green;\">No anomalies found.</h4>"
      ],
      "text/plain": [
       "<IPython.core.display.HTML object>"
      ]
     },
     "metadata": {},
     "output_type": "display_data"
    }
   ],
   "source": [
    "\n",
    "\n",
    "# Feature importance as provided\n",
    "feature_importance = {\n",
    "    'Departure Gate': 0.177999, 'Arrival IATA Code': 0.106773, 'Snow 1h': 0.100518,\n",
    "    'Humidity': 0.088702, 'Airline Name': 0.085754, 'Feels Like': 0.079332,\n",
    "    'Pressure': 0.066932, 'Wind Degree': 0.057484, 'Temperature': 0.057279,\n",
    "    'Wind Speed': 0.051756, 'Clouds': 0.048308, 'Weekday of Departure': 0.037889,\n",
    "    'Departure Time of Day': 0.014991, 'Weather Main': 0.009902, 'Season': 0.009280,\n",
    "    'Visibility': 0.003431, 'Weather Severity': 0.002145, 'Rain 1h': 0.001523\n",
    "}\n",
    "\n",
    "# Scale the importance to [0.01, 0.2] for drift thresholds\n",
    "min_threshold, max_threshold = 0.01, 0.2\n",
    "scale = max_threshold - min_threshold\n",
    "normalized_thresholds = {k: max_threshold - v / max(feature_importance.values()) * scale for k, v in feature_importance.items()}\n",
    "\n",
    "# Configure drift detection for each feature in the schema\n",
    "for feature in early_data_schema.feature:\n",
    "    if feature.name in normalized_thresholds:\n",
    "        # Set the Jensen-Shannon divergence as the drift metric\n",
    "        feature.drift_comparator.jensen_shannon_divergence.threshold = normalized_thresholds[feature.name]\n",
    "\n",
    "# Validate the latest dataset against the schema\n",
    "anomalies = tfdv.validate_statistics(statistics=latest_data_stats, schema=early_data_schema)\n",
    "\n",
    "# Display the anomalies detected (includes drift based on the comparator)\n",
    "tfdv.display_anomalies(anomalies)"
   ]
  },
  {
   "cell_type": "code",
   "execution_count": 104,
   "metadata": {},
   "outputs": [
    {
     "data": {
      "text/plain": [
       "{'Departure Gate': 0.010000000000000009,\n",
       " 'Arrival IATA Code': 0.08602817993359513,\n",
       " 'Snow 1h': 0.0927049028365328,\n",
       " 'Humidity': 0.10531755796380879,\n",
       " 'Airline Name': 0.10846431721526527,\n",
       " 'Feels Like': 0.11531929954662667,\n",
       " 'Pressure': 0.12855532896252225,\n",
       " 'Wind Degree': 0.13864032944005303,\n",
       " 'Temperature': 0.13885915089410616,\n",
       " 'Wind Speed': 0.1447545210928151,\n",
       " 'Clouds': 0.14843499120781578,\n",
       " 'Weekday of Departure': 0.15955645818234934,\n",
       " 'Departure Time of Day': 0.1839982808892185,\n",
       " 'Weather Main': 0.18943039005837112,\n",
       " 'Season': 0.19009432637262008,\n",
       " 'Visibility': 0.19633767605435987,\n",
       " 'Weather Severity': 0.19771038039539549,\n",
       " 'Rain 1h': 0.19837431670964445}"
      ]
     },
     "execution_count": 104,
     "metadata": {},
     "output_type": "execute_result"
    }
   ],
   "source": [
    "normalized_thresholds"
   ]
  },
  {
   "cell_type": "markdown",
   "metadata": {},
   "source": [
    "### Training-Serving Skew Detection with TFDV"
   ]
  },
  {
   "cell_type": "code",
   "execution_count": 112,
   "metadata": {},
   "outputs": [
    {
     "data": {
      "text/html": [
       "<h4 style=\"color:green;\">No anomalies found.</h4>"
      ],
      "text/plain": [
       "<IPython.core.display.HTML object>"
      ]
     },
     "metadata": {},
     "output_type": "display_data"
    }
   ],
   "source": [
    "feature_name = ['Snow 1h','Departure Gate', 'Arrival IATA Code', 'Arrival IATA Code', 'Airline Name']\n",
    "\n",
    "for feature in feature_name:\n",
    "    feature_in_schema = tfdv.get_feature(early_data_schema, feature)\n",
    "    if feature_in_schema:  # Check if the feature exists in the schema\n",
    "        feature_in_schema.skew_comparator.infinity_norm.threshold = 0.01\n",
    "\n",
    "# Validate the serving statistics against the training schema to detect skew\n",
    "skew_anomalies = tfdv.validate_statistics(statistics=latest_data_stats, schema=early_data_schema, serving_statistics=early_data_stats)\n",
    "\n",
    "# Display the detected anomalies\n",
    "tfdv.display_anomalies(skew_anomalies)"
   ]
  },
  {
   "cell_type": "code",
   "execution_count": 113,
   "metadata": {},
   "outputs": [
    {
     "data": {
      "text/html": [
       "<h4 style=\"color:green;\">No anomalies found.</h4>"
      ],
      "text/plain": [
       "<IPython.core.display.HTML object>"
      ]
     },
     "metadata": {},
     "output_type": "display_data"
    }
   ],
   "source": [
    "for feature in feature_name:\n",
    "    feature_in_schema = tfdv.get_feature(early_data_schema, feature)\n",
    "    if feature_in_schema:  # Check if the feature exists in the schema\n",
    "        feature_in_schema.drift_comparator.infinity_norm.threshold = 0.01\n",
    "\n",
    "drift_anomalies = tfdv.validate_statistics(statistics=latest_data_stats, schema=early_data_schema, serving_statistics=early_data_stats)\n",
    "\n",
    "# Display the detected anomalies\n",
    "tfdv.display_anomalies(drift_anomalies)"
   ]
  },
  {
   "cell_type": "markdown",
   "metadata": {},
   "source": [
    "## Model based Drift Detection with Alibi-Detect"
   ]
  },
  {
   "cell_type": "code",
   "execution_count": 227,
   "metadata": {},
   "outputs": [],
   "source": [
    "import tensorflow as tf\n",
    "from tensorflow.keras.layers import Input, Dense\n",
    "from tensorflow.keras.models import Sequential\n",
    "from tensorflow.keras.optimizers import Adam\n",
    "from alibi_detect.cd import ClassifierDrift\n",
    "\n",
    "# Assuming each sample has 10 features (change this as per your actual feature count)\n",
    "feature_count = X_before.shape[1]\n",
    "\n",
    "# Use a very simple model\n",
    "model = Sequential([\n",
    "    Input(shape=(feature_count,)),\n",
    "    Dense(10, activation='relu'),  # Reduced complexity further\n",
    "    Dense(2, activation='softmax')\n",
    "])\n",
    "model.compile(optimizer=Adam(lr=0.01), loss='categorical_crossentropy')  # Increased learning rate for quicker convergence\n",
    "\n",
    "cd = ClassifierDrift(\n",
    "    threshold=0.55,\n",
    "    model=model,\n",
    "    X_ref=X_before,\n",
    "    n_folds=1,  # Minimal cross-validation\n",
    "    epochs=1,\n",
    "    batch_size=64  # Increased batch size for speed\n",
    ")\n",
    "\n",
    "# Perform drift detection, outputting only the drift metric for speed\n",
    "preds_drift = cd.predict(X_after, return_metric=True)\n",
    "print(\"Drift Metric:\", preds_drift['data']['metric'])\n"
   ]
  },
  {
   "cell_type": "code",
   "execution_count": null,
   "metadata": {},
   "outputs": [
    {
     "name": "stderr",
     "output_type": "stream",
     "text": [
      "WARNING:absl:You are saving your model as an HDF5 file via `model.save()` or `keras.saving.save_model(model)`. This file format is considered legacy. We recommend using instead the native Keras format, e.g. `model.save('my_model.keras')` or `keras.saving.save_model(model, 'my_model.keras')`. \n"
     ]
    }
   ],
   "source": [
    "model.save('data-drift-viz/Classifier_Drift.h5')\n"
   ]
  },
  {
   "cell_type": "markdown",
   "metadata": {},
   "source": [
    "## Manual\n",
    "### Lable Drift\n"
   ]
  },
  {
   "cell_type": "code",
   "execution_count": 114,
   "metadata": {},
   "outputs": [
    {
     "data": {
      "image/png": "[encoded data removed]",
      "text/plain": [
       "<Figure size 1000x600 with 1 Axes>"
      ]
     },
     "metadata": {},
     "output_type": "display_data"
    },
    {
     "name": "stdout",
     "output_type": "stream",
     "text": [
      "K-S Statistic: 0.2675097172295119, P-value: 3.187356862561735e-39\n",
      "There is significant label drift between training and new data.\n"
     ]
    }
   ],
   "source": [
    "import matplotlib.pyplot as plt\n",
    "from scipy.stats import ks_2samp\n",
    "# Visualize the distributions of 'y'\n",
    "plt.figure(figsize=(10, 6))\n",
    "plt.hist(y_before, bins=30, alpha=0.5, label='Train Data', color='blue')\n",
    "plt.hist(y_after, bins=30, alpha=0.5, label='New Data', color='red')\n",
    "plt.title('Comparison of Target Variable Distribution: Train vs. New Data')\n",
    "plt.xlabel('Value of Target Variable y')\n",
    "plt.ylabel('Frequency')\n",
    "plt.legend()\n",
    "plt.show()\n",
    "\n",
    "# Perform a statistical test for distribution comparison\n",
    "stat, p_value = ks_2samp(y_before, y_after)\n",
    "print(f\"K-S Statistic: {stat}, P-value: {p_value}\")\n",
    "\n",
    "# Interpret the result\n",
    "alpha = 0.05  # significance level\n",
    "if p_value < alpha:\n",
    "    print(\"There is significant label drift between training and new data.\")\n",
    "else:\n",
    "    print(\"No significant label drift detected.\")"
   ]
  },
  {
   "cell_type": "code",
   "execution_count": 142,
   "metadata": {},
   "outputs": [
    {
     "name": "stdout",
     "output_type": "stream",
     "text": [
      "KL Drifted Features: ['Departure Delay (min)', 'Temperature', 'Feels Like', 'Pressure', 'Humidity', 'Wind Speed', 'Wind Degree', 'Clouds', 'Rain 1h', 'Snow 1h', 'Departure Gate', 'Arrival IATA Code', 'Airline Name', 'Weather Main']\n",
      "JS Drifted Features: ['Temperature', 'Feels Like', 'Pressure', 'Humidity', 'Wind Speed', 'Wind Degree', 'Clouds', 'Departure Gate', 'Arrival IATA Code', 'Airline Name']\n",
      "KS Drifted Features: ['Departure Delay (min)', 'Temperature', 'Feels Like', 'Pressure', 'Humidity', 'Wind Speed', 'Wind Degree', 'Clouds', 'Rain 1h', 'Snow 1h', 'Departure Gate', 'Arrival IATA Code', 'Airline Name', 'Weather Main', 'Departure Time of Day', 'Weekday of Departure', 'Weather Severity', 'Season', 'Visibility']\n",
      "L-infinity Drifted Features: ['Clouds', 'Departure Gate', 'Arrival IATA Code', 'Airline Name']\n"
     ]
    }
   ],
   "source": [
    "# Initialize lists to store features that exhibit drift for each test\n",
    "kl_drifted_features = []\n",
    "js_drifted_features = []\n",
    "ks_drifted_features = []\n",
    "linf_drifted_features = []\n",
    "\n",
    "# Define thresholds for detecting drift\n",
    "kl_threshold = 0.2\n",
    "js_threshold = 0.2\n",
    "ks_threshold = 0.2  # p-value threshold for KS test\n",
    "linf_threshold = 0.2\n",
    "\n",
    "# Define the number of bins for the histogram\n",
    "num_bins = 100\n",
    "\n",
    "# Loop through each feature to calculate drift metrics\n",
    "for feature in before.columns:\n",
    "    before_feature = before[feature].values\n",
    "    after_feature = after[feature].values\n",
    "\n",
    "    # Calculate histograms and bin edges for the two distributions\n",
    "    bin_edges = np.histogram_bin_edges(np.concatenate((before_feature, after_feature)), bins=num_bins)\n",
    "    before_hist, _ = np.histogram(before_feature, bins=bin_edges, density=False)\n",
    "    after_hist, _ = np.histogram(after_feature, bins=bin_edges, density=False)\n",
    "\n",
    "    # Normalize the histograms to reflect percentages\n",
    "    before_hist = before_hist / np.sum(before_hist)\n",
    "    after_hist = after_hist / np.sum(after_hist)\n",
    "\n",
    "    # Calculate drift metrics\n",
    "    kl_div = entropy(before_hist, after_hist)\n",
    "    js_div = jensenshannon(before_hist, after_hist)\n",
    "    ks_stat, ks_pval = ks_2samp(before_feature, after_feature)\n",
    "    linf_dist = np.max(np.abs(before_hist - after_hist))\n",
    "\n",
    "    # Check against thresholds and record features that show drift\n",
    "    if kl_div > kl_threshold:\n",
    "        kl_drifted_features.append(feature)\n",
    "    if js_div > js_threshold:\n",
    "        js_drifted_features.append(feature)\n",
    "    if ks_pval < ks_threshold:\n",
    "        ks_drifted_features.append(feature)\n",
    "    if linf_dist > linf_threshold:\n",
    "        linf_drifted_features.append(feature)\n",
    "\n",
    "# Print the features that drifted based on each metric\n",
    "print(\"KL Drifted Features:\", kl_drifted_features)\n",
    "print(\"JS Drifted Features:\", js_drifted_features)\n",
    "print(\"KS Drifted Features:\", ks_drifted_features)\n",
    "print(\"L-infinity Drifted Features:\", linf_drifted_features)"
   ]
  },
  {
   "cell_type": "markdown",
   "metadata": {},
   "source": [
    "after this test and compare manually with distributions, we believe L-infinity Drifted Features are rather useful."
   ]
  },
  {
   "cell_type": "markdown",
   "metadata": {},
   "source": [
    "## Solutions"
   ]
  },
  {
   "cell_type": "code",
   "execution_count": 166,
   "metadata": {},
   "outputs": [
    {
     "name": "stdout",
     "output_type": "stream",
     "text": [
      "1.0271840439168292\n"
     ]
    }
   ],
   "source": [
    "\n",
    "ensemble.fit(X_before, y_before)\n",
    "y_pred_before = ensemble.predict(X_after)\n",
    "print(mean_squared_error(y_after, y_pred_before))"
   ]
  },
  {
   "cell_type": "code",
   "execution_count": 167,
   "metadata": {},
   "outputs": [
    {
     "name": "stdout",
     "output_type": "stream",
     "text": [
      "R2 Score: -0.027184043916828937\n"
     ]
    }
   ],
   "source": [
    "from sklearn.metrics import mean_squared_error, r2_score\n",
    "print(\"R2 Score:\", r2_score(y_after, y_pred_before))"
   ]
  },
  {
   "cell_type": "code",
   "execution_count": 204,
   "metadata": {},
   "outputs": [
    {
     "name": "stderr",
     "output_type": "stream",
     "text": [
      "C:\\Users\\PrudenceC\\AppData\\Local\\Temp\\ipykernel_27152\\804693375.py:54: SettingWithCopyWarning: \n",
      "A value is trying to be set on a copy of a slice from a DataFrame.\n",
      "Try using .loc[row_indexer,col_indexer] = value instead\n",
      "\n",
      "See the caveats in the documentation: https://pandas.pydata.org/pandas-docs/stable/user_guide/indexing.html#returning-a-view-versus-a-copy\n",
      "  df['Season'] = pd.cut(df['Scheduled Departure Time'].dt.month,\n",
      "C:\\Users\\PrudenceC\\AppData\\Local\\Temp\\ipykernel_27152\\804693375.py:60: SettingWithCopyWarning: \n",
      "A value is trying to be set on a copy of a slice from a DataFrame.\n",
      "Try using .loc[row_indexer,col_indexer] = value instead\n",
      "\n",
      "See the caveats in the documentation: https://pandas.pydata.org/pandas-docs/stable/user_guide/indexing.html#returning-a-view-versus-a-copy\n",
      "  df['Weekend Departure'] = df['Weekday of Departure'].isin(['Saturday', 'Sunday']).astype(int)\n",
      "C:\\Users\\PrudenceC\\AppData\\Local\\Temp\\ipykernel_27152\\804693375.py:63: SettingWithCopyWarning: \n",
      "A value is trying to be set on a copy of a slice from a DataFrame.\n",
      "Try using .loc[row_indexer,col_indexer] = value instead\n",
      "\n",
      "See the caveats in the documentation: https://pandas.pydata.org/pandas-docs/stable/user_guide/indexing.html#returning-a-view-versus-a-copy\n",
      "  df['Visibility'] = np.where((df['Weather Main'].isin(['Fog', 'Mist', 'Haze', 'Snow', 'Rain'])), 'Low', 'High')\n"
     ]
    }
   ],
   "source": [
    "import numpy as np\n",
    "import pandas as pd\n",
    "from sklearn.base import TransformerMixin, BaseEstimator\n",
    "from sklearn.compose import ColumnTransformer\n",
    "from sklearn.impute import SimpleImputer\n",
    "from sklearn.preprocessing import OrdinalEncoder, StandardScaler\n",
    "from sklearn.pipeline import Pipeline\n",
    "from sklearn.utils import shuffle\n",
    "original = pd.read_csv('final-weather-flight-data/dataset_YUL-Flights-Weather.csv')\n",
    "new = pd.read_csv('final-weather-flight-data/Enterprise-II-YUL-Flights-Weather-renamed.csv')\n",
    "to_be_droped = ['Type', 'Departure IATA Code',  'Estimated Departure Time', \n",
    "    'Actual Departure Time', 'Arrival Terminal', 'Scheduled Arrival Time', 'Estimated Arrival Time', 'Flight Number',\n",
    "    'IATA Flight Number', 'Timestamp', 'Weather Description']\n",
    "\n",
    "original = original.drop(columns=to_be_droped)\n",
    "\n",
    "df = original.copy()\n",
    "def custom_preprocess_data(df):\n",
    "    # Convert Scheduled Departure Time and Estimated Departure Time to datetime\n",
    "    df['Scheduled Departure Time'] = pd.to_datetime(df['Scheduled Departure Time'])\n",
    "    #df['Estimated Departure Time'] = pd.to_datetime(df['Estimated Departure Time'])\n",
    "    \n",
    "    # Calculate the difference in minutes\n",
    "    # df['Estimated Departure Delay (min)'] = (df['Estimated Departure Time'] - df['Scheduled Departure Time']).dt.total_seconds() / 60\n",
    "\n",
    "    # Calculate the time of day\n",
    "    df['Departure Time of Day'] = pd.cut(df['Scheduled Departure Time'].dt.hour, \n",
    "                                     bins=[0, 6, 12, 18, 24], \n",
    "                                     labels=['Night', 'Morning', 'Afternoon', 'Evening'], \n",
    "                                     right=False)\n",
    "\n",
    "    # Weekday of departure\n",
    "    df['Weekday of Departure'] = df['Scheduled Departure Time'].dt.day_name()\n",
    "\n",
    "    # Calculate weather severety\n",
    "    df['Weather Severity'] = np.where((df['Rain 1h'] > 0) | (df['Snow 1h'] > 0), 'Bad', 'Good')\n",
    "\n",
    "    # Filter out detinations with a frequency less than 100\n",
    "    destintaiton_counts = df['Arrival IATA Code'].value_counts()\n",
    "    destinations_to_keep = destintaiton_counts[destintaiton_counts >= 100].index\n",
    "    df = df[df['Arrival IATA Code'].isin(destinations_to_keep)]\n",
    "\n",
    "    # Filter out infrequent airlines\n",
    "    # airline_counts = df['Airline Name'].value_counts()\n",
    "    # airlines_to_keep = airline_counts[airline_counts >= 50].index\n",
    "    # df = df[df['Airline Name'].isin(airlines_to_keep)]\n",
    "\n",
    "    # Feature engineering: Create a feature for delay status\n",
    "    # df['Delay Status'] = pd.cut(df['Departure Delay (min)'], \n",
    "    #                             bins=[-np.inf, 0, 15, 60, np.inf], \n",
    "    #                             labels=['On Time', 'Slight Delay', 'Moderate Delay', 'Severe Delay'])\n",
    "\n",
    "    # Feature engineering: Create a feature for season based on month\n",
    "    df['Season'] = pd.cut(df['Scheduled Departure Time'].dt.month, \n",
    "                          bins=[0, 3, 6, 9, 12], \n",
    "                          labels=['Winter', 'Spring', 'Summer', 'Fall'], \n",
    "                          right=False)\n",
    "\n",
    "    # Feature engineering: Create a binary feature for weekend departure\n",
    "    df['Weekend Departure'] = df['Weekday of Departure'].isin(['Saturday', 'Sunday']).astype(int)\n",
    "\n",
    "    # Feature engineering: Create a feature for visibility based on weather conditions\n",
    "    df['Visibility'] = np.where((df['Weather Main'].isin(['Fog', 'Mist', 'Haze', 'Snow', 'Rain'])), 'Low', 'High')\n",
    "\n",
    "    # # Convert Scheduled Arrival Time and Scheduled Departure Time to datetime before calculating duration\n",
    "    # df['Scheduled Arrival Time'] = pd.to_datetime(df['Scheduled Arrival Time'])\n",
    "    # df['Scheduled Departure Time'] = pd.to_datetime(df['Scheduled Departure Time'])\n",
    "    # df['Flight Duration (min)'] = (df['Scheduled Arrival Time'] - df['Scheduled Departure Time']).dt.total_seconds() / 60\n",
    "\n",
    "    # Drop unwanted columns\n",
    "    # df = df.drop(columns=['Type', 'Departure IATA Code', 'Scheduled Departure Time', 'Estimated Departure Time', \n",
    "    # 'Actual Departure Time', 'Arrival Terminal', 'Scheduled Arrival Time', 'Estimated Arrival Time', 'Flight Number',\n",
    "    # 'IATA Flight Number', 'Timestamp', 'Weather Description'])\n",
    "    \n",
    "    # Filter rows where 'Status' is not 'active'\n",
    "    df = df[df['Status'] == 'active']\n",
    "    \n",
    "    # Drop the 'Status' column as it's no longer needed\n",
    "    df = df.drop(columns=['Status'])\n",
    "    \n",
    "    return df\n",
    "df = custom_preprocess_data(df)\n",
    "\n",
    "categorical_cols = df.select_dtypes(include=['object', 'category']).columns\n",
    "\n",
    "# Define the categorical transformer with an OrdinalEncoder\n",
    "categorical_transformer = Pipeline([\n",
    "    ('imputer', SimpleImputer(strategy='most_frequent')),\n",
    "    ('ordinal', OrdinalEncoder(handle_unknown='use_encoded_value', unknown_value=-1))\n",
    "])\n",
    "\n",
    "# Only process categorical data and pass through the rest\n",
    "preprocessor = ColumnTransformer([\n",
    "    ('cat', categorical_transformer, categorical_cols)\n",
    "], remainder='passthrough')\n",
    "\n",
    "# Define the pipeline\n",
    "pipeline = Pipeline([\n",
    "    ('preprocessor', preprocessor)\n",
    "])\n",
    "\n",
    "# Apply the pipeline to the dataset\n",
    "X_processed = pipeline.fit_transform(df)\n",
    "feature_names = categorical_cols.tolist() + [col for col in df.columns if col not in categorical_cols]\n",
    "\n",
    "# Convert the processed data back to a DataFrame and specify the dtype\n",
    "processed_df = pd.DataFrame(X_processed, columns=feature_names, index=df.index)\n",
    "\n",
    "#\n",
    "\n",
    "for col in processed_df.columns:\n",
    "    processed_df[col] = pd.to_numeric(processed_df[col], errors='coerce')\n",
    "\n",
    "# Optionally, drop the 'Scheduled Departure Time' if no longer needed\n",
    "processed_df.drop(columns='Scheduled Departure Time', inplace=True)\n",
    "\n",
    "b4 = processed_df.copy()"
   ]
  },
  {
   "cell_type": "code",
   "execution_count": 184,
   "metadata": {},
   "outputs": [
    {
     "data": {
      "text/plain": [
       "Departure Gate           float64\n",
       "Arrival IATA Code        float64\n",
       "Airline Name             float64\n",
       "Weather Main             float64\n",
       "Departure Time of Day    float64\n",
       "Weekday of Departure     float64\n",
       "Weather Severity         float64\n",
       "Season                   float64\n",
       "Visibility               float64\n",
       "Departure Delay (min)      int64\n",
       "Temperature              float64\n",
       "Feels Like               float64\n",
       "Pressure                 float64\n",
       "Humidity                 float64\n",
       "Wind Speed               float64\n",
       "Wind Degree              float64\n",
       "Clouds                   float64\n",
       "Rain 1h                  float64\n",
       "Snow 1h                  float64\n",
       "Weekend Departure          int64\n",
       "dtype: object"
      ]
     },
     "execution_count": 184,
     "metadata": {},
     "output_type": "execute_result"
    }
   ],
   "source": [
    "b4.dtypes"
   ]
  },
  {
   "cell_type": "code",
   "execution_count": 205,
   "metadata": {},
   "outputs": [
    {
     "name": "stderr",
     "output_type": "stream",
     "text": [
      "C:\\Users\\PrudenceC\\AppData\\Local\\Temp\\ipykernel_27152\\804693375.py:54: SettingWithCopyWarning: \n",
      "A value is trying to be set on a copy of a slice from a DataFrame.\n",
      "Try using .loc[row_indexer,col_indexer] = value instead\n",
      "\n",
      "See the caveats in the documentation: https://pandas.pydata.org/pandas-docs/stable/user_guide/indexing.html#returning-a-view-versus-a-copy\n",
      "  df['Season'] = pd.cut(df['Scheduled Departure Time'].dt.month,\n",
      "C:\\Users\\PrudenceC\\AppData\\Local\\Temp\\ipykernel_27152\\804693375.py:60: SettingWithCopyWarning: \n",
      "A value is trying to be set on a copy of a slice from a DataFrame.\n",
      "Try using .loc[row_indexer,col_indexer] = value instead\n",
      "\n",
      "See the caveats in the documentation: https://pandas.pydata.org/pandas-docs/stable/user_guide/indexing.html#returning-a-view-versus-a-copy\n",
      "  df['Weekend Departure'] = df['Weekday of Departure'].isin(['Saturday', 'Sunday']).astype(int)\n",
      "C:\\Users\\PrudenceC\\AppData\\Local\\Temp\\ipykernel_27152\\804693375.py:63: SettingWithCopyWarning: \n",
      "A value is trying to be set on a copy of a slice from a DataFrame.\n",
      "Try using .loc[row_indexer,col_indexer] = value instead\n",
      "\n",
      "See the caveats in the documentation: https://pandas.pydata.org/pandas-docs/stable/user_guide/indexing.html#returning-a-view-versus-a-copy\n",
      "  df['Visibility'] = np.where((df['Weather Main'].isin(['Fog', 'Mist', 'Haze', 'Snow', 'Rain'])), 'Low', 'High')\n"
     ]
    }
   ],
   "source": [
    "df = new.copy()\n",
    "df = custom_preprocess_data(df)\n",
    "# Apply the pipeline to the dataset\n",
    "X_processed = pipeline.fit_transform(df)\n",
    "feature_names = categorical_cols.tolist() + [col for col in df.columns if col not in categorical_cols]\n",
    "\n",
    "# Convert the processed data back to a DataFrame and specify the dtype\n",
    "processed_df = pd.DataFrame(X_processed, columns=feature_names, index=df.index)\n",
    "\n",
    "\n",
    "for col in processed_df.columns:\n",
    "    processed_df[col] = pd.to_numeric(processed_df[col], errors='coerce')\n",
    "\n",
    "# Optionally, drop the 'Scheduled Departure Time' if no longer needed\n",
    "processed_df.drop(columns='Scheduled Departure Time', inplace=True)\n",
    "\n",
    "\n",
    "af = processed_df.copy()"
   ]
  },
  {
   "cell_type": "code",
   "execution_count": 206,
   "metadata": {},
   "outputs": [],
   "source": [
    "b4 = b4.dropna()\n",
    "af = af.dropna()"
   ]
  },
  {
   "cell_type": "code",
   "execution_count": 207,
   "metadata": {},
   "outputs": [
    {
     "name": "stdout",
     "output_type": "stream",
     "text": [
      "7375.303093465333\n"
     ]
    }
   ],
   "source": [
    "X1 = b4.drop(columns=['Departure Delay (min)'])\n",
    "y1 = b4['Departure Delay (min)']\n",
    "X2 = af.drop(columns=['Departure Delay (min)'])\n",
    "y2 = af['Departure Delay (min)']\n",
    "\n",
    "ensemble.fit(X1, y1)\n",
    "y_pred2 = ensemble.predict(X2)\n",
    "print(mean_squared_error(y2, y_pred2))"
   ]
  },
  {
   "cell_type": "code",
   "execution_count": 208,
   "metadata": {},
   "outputs": [
    {
     "name": "stdout",
     "output_type": "stream",
     "text": [
      "-0.017612971667058552\n"
     ]
    }
   ],
   "source": [
    "# print r^2\n",
    "from sklearn.metrics import mean_squared_error, r2_score\n",
    "print(r2_score(y2, y_pred2))"
   ]
  },
  {
   "cell_type": "markdown",
   "metadata": {},
   "source": [
    "### give more importance to more recent data"
   ]
  },
  {
   "cell_type": "code",
   "execution_count": 214,
   "metadata": {},
   "outputs": [
    {
     "name": "stderr",
     "output_type": "stream",
     "text": [
      "C:\\Users\\PrudenceC\\AppData\\Local\\Temp\\ipykernel_27152\\804693375.py:54: SettingWithCopyWarning: \n",
      "A value is trying to be set on a copy of a slice from a DataFrame.\n",
      "Try using .loc[row_indexer,col_indexer] = value instead\n",
      "\n",
      "See the caveats in the documentation: https://pandas.pydata.org/pandas-docs/stable/user_guide/indexing.html#returning-a-view-versus-a-copy\n",
      "  df['Season'] = pd.cut(df['Scheduled Departure Time'].dt.month,\n",
      "C:\\Users\\PrudenceC\\AppData\\Local\\Temp\\ipykernel_27152\\804693375.py:60: SettingWithCopyWarning: \n",
      "A value is trying to be set on a copy of a slice from a DataFrame.\n",
      "Try using .loc[row_indexer,col_indexer] = value instead\n",
      "\n",
      "See the caveats in the documentation: https://pandas.pydata.org/pandas-docs/stable/user_guide/indexing.html#returning-a-view-versus-a-copy\n",
      "  df['Weekend Departure'] = df['Weekday of Departure'].isin(['Saturday', 'Sunday']).astype(int)\n",
      "C:\\Users\\PrudenceC\\AppData\\Local\\Temp\\ipykernel_27152\\804693375.py:63: SettingWithCopyWarning: \n",
      "A value is trying to be set on a copy of a slice from a DataFrame.\n",
      "Try using .loc[row_indexer,col_indexer] = value instead\n",
      "\n",
      "See the caveats in the documentation: https://pandas.pydata.org/pandas-docs/stable/user_guide/indexing.html#returning-a-view-versus-a-copy\n",
      "  df['Visibility'] = np.where((df['Weather Main'].isin(['Fog', 'Mist', 'Haze', 'Snow', 'Rain'])), 'Low', 'High')\n"
     ]
    }
   ],
   "source": [
    "\n",
    "\n",
    "# Load your dataset\n",
    "df = pd.read_csv('final-weather-flight-data/full_dataset_YUL-Flights-Weather.csv')  # Load your dataset\n",
    "df['Scheduled Departure Time'] = pd.to_datetime(df['Scheduled Departure Time'])\n",
    "df = custom_preprocess_data(df)\n",
    "# Apply the pipeline to the dataset\n",
    "X_processed = pipeline.fit_transform(df)\n",
    "feature_names = categorical_cols.tolist() + [col for col in df.columns if col not in categorical_cols]\n",
    "\n",
    "# Convert the processed data back to a DataFrame and specify the dtype\n",
    "processed_df = pd.DataFrame(X_processed, columns=feature_names, index=df.index)\n",
    "\n",
    "\n",
    "for col in processed_df.columns.drop('Scheduled Departure Time'):\n",
    "    processed_df[col] = pd.to_numeric(processed_df[col], errors='coerce')\n",
    "full = processed_df.copy()"
   ]
  },
  {
   "cell_type": "code",
   "execution_count": 222,
   "metadata": {},
   "outputs": [
    {
     "name": "stdout",
     "output_type": "stream",
     "text": [
      "Mean Squared Error on Test Set: 7334.08968835703\n",
      "R2 Score on Test Set: -0.013535160013777636\n"
     ]
    }
   ],
   "source": [
    "\n",
    "# spilt the data by time\n",
    "full['Scheduled Departure Time'] = pd.to_datetime(full['Scheduled Departure Time'])\n",
    "full_train = full[(full['Scheduled Departure Time'] <= original['Scheduled Departure Time'].max()) ]\n",
    "full_test = full[(full['Scheduled Departure Time'] > original['Scheduled Departure Time'].max()) ]\n",
    "full_train, full_test = full_train.dropna(), full_test.dropna()\n",
    "# Shuffle the training data\n",
    "full_train = shuffle(full_train, random_state=42)\n",
    "\n",
    "# Sorting by 'Scheduled Departure Time'\n",
    "full_train.sort_values('Scheduled Departure Time', ascending=True, inplace=True)\n",
    "\n",
    "# Assign weights that increase linearly toward the most recent data\n",
    "weights = np.linspace(start=0.1, stop=1.0, num=len(full_train))\n",
    "\n",
    "# Prepare training features and target variable\n",
    "full_train_target = full_train['Departure Delay (min)']\n",
    "full_train_features = full_train.drop(columns=['Departure Delay (min)', 'Scheduled Departure Time'])\n",
    "\n",
    "# Initialize the regressors\n",
    "lr = LinearRegression()\n",
    "rf = RandomForestRegressor(n_estimators=100, random_state=42)\n",
    "gb = GradientBoostingRegressor(random_state=42)\n",
    "xgb_model = xgb.XGBRegressor(random_state=42)\n",
    "svm = SVR()\n",
    "\n",
    "# Create the VotingRegressor ensemble\n",
    "ensemble = VotingRegressor(\n",
    "    estimators=[\n",
    "        ('lr', lr),\n",
    "        ('rf', rf),\n",
    "        ('gb', gb),\n",
    "        ('xgb', xgb_model),\n",
    "        ('svm', svm)\n",
    "    ]\n",
    ")\n",
    "\n",
    "# Train the model with the assigned weights\n",
    "ensemble.fit(full_train_features, full_train_target, sample_weight=weights)\n",
    "\n",
    "# Prepare the test data (similarly to training data)\n",
    "full_test_target = full_test['Departure Delay (min)']\n",
    "full_test_features = full_test.drop(columns=['Departure Delay (min)', 'Scheduled Departure Time'])\n",
    "\n",
    "# Predict using the model\n",
    "predictions = ensemble.predict(full_test_features)\n",
    "\n",
    "# Evaluate the model (example using MSE)\n",
    "mse = mean_squared_error(full_test_target, predictions)\n",
    "print(f'Mean Squared Error on Test Set: {mse}')\n",
    "r2 = r2_score(full_test_target, predictions)\n",
    "print(f'R2 Score on Test Set: {r2}')"
   ]
  }
 ],
 "metadata": {
  "kernelspec": {
   "display_name": "Python 3",
   "language": "python",
   "name": "python3"
  },
  "language_info": {
   "codemirror_mode": {
    "name": "ipython",
    "version": 3
   },
   "file_extension": ".py",
   "mimetype": "text/x-python",
   "name": "python",
   "nbconvert_exporter": "python",
   "pygments_lexer": "ipython3",
   "version": "3.10.14"
  }
 },
 "nbformat": 4,
 "nbformat_minor": 2
}
