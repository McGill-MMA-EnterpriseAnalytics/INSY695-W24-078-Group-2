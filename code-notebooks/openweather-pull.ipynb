{
 "cells": [
  {
   "cell_type": "code",
   "execution_count": 1,
   "metadata": {},
   "outputs": [],
   "source": [
    "from pathlib import Path\n",
    "import glob\n",
    "import pandas as pd\n",
    "import requests\n",
    "import arrow                # i don't want to work with datetime"
   ]
  },
  {
   "cell_type": "code",
   "execution_count": 2,
   "metadata": {},
   "outputs": [],
   "source": [
    "# OpenWeather API Key\n",
    "api_key: str = \"8eff9bb75e22ae972cb3954d01acfccb\""
   ]
  },
  {
   "cell_type": "code",
   "execution_count": 3,
   "metadata": {},
   "outputs": [],
   "source": [
    "base_url: str = \"https://history.openweathermap.org/data/2.5/history/city\""
   ]
  },
  {
   "cell_type": "code",
   "execution_count": 6,
   "metadata": {},
   "outputs": [],
   "source": [
    "start_date = arrow.get(\"2024-01-24\")\n",
    "end_date = arrow.get(\"2024-04-22\")"
   ]
  },
  {
   "cell_type": "code",
   "execution_count": 7,
   "metadata": {},
   "outputs": [],
   "source": [
    "current_date = start_date\n",
    "\n",
    "while current_date <= end_date:\n",
    "\n",
    "    query_params:dict = {\n",
    "        \"id\": 6077243,\n",
    "        \"type\": \"hour\",\n",
    "        \"appid\": api_key,\n",
    "        \"start\": current_date.timestamp(),\n",
    "        \"units\": \"metric\",\n",
    "    }\n",
    "\n",
    "    response = requests.get(base_url, params = query_params)\n",
    "\n",
    "    if response.status_code == 200:\n",
    "\n",
    "        json_response = response.json()\n",
    "\n",
    "        weather_data = []\n",
    "\n",
    "        for entry in json_response['list']:\n",
    "\n",
    "            timestamp = arrow.get(entry['dt']).format(\"YYYY-MM-DD HH:mm:ss\")\n",
    "\n",
    "            weather_data.append({\n",
    "            'Timestamp': timestamp,\n",
    "            'Temperature': entry['main']['temp'],\n",
    "            'Feels Like': entry['main']['feels_like'],\n",
    "            'Temperature': entry['main']['temp'],\n",
    "            'Feels Like': entry['main']['feels_like'],\n",
    "            'Pressure': entry['main']['pressure'],\n",
    "            'Humidity': entry['main']['humidity'],\n",
    "            'Wind Speed': entry['wind']['speed'],\n",
    "            'Wind Degree': entry['wind'].get('deg', ''),\n",
    "            'Clouds': entry['clouds']['all'],\n",
    "            'Weather Main': entry['weather'][0]['main'],\n",
    "            'Weather Description': entry['weather'][0]['description'],\n",
    "            'Rain 1h': entry.get('rain', {}).get('1h', 0),\n",
    "            'Snow 1h': entry.get('snow', {}).get('1h', 0)\n",
    "            })\n",
    "        \n",
    "        df = pd.DataFrame(weather_data)\n",
    "\n",
    "        df.to_csv(f\"./weather-data/Enterprise-II-Weather-Data/YUL_Weather_{current_date.format('YYYY-MM-DD')}.csv\", index = False)\n",
    "\n",
    "    current_date = current_date.shift(days = 1)"
   ]
  },
  {
   "cell_type": "code",
   "execution_count": 8,
   "metadata": {},
   "outputs": [],
   "source": [
    "# Concatenating all of the output CSV files from the API pull into one big DataFrame\n",
    "\n",
    "weather_df = pd.DataFrame()\n",
    "\n",
    "for csv_file in glob.glob(\"./weather-data/Enterprise-II-Weather-Data/*.csv\"):\n",
    "\n",
    "    try:\n",
    "\n",
    "        file: pd.DataFrame = pd.read_csv(csv_file)\n",
    "\n",
    "        if not file.empty:\n",
    "\n",
    "            weather_df = pd.concat([weather_df, file], ignore_index = True)\n",
    "\n",
    "    except pd.errors.EmptyDataError:\n",
    "\n",
    "        print(f\"Skipping empty file: {csv_file}\")"
   ]
  },
  {
   "cell_type": "code",
   "execution_count": 10,
   "metadata": {},
   "outputs": [],
   "source": [
    "weather_df.to_csv('./weather-data/Enterprise-II-YUL-Full-Weather.csv', index = False)"
   ]
  }
 ],
 "metadata": {
  "kernelspec": {
   "display_name": "Python 3",
   "language": "python",
   "name": "python3"
  },
  "language_info": {
   "codemirror_mode": {
    "name": "ipython",
    "version": 3
   },
   "file_extension": ".py",
   "mimetype": "text/x-python",
   "name": "python",
   "nbconvert_exporter": "python",
   "pygments_lexer": "ipython3",
   "version": "3.11.8"
  }
 },
 "nbformat": 4,
 "nbformat_minor": 2
}
