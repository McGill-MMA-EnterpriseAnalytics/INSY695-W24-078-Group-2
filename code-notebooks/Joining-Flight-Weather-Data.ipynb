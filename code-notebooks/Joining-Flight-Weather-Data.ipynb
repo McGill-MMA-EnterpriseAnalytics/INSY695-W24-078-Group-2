{
 "cells": [
  {
   "cell_type": "code",
   "execution_count": 24,
   "metadata": {},
   "outputs": [],
   "source": [
    "from pathlib import Path\n",
    "import pandas as pd \n",
    "import arrow"
   ]
  },
  {
   "cell_type": "code",
   "execution_count": 25,
   "metadata": {},
   "outputs": [],
   "source": [
    "dataset_path = Path().absolute()"
   ]
  },
  {
   "cell_type": "code",
   "execution_count": 26,
   "metadata": {},
   "outputs": [],
   "source": [
    "def read_df(in_filepath: Path) -> pd.DataFrame:\n",
    "\n",
    "    return pd.read_csv(in_filepath)"
   ]
  },
  {
   "cell_type": "code",
   "execution_count": 27,
   "metadata": {},
   "outputs": [],
   "source": [
    "flight_path = dataset_path / \"flight_data\" / \"Enterprise-II-Data\" / \"concatenated_data\"\n",
    "weather_path = dataset_path / \"weather-data\"\n",
    "output_path = dataset_path / \"final-weather-flight-data\""
   ]
  },
  {
   "cell_type": "code",
   "execution_count": 28,
   "metadata": {},
   "outputs": [],
   "source": [
    "flights = read_df(flight_path/\"Full_Departures_Data.csv\")\n",
    "weather = read_df(weather_path / \"Enterprise-II-YUL-Full-Weather.csv\")"
   ]
  },
  {
   "cell_type": "code",
   "execution_count": 29,
   "metadata": {},
   "outputs": [
    {
     "data": {
      "text/html": [
       "<div>\n",
       "<style scoped>\n",
       "    .dataframe tbody tr th:only-of-type {\n",
       "        vertical-align: middle;\n",
       "    }\n",
       "\n",
       "    .dataframe tbody tr th {\n",
       "        vertical-align: top;\n",
       "    }\n",
       "\n",
       "    .dataframe thead th {\n",
       "        text-align: right;\n",
       "    }\n",
       "</style>\n",
       "<table border=\"1\" class=\"dataframe\">\n",
       "  <thead>\n",
       "    <tr style=\"text-align: right;\">\n",
       "      <th></th>\n",
       "      <th>Flight Status</th>\n",
       "      <th>Departure Airport</th>\n",
       "      <th>Departure Gate</th>\n",
       "      <th>Arrival IATA Code</th>\n",
       "      <th>Scheduled Departure</th>\n",
       "      <th>Actual Departure</th>\n",
       "      <th>Delay (in Minutes)</th>\n",
       "      <th>Airline Name</th>\n",
       "      <th>Flight Number</th>\n",
       "    </tr>\n",
       "  </thead>\n",
       "  <tbody>\n",
       "    <tr>\n",
       "      <th>0</th>\n",
       "      <td>landed</td>\n",
       "      <td>YUL</td>\n",
       "      <td>A63</td>\n",
       "      <td>DXB</td>\n",
       "      <td>2024-04-08T10:20:00+00:00</td>\n",
       "      <td>2024-04-08T10:28:00+00:00</td>\n",
       "      <td>8.0</td>\n",
       "      <td>Emirates</td>\n",
       "      <td>EK244</td>\n",
       "    </tr>\n",
       "    <tr>\n",
       "      <th>1</th>\n",
       "      <td>landed</td>\n",
       "      <td>YUL</td>\n",
       "      <td>C82</td>\n",
       "      <td>EWR</td>\n",
       "      <td>2024-04-08T08:15:00+00:00</td>\n",
       "      <td>2024-04-08T08:43:00+00:00</td>\n",
       "      <td>28.0</td>\n",
       "      <td>Air Canada</td>\n",
       "      <td>AC8938</td>\n",
       "    </tr>\n",
       "  </tbody>\n",
       "</table>\n",
       "</div>"
      ],
      "text/plain": [
       "  Flight Status Departure Airport Departure Gate Arrival IATA Code  \\\n",
       "0        landed               YUL            A63               DXB   \n",
       "1        landed               YUL            C82               EWR   \n",
       "\n",
       "         Scheduled Departure           Actual Departure  Delay (in Minutes)  \\\n",
       "0  2024-04-08T10:20:00+00:00  2024-04-08T10:28:00+00:00                 8.0   \n",
       "1  2024-04-08T08:15:00+00:00  2024-04-08T08:43:00+00:00                28.0   \n",
       "\n",
       "  Airline Name Flight Number  \n",
       "0     Emirates         EK244  \n",
       "1   Air Canada        AC8938  "
      ]
     },
     "execution_count": 29,
     "metadata": {},
     "output_type": "execute_result"
    }
   ],
   "source": [
    "flights.head(2)"
   ]
  },
  {
   "cell_type": "code",
   "execution_count": 30,
   "metadata": {},
   "outputs": [],
   "source": [
    "# can I write a function to do this? Yes. \n",
    "# writing it out to test if a vectorized operation is better than writing a function\n",
    "\n",
    "flights['Scheduled Departure'] = flights['Scheduled Departure'].apply(\n",
    "    lambda x: arrow.get(x).format('YYYY-MM-DD HH:00:00') if isinstance(x, str) else x)\n",
    "\n",
    "flights['Actual Departure'] = flights['Actual Departure'].apply(\n",
    "    lambda x: arrow.get(x).format('YYYY-MM-DD HH:00:00') if isinstance(x, str) else x)\n"
   ]
  },
  {
   "cell_type": "code",
   "execution_count": 32,
   "metadata": {},
   "outputs": [],
   "source": [
    "flights['Scheduled Departure'] = flights['Scheduled Departure'].apply(\n",
    "    lambda x: arrow.get(x).format(\"YYYY-MM-DD HH:00:00\") if pd.notna(x) else x)\n",
    "\n",
    "flights['Actual Departure'] = flights['Actual Departure'].apply(\n",
    "    lambda x: arrow.get(x).format(\"YYYY-MM-DD HH:00:00\") if pd.notna(x) else x)"
   ]
  },
  {
   "cell_type": "code",
   "execution_count": 34,
   "metadata": {},
   "outputs": [],
   "source": [
    "flights_and_weather = flights.merge(weather, how = \"left\", left_on = \"Scheduled Departure\", right_on = \"Timestamp\")"
   ]
  },
  {
   "cell_type": "code",
   "execution_count": 36,
   "metadata": {},
   "outputs": [],
   "source": [
    "flights_and_weather.to_csv(output_path / \"Enterprise-II-YUL-Flights-Weather.csv\", index = False)"
   ]
  }
 ],
 "metadata": {
  "kernelspec": {
   "display_name": "Python 3",
   "language": "python",
   "name": "python3"
  },
  "language_info": {
   "codemirror_mode": {
    "name": "ipython",
    "version": 3
   },
   "file_extension": ".py",
   "mimetype": "text/x-python",
   "name": "python",
   "nbconvert_exporter": "python",
   "pygments_lexer": "ipython3",
   "version": "3.11.8"
  }
 },
 "nbformat": 4,
 "nbformat_minor": 2
}
