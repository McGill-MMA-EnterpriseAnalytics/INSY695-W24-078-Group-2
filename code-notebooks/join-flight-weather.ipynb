{
 "cells": [
  {
   "cell_type": "code",
   "execution_count": 3,
   "metadata": {},
   "outputs": [],
   "source": [
    "from pathlib import Path\n",
    "import pandas as pd \n",
    "import arrow"
   ]
  },
  {
   "cell_type": "code",
   "execution_count": 4,
   "metadata": {},
   "outputs": [],
   "source": [
    "dataset_path = Path().absolute()"
   ]
  },
  {
   "cell_type": "code",
   "execution_count": 6,
   "metadata": {},
   "outputs": [],
   "source": [
    "def read_df(in_filepath: Path) -> pd.DataFrame:\n",
    "\n",
    "    return pd.read_csv(in_filepath)"
   ]
  },
  {
   "cell_type": "code",
   "execution_count": 27,
   "metadata": {},
   "outputs": [],
   "source": [
    "flight_path = dataset_path / \"flight_data\"\n",
    "weather_path = dataset_path / \"weather-data\"\n",
    "output_path = dataset_path / \"final-weather-flight-data\""
   ]
  },
  {
   "cell_type": "code",
   "execution_count": 15,
   "metadata": {},
   "outputs": [],
   "source": [
    "flights = read_df(flight_path/\"YUL-Departures-3months.csv\")\n",
    "weather = read_df(weather_path / \"YUL-3months-Full-Weather.csv\")"
   ]
  },
  {
   "cell_type": "code",
   "execution_count": 19,
   "metadata": {},
   "outputs": [],
   "source": [
    "# can I write a function to do this? Yes. \n",
    "# writing it out to test if a vectorized operation is better than writing a function\n",
    "\n",
    "flights['Scheduled Departure Time'] = flights['Scheduled Departure Time'].apply(\n",
    "    lambda x: arrow.get(x.replace('t', 'T')).format('YYYY-MM-DD HH:00:00') if isinstance(x, str) else x)\n",
    "\n",
    "flights['Estimated Departure Time'] = flights['Estimated Departure Time'].apply(\n",
    "    lambda x: arrow.get(x.replace('t', 'T')).format('YYYY-MM-DD HH:00:00') if isinstance(x, str) else x)\n",
    "\n",
    "flights['Actual Departure Time'] = flights['Actual Departure Time'].apply(\n",
    "    lambda x: arrow.get(x.replace('t', 'T')).format('YYYY-MM-DD HH:00:00') if isinstance(x, str) else x)\n"
   ]
  },
  {
   "cell_type": "code",
   "execution_count": 21,
   "metadata": {},
   "outputs": [],
   "source": [
    "flights['Scheduled Departure Time'] = flights['Scheduled Departure Time'].apply(\n",
    "    lambda x: arrow.get(x).format(\"YYYY-MM-DD HH:00:00\") if pd.notna(x) else x)\n",
    "\n",
    "flights['Estimated Departure Time'] = flights['Estimated Departure Time'].apply(\n",
    "    lambda x: arrow.get(x).format(\"YYYY-MM-DD HH:00:00\") if pd.notna(x) else x)\n",
    "\n",
    "flights['Actual Departure Time'] = flights['Actual Departure Time'].apply(\n",
    "    lambda x: arrow.get(x).format(\"YYYY-MM-DD HH:00:00\") if pd.notna(x) else x)"
   ]
  },
  {
   "cell_type": "code",
   "execution_count": 22,
   "metadata": {},
   "outputs": [
    {
     "data": {
      "text/html": [
       "<div>\n",
       "<style scoped>\n",
       "    .dataframe tbody tr th:only-of-type {\n",
       "        vertical-align: middle;\n",
       "    }\n",
       "\n",
       "    .dataframe tbody tr th {\n",
       "        vertical-align: top;\n",
       "    }\n",
       "\n",
       "    .dataframe thead th {\n",
       "        text-align: right;\n",
       "    }\n",
       "</style>\n",
       "<table border=\"1\" class=\"dataframe\">\n",
       "  <thead>\n",
       "    <tr style=\"text-align: right;\">\n",
       "      <th></th>\n",
       "      <th>Type</th>\n",
       "      <th>Status</th>\n",
       "      <th>Departure IATA Code</th>\n",
       "      <th>Departure Gate</th>\n",
       "      <th>Departure Delay (min)</th>\n",
       "      <th>Scheduled Departure Time</th>\n",
       "      <th>Estimated Departure Time</th>\n",
       "      <th>Actual Departure Time</th>\n",
       "      <th>Arrival IATA Code</th>\n",
       "      <th>Arrival Terminal</th>\n",
       "      <th>Scheduled Arrival Time</th>\n",
       "      <th>Estimated Arrival Time</th>\n",
       "      <th>Airline Name</th>\n",
       "      <th>Flight Number</th>\n",
       "      <th>IATA Flight Number</th>\n",
       "    </tr>\n",
       "  </thead>\n",
       "  <tbody>\n",
       "    <tr>\n",
       "      <th>0</th>\n",
       "      <td>departure</td>\n",
       "      <td>active</td>\n",
       "      <td>yul</td>\n",
       "      <td>a61</td>\n",
       "      <td>23</td>\n",
       "      <td>2024-01-12 19:00:00</td>\n",
       "      <td>2024-01-12 19:00:00</td>\n",
       "      <td>2024-01-12 19:00:00</td>\n",
       "      <td>lhr</td>\n",
       "      <td>2</td>\n",
       "      <td>2024-01-13t06:30:00.000</td>\n",
       "      <td>2024-01-13t06:11:00.000</td>\n",
       "      <td>aegean airlines</td>\n",
       "      <td>3089</td>\n",
       "      <td>a33089</td>\n",
       "    </tr>\n",
       "    <tr>\n",
       "      <th>1</th>\n",
       "      <td>departure</td>\n",
       "      <td>active</td>\n",
       "      <td>yul</td>\n",
       "      <td>a63</td>\n",
       "      <td>33</td>\n",
       "      <td>2024-01-12 19:00:00</td>\n",
       "      <td>2024-01-12 19:00:00</td>\n",
       "      <td>2024-01-12 19:00:00</td>\n",
       "      <td>cdg</td>\n",
       "      <td>2e</td>\n",
       "      <td>2024-01-13t08:05:00.000</td>\n",
       "      <td>2024-01-13t07:45:00.000</td>\n",
       "      <td>delta air lines</td>\n",
       "      <td>8612</td>\n",
       "      <td>dl8612</td>\n",
       "    </tr>\n",
       "    <tr>\n",
       "      <th>2</th>\n",
       "      <td>departure</td>\n",
       "      <td>active</td>\n",
       "      <td>yul</td>\n",
       "      <td>a57</td>\n",
       "      <td>0</td>\n",
       "      <td>2024-01-12 19:00:00</td>\n",
       "      <td>2024-01-12 19:00:00</td>\n",
       "      <td>NaN</td>\n",
       "      <td>ams</td>\n",
       "      <td>NaN</td>\n",
       "      <td>2024-01-13t08:05:00.000</td>\n",
       "      <td>NaN</td>\n",
       "      <td>air france</td>\n",
       "      <td>8276</td>\n",
       "      <td>af8276</td>\n",
       "    </tr>\n",
       "    <tr>\n",
       "      <th>3</th>\n",
       "      <td>departure</td>\n",
       "      <td>active</td>\n",
       "      <td>yul</td>\n",
       "      <td>a49</td>\n",
       "      <td>115</td>\n",
       "      <td>2024-01-12 19:00:00</td>\n",
       "      <td>2024-01-12 21:00:00</td>\n",
       "      <td>NaN</td>\n",
       "      <td>yyz</td>\n",
       "      <td>1</td>\n",
       "      <td>2024-01-12t20:46:00.000</td>\n",
       "      <td>NaN</td>\n",
       "      <td>azul</td>\n",
       "      <td>7807</td>\n",
       "      <td>ad7807</td>\n",
       "    </tr>\n",
       "    <tr>\n",
       "      <th>4</th>\n",
       "      <td>departure</td>\n",
       "      <td>active</td>\n",
       "      <td>yul</td>\n",
       "      <td>a6</td>\n",
       "      <td>30</td>\n",
       "      <td>2024-01-12 19:00:00</td>\n",
       "      <td>2024-01-12 19:00:00</td>\n",
       "      <td>NaN</td>\n",
       "      <td>yyz</td>\n",
       "      <td>3</td>\n",
       "      <td>2024-01-12t21:00:00.000</td>\n",
       "      <td>NaN</td>\n",
       "      <td>porter</td>\n",
       "      <td>130</td>\n",
       "      <td>p3130</td>\n",
       "    </tr>\n",
       "  </tbody>\n",
       "</table>\n",
       "</div>"
      ],
      "text/plain": [
       "        Type  Status Departure IATA Code Departure Gate  \\\n",
       "0  departure  active                 yul            a61   \n",
       "1  departure  active                 yul            a63   \n",
       "2  departure  active                 yul            a57   \n",
       "3  departure  active                 yul            a49   \n",
       "4  departure  active                 yul             a6   \n",
       "\n",
       "   Departure Delay (min) Scheduled Departure Time Estimated Departure Time  \\\n",
       "0                     23      2024-01-12 19:00:00      2024-01-12 19:00:00   \n",
       "1                     33      2024-01-12 19:00:00      2024-01-12 19:00:00   \n",
       "2                      0      2024-01-12 19:00:00      2024-01-12 19:00:00   \n",
       "3                    115      2024-01-12 19:00:00      2024-01-12 21:00:00   \n",
       "4                     30      2024-01-12 19:00:00      2024-01-12 19:00:00   \n",
       "\n",
       "  Actual Departure Time Arrival IATA Code Arrival Terminal  \\\n",
       "0   2024-01-12 19:00:00               lhr                2   \n",
       "1   2024-01-12 19:00:00               cdg               2e   \n",
       "2                   NaN               ams              NaN   \n",
       "3                   NaN               yyz                1   \n",
       "4                   NaN               yyz                3   \n",
       "\n",
       "    Scheduled Arrival Time   Estimated Arrival Time     Airline Name  \\\n",
       "0  2024-01-13t06:30:00.000  2024-01-13t06:11:00.000  aegean airlines   \n",
       "1  2024-01-13t08:05:00.000  2024-01-13t07:45:00.000  delta air lines   \n",
       "2  2024-01-13t08:05:00.000                      NaN       air france   \n",
       "3  2024-01-12t20:46:00.000                      NaN             azul   \n",
       "4  2024-01-12t21:00:00.000                      NaN           porter   \n",
       "\n",
       "   Flight Number IATA Flight Number  \n",
       "0           3089             a33089  \n",
       "1           8612             dl8612  \n",
       "2           8276             af8276  \n",
       "3           7807             ad7807  \n",
       "4            130              p3130  "
      ]
     },
     "execution_count": 22,
     "metadata": {},
     "output_type": "execute_result"
    }
   ],
   "source": [
    "flights.head(5)"
   ]
  },
  {
   "cell_type": "code",
   "execution_count": 24,
   "metadata": {},
   "outputs": [],
   "source": [
    "flights_and_weather = flights.merge(weather, how = \"left\", left_on = \"Scheduled Departure Time\", right_on = \"Timestamp\")"
   ]
  },
  {
   "cell_type": "code",
   "execution_count": 28,
   "metadata": {},
   "outputs": [],
   "source": [
    "flights_and_weather.to_csv(output_path / \"dataset_YUL-Flights-Weather.csv\", index = False)"
   ]
  },
  {
   "cell_type": "code",
   "execution_count": null,
   "metadata": {},
   "outputs": [],
   "source": []
  }
 ],
 "metadata": {
  "kernelspec": {
   "display_name": "Python 3",
   "language": "python",
   "name": "python3"
  },
  "language_info": {
   "codemirror_mode": {
    "name": "ipython",
    "version": 3
   },
   "file_extension": ".py",
   "mimetype": "text/x-python",
   "name": "python",
   "nbconvert_exporter": "python",
   "pygments_lexer": "ipython3",
   "version": "3.11.7"
  }
 },
 "nbformat": 4,
 "nbformat_minor": 2
}
