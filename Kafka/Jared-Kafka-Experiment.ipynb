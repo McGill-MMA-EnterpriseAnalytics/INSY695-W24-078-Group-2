{
 "cells": [
  {
   "cell_type": "code",
   "execution_count": 0,
   "metadata": {
    "application/vnd.databricks.v1+cell": {
     "cellMetadata": {
      "byteLimit": 2048000,
      "rowLimit": 10000
     },
     "inputWidgets": {},
     "nuid": "2c65d477-a01a-444b-969f-560fa341c0c9",
     "showTitle": false,
     "title": ""
    }
   },
   "outputs": [
    {
     "output_type": "stream",
     "name": "stdout",
     "output_type": "stream",
     "text": [
      "\u001B[33mWARNING: Package(s) not found: confluent-kafka\u001B[0m\u001B[33m\n\u001B[0m"
     ]
    },
    {
     "output_type": "display_data",
     "data": {
      "text/plain": [
       "\u001B[0;31m---------------------------------------------------------------------------\u001B[0m\n",
       "\u001B[0;31mCalledProcessError\u001B[0m                        Traceback (most recent call last)\n",
       "File \u001B[0;32m<command-2359194822492251>, line 1\u001B[0m\n",
       "\u001B[0;32m----> 1\u001B[0m get_ipython()\u001B[38;5;241m.\u001B[39mrun_line_magic(\u001B[38;5;124m'\u001B[39m\u001B[38;5;124mpip\u001B[39m\u001B[38;5;124m'\u001B[39m, \u001B[38;5;124m'\u001B[39m\u001B[38;5;124mshow confluent-kafka\u001B[39m\u001B[38;5;124m'\u001B[39m)\n",
       "\n",
       "File \u001B[0;32m/databricks/python/lib/python3.11/site-packages/IPython/core/interactiveshell.py:2432\u001B[0m, in \u001B[0;36mInteractiveShell.run_line_magic\u001B[0;34m(self, magic_name, line, _stack_depth)\u001B[0m\n",
       "\u001B[1;32m   2430\u001B[0m     kwargs[\u001B[38;5;124m'\u001B[39m\u001B[38;5;124mlocal_ns\u001B[39m\u001B[38;5;124m'\u001B[39m] \u001B[38;5;241m=\u001B[39m \u001B[38;5;28mself\u001B[39m\u001B[38;5;241m.\u001B[39mget_local_scope(stack_depth)\n",
       "\u001B[1;32m   2431\u001B[0m \u001B[38;5;28;01mwith\u001B[39;00m \u001B[38;5;28mself\u001B[39m\u001B[38;5;241m.\u001B[39mbuiltin_trap:\n",
       "\u001B[0;32m-> 2432\u001B[0m     result \u001B[38;5;241m=\u001B[39m fn(\u001B[38;5;241m*\u001B[39margs, \u001B[38;5;241m*\u001B[39m\u001B[38;5;241m*\u001B[39mkwargs)\n",
       "\u001B[1;32m   2434\u001B[0m \u001B[38;5;66;03m# The code below prevents the output from being displayed\u001B[39;00m\n",
       "\u001B[1;32m   2435\u001B[0m \u001B[38;5;66;03m# when using magics with decorator @output_can_be_silenced\u001B[39;00m\n",
       "\u001B[1;32m   2436\u001B[0m \u001B[38;5;66;03m# when the last Python token in the expression is a ';'.\u001B[39;00m\n",
       "\u001B[1;32m   2437\u001B[0m \u001B[38;5;28;01mif\u001B[39;00m \u001B[38;5;28mgetattr\u001B[39m(fn, magic\u001B[38;5;241m.\u001B[39mMAGIC_OUTPUT_CAN_BE_SILENCED, \u001B[38;5;28;01mFalse\u001B[39;00m):\n",
       "\n",
       "File \u001B[0;32m/databricks/python_shell/dbruntime/PipMagicOverrides.py:33\u001B[0m, in \u001B[0;36mPipMagicOverrides.pip\u001B[0;34m(self, line)\u001B[0m\n",
       "\u001B[1;32m     31\u001B[0m \u001B[38;5;129m@line_magic\u001B[39m\n",
       "\u001B[1;32m     32\u001B[0m \u001B[38;5;28;01mdef\u001B[39;00m \u001B[38;5;21mpip\u001B[39m(\u001B[38;5;28mself\u001B[39m, line):\n",
       "\u001B[0;32m---> 33\u001B[0m     \u001B[38;5;28mself\u001B[39m\u001B[38;5;241m.\u001B[39mpipMagicHandler\u001B[38;5;241m.\u001B[39mrunCmd(\u001B[38;5;124m\"\u001B[39m\u001B[38;5;124mpip\u001B[39m\u001B[38;5;124m\"\u001B[39m, line)\n",
       "\n",
       "File \u001B[0;32m/databricks/python_shell/dbruntime/PipMagicOverrides.py:59\u001B[0m, in \u001B[0;36mPipMagicHandler.runCmd\u001B[0;34m(self, magicCmd, line)\u001B[0m\n",
       "\u001B[1;32m     57\u001B[0m     \u001B[38;5;28mprint\u001B[39m(PYTHON_RESTART_WARNING)\n",
       "\u001B[1;32m     58\u001B[0m \u001B[38;5;28;01mif\u001B[39;00m parsedResult\u001B[38;5;241m.\u001B[39mrewrittenCommand():\n",
       "\u001B[0;32m---> 59\u001B[0m     \u001B[38;5;28mself\u001B[39m\u001B[38;5;241m.\u001B[39mexecutePipCommand(parsedResult)\n",
       "\u001B[1;32m     60\u001B[0m envManager\u001B[38;5;241m.\u001B[39mpostExecute(parsedResult)\n",
       "\u001B[1;32m     61\u001B[0m \u001B[38;5;28;01mif\u001B[39;00m parsedResult\u001B[38;5;241m.\u001B[39misMutation():\n",
       "\u001B[1;32m     62\u001B[0m     \u001B[38;5;66;03m# double print this output is at the end so it is more\u001B[39;00m\n",
       "\u001B[1;32m     63\u001B[0m     \u001B[38;5;66;03m# likely to be seen\u001B[39;00m\n",
       "\n",
       "File \u001B[0;32m/databricks/python_shell/dbruntime/PipMagicOverrides.py:118\u001B[0m, in \u001B[0;36mPipMagicHandler.executePipCommand\u001B[0;34m(self, result)\u001B[0m\n",
       "\u001B[1;32m    116\u001B[0m     sys\u001B[38;5;241m.\u001B[39mstdout\u001B[38;5;241m.\u001B[39mflush()\n",
       "\u001B[1;32m    117\u001B[0m     \u001B[38;5;28;01mif\u001B[39;00m returncode \u001B[38;5;241m!=\u001B[39m \u001B[38;5;241m0\u001B[39m:\n",
       "\u001B[0;32m--> 118\u001B[0m         \u001B[38;5;28;01mraise\u001B[39;00m subprocess\u001B[38;5;241m.\u001B[39mCalledProcessError(returncode, origCmd)\n",
       "\u001B[1;32m    119\u001B[0m \u001B[38;5;28;01mfinally\u001B[39;00m:\n",
       "\u001B[1;32m    120\u001B[0m     end \u001B[38;5;241m=\u001B[39m time\u001B[38;5;241m.\u001B[39mtime()\n",
       "\n",
       "\u001B[0;31mCalledProcessError\u001B[0m: Command 'pip --disable-pip-version-check show confluent-kafka' returned non-zero exit status 1."
      ]
     },
     "metadata": {
      "application/vnd.databricks.v1+output": {
       "addedWidgets": {},
       "arguments": {},
       "datasetInfos": [],
       "jupyterProps": {
        "ename": "CalledProcessError",
        "evalue": "Command 'pip --disable-pip-version-check show confluent-kafka' returned non-zero exit status 1."
       },
       "metadata": {
        "errorSummary": "<span class='ansi-red-fg'>CalledProcessError</span>: Command 'pip --disable-pip-version-check show confluent-kafka' returned non-zero exit status 1."
       },
       "removedWidgets": [],
       "sqlProps": null,
       "stackFrames": [
        "\u001B[0;31m---------------------------------------------------------------------------\u001B[0m",
        "\u001B[0;31mCalledProcessError\u001B[0m                        Traceback (most recent call last)",
        "File \u001B[0;32m<command-2359194822492251>, line 1\u001B[0m\n\u001B[0;32m----> 1\u001B[0m get_ipython()\u001B[38;5;241m.\u001B[39mrun_line_magic(\u001B[38;5;124m'\u001B[39m\u001B[38;5;124mpip\u001B[39m\u001B[38;5;124m'\u001B[39m, \u001B[38;5;124m'\u001B[39m\u001B[38;5;124mshow confluent-kafka\u001B[39m\u001B[38;5;124m'\u001B[39m)\n",
        "File \u001B[0;32m/databricks/python/lib/python3.11/site-packages/IPython/core/interactiveshell.py:2432\u001B[0m, in \u001B[0;36mInteractiveShell.run_line_magic\u001B[0;34m(self, magic_name, line, _stack_depth)\u001B[0m\n\u001B[1;32m   2430\u001B[0m     kwargs[\u001B[38;5;124m'\u001B[39m\u001B[38;5;124mlocal_ns\u001B[39m\u001B[38;5;124m'\u001B[39m] \u001B[38;5;241m=\u001B[39m \u001B[38;5;28mself\u001B[39m\u001B[38;5;241m.\u001B[39mget_local_scope(stack_depth)\n\u001B[1;32m   2431\u001B[0m \u001B[38;5;28;01mwith\u001B[39;00m \u001B[38;5;28mself\u001B[39m\u001B[38;5;241m.\u001B[39mbuiltin_trap:\n\u001B[0;32m-> 2432\u001B[0m     result \u001B[38;5;241m=\u001B[39m fn(\u001B[38;5;241m*\u001B[39margs, \u001B[38;5;241m*\u001B[39m\u001B[38;5;241m*\u001B[39mkwargs)\n\u001B[1;32m   2434\u001B[0m \u001B[38;5;66;03m# The code below prevents the output from being displayed\u001B[39;00m\n\u001B[1;32m   2435\u001B[0m \u001B[38;5;66;03m# when using magics with decorator @output_can_be_silenced\u001B[39;00m\n\u001B[1;32m   2436\u001B[0m \u001B[38;5;66;03m# when the last Python token in the expression is a ';'.\u001B[39;00m\n\u001B[1;32m   2437\u001B[0m \u001B[38;5;28;01mif\u001B[39;00m \u001B[38;5;28mgetattr\u001B[39m(fn, magic\u001B[38;5;241m.\u001B[39mMAGIC_OUTPUT_CAN_BE_SILENCED, \u001B[38;5;28;01mFalse\u001B[39;00m):\n",
        "File \u001B[0;32m/databricks/python_shell/dbruntime/PipMagicOverrides.py:33\u001B[0m, in \u001B[0;36mPipMagicOverrides.pip\u001B[0;34m(self, line)\u001B[0m\n\u001B[1;32m     31\u001B[0m \u001B[38;5;129m@line_magic\u001B[39m\n\u001B[1;32m     32\u001B[0m \u001B[38;5;28;01mdef\u001B[39;00m \u001B[38;5;21mpip\u001B[39m(\u001B[38;5;28mself\u001B[39m, line):\n\u001B[0;32m---> 33\u001B[0m     \u001B[38;5;28mself\u001B[39m\u001B[38;5;241m.\u001B[39mpipMagicHandler\u001B[38;5;241m.\u001B[39mrunCmd(\u001B[38;5;124m\"\u001B[39m\u001B[38;5;124mpip\u001B[39m\u001B[38;5;124m\"\u001B[39m, line)\n",
        "File \u001B[0;32m/databricks/python_shell/dbruntime/PipMagicOverrides.py:59\u001B[0m, in \u001B[0;36mPipMagicHandler.runCmd\u001B[0;34m(self, magicCmd, line)\u001B[0m\n\u001B[1;32m     57\u001B[0m     \u001B[38;5;28mprint\u001B[39m(PYTHON_RESTART_WARNING)\n\u001B[1;32m     58\u001B[0m \u001B[38;5;28;01mif\u001B[39;00m parsedResult\u001B[38;5;241m.\u001B[39mrewrittenCommand():\n\u001B[0;32m---> 59\u001B[0m     \u001B[38;5;28mself\u001B[39m\u001B[38;5;241m.\u001B[39mexecutePipCommand(parsedResult)\n\u001B[1;32m     60\u001B[0m envManager\u001B[38;5;241m.\u001B[39mpostExecute(parsedResult)\n\u001B[1;32m     61\u001B[0m \u001B[38;5;28;01mif\u001B[39;00m parsedResult\u001B[38;5;241m.\u001B[39misMutation():\n\u001B[1;32m     62\u001B[0m     \u001B[38;5;66;03m# double print this output is at the end so it is more\u001B[39;00m\n\u001B[1;32m     63\u001B[0m     \u001B[38;5;66;03m# likely to be seen\u001B[39;00m\n",
        "File \u001B[0;32m/databricks/python_shell/dbruntime/PipMagicOverrides.py:118\u001B[0m, in \u001B[0;36mPipMagicHandler.executePipCommand\u001B[0;34m(self, result)\u001B[0m\n\u001B[1;32m    116\u001B[0m     sys\u001B[38;5;241m.\u001B[39mstdout\u001B[38;5;241m.\u001B[39mflush()\n\u001B[1;32m    117\u001B[0m     \u001B[38;5;28;01mif\u001B[39;00m returncode \u001B[38;5;241m!=\u001B[39m \u001B[38;5;241m0\u001B[39m:\n\u001B[0;32m--> 118\u001B[0m         \u001B[38;5;28;01mraise\u001B[39;00m subprocess\u001B[38;5;241m.\u001B[39mCalledProcessError(returncode, origCmd)\n\u001B[1;32m    119\u001B[0m \u001B[38;5;28;01mfinally\u001B[39;00m:\n\u001B[1;32m    120\u001B[0m     end \u001B[38;5;241m=\u001B[39m time\u001B[38;5;241m.\u001B[39mtime()\n",
        "\u001B[0;31mCalledProcessError\u001B[0m: Command 'pip --disable-pip-version-check show confluent-kafka' returned non-zero exit status 1."
       ],
       "type": "baseError"
      }
     },
     "output_type": "display_data"
    }
   ],
   "source": [
    "!pip show confluent-kafka"
   ]
  },
  {
   "cell_type": "code",
   "execution_count": 0,
   "metadata": {
    "application/vnd.databricks.v1+cell": {
     "cellMetadata": {
      "byteLimit": 2048000,
      "rowLimit": 10000
     },
     "inputWidgets": {},
     "nuid": "2c10b052-2d03-4b2a-be57-9f2b943dbde9",
     "showTitle": false,
     "title": ""
    }
   },
   "outputs": [
    {
     "output_type": "stream",
     "name": "stdout",
     "output_type": "stream",
     "text": [
      "\u001B[43mNote: you may need to restart the kernel using dbutils.library.restartPython() to use updated packages.\u001B[0m\nCollecting confluent-kafka\n  Obtaining dependency information for confluent-kafka from https://files.pythonhosted.org/packages/7b/7a/67ee8dedaa6941841a2425bc140a401ad21ad4fb011280771865db7d460e/confluent_kafka-2.3.0-cp311-cp311-manylinux_2_17_x86_64.manylinux2014_x86_64.whl.metadata\n  Using cached confluent_kafka-2.3.0-cp311-cp311-manylinux_2_17_x86_64.manylinux2014_x86_64.whl.metadata (2.3 kB)\nUsing cached confluent_kafka-2.3.0-cp311-cp311-manylinux_2_17_x86_64.manylinux2014_x86_64.whl (4.0 MB)\nInstalling collected packages: confluent-kafka\nSuccessfully installed confluent-kafka-2.3.0\n\u001B[43mNote: you may need to restart the kernel using dbutils.library.restartPython() to use updated packages.\u001B[0m\n"
     ]
    }
   ],
   "source": [
    "!pip install confluent-kafka"
   ]
  },
  {
   "cell_type": "code",
   "execution_count": 0,
   "metadata": {
    "application/vnd.databricks.v1+cell": {
     "cellMetadata": {
      "byteLimit": 2048000,
      "rowLimit": 10000
     },
     "inputWidgets": {},
     "nuid": "dc097e12-04c6-440a-ad89-6e82ce62f2e4",
     "showTitle": false,
     "title": ""
    }
   },
   "outputs": [
    {
     "output_type": "stream",
     "name": "stdout",
     "output_type": "stream",
     "text": [
      "Name: confluent-kafka\nVersion: 2.3.0\nSummary: Confluent's Python client for Apache Kafka\nHome-page: https://github.com/confluentinc/confluent-kafka-python\nAuthor: Confluent Inc\nAuthor-email: support@confluent.io\nLicense: \nLocation: /local_disk0/.ephemeral_nfs/envs/pythonEnv-9b54e110-65bc-48b1-959b-0e4693e1f9a4/lib/python3.11/site-packages\nRequires: \nRequired-by: \n"
     ]
    }
   ],
   "source": [
    "!pip show confluent-kafka"
   ]
  },
  {
   "cell_type": "code",
   "execution_count": 0,
   "metadata": {
    "application/vnd.databricks.v1+cell": {
     "cellMetadata": {
      "byteLimit": 2048000,
      "rowLimit": 10000
     },
     "inputWidgets": {},
     "nuid": "cc6cd082-9211-4102-817a-9029646a4593",
     "showTitle": false,
     "title": ""
    }
   },
   "outputs": [],
   "source": [
    "# Testing to see if the PySpark Python API import is working\n",
    "\n",
    "from pyspark.sql import functions\n",
    "from pyspark.sql import *\n",
    "from pyspark.sql.types import StructType, StringType, IntegerType\n",
    "from pyspark.sql.functions import col, from_json\n"
   ]
  },
  {
   "cell_type": "code",
   "execution_count": 0,
   "metadata": {
    "application/vnd.databricks.v1+cell": {
     "cellMetadata": {
      "byteLimit": 2048000,
      "rowLimit": 10000
     },
     "inputWidgets": {},
     "nuid": "1239fd1f-5b40-4e8c-b963-e2b2cd5275d7",
     "showTitle": false,
     "title": ""
    }
   },
   "outputs": [],
   "source": [
    "# Setting up the Schema\n",
    "schema = StructType() \\\n",
    "    .add(\"flight_status\", StringType()) \\\n",
    "    .add(\"departure_airport\", StringType()) \\\n",
    "    .add(\"departure_gate\", StringType()) \\\n",
    "    .add(\"arrival_airport\", StringType()) \\\n",
    "    .add(\"scheduled_departure\", StringType()) \\\n",
    "    .add(\"actual_departure\", StringType()) \\\n",
    "    .add(\"delay_minutes\", IntegerType()) \\\n",
    "    .add(\"airline_name\", StringType()) \\\n",
    "    .add(\"flight_number\", StringType())"
   ]
  },
  {
   "cell_type": "markdown",
   "metadata": {
    "application/vnd.databricks.v1+cell": {
     "cellMetadata": {
      "byteLimit": 2048000,
      "rowLimit": 10000
     },
     "inputWidgets": {},
     "nuid": "597ade55-273a-48de-a399-f4615c27e243",
     "showTitle": false,
     "title": ""
    }
   },
   "source": [
    "\n",
    "## 2.1 Loading Topic Data from Confluent"
   ]
  },
  {
   "cell_type": "code",
   "execution_count": 0,
   "metadata": {
    "application/vnd.databricks.v1+cell": {
     "cellMetadata": {
      "byteLimit": 2048000,
      "rowLimit": 10000
     },
     "inputWidgets": {},
     "nuid": "1cc011f1-1773-449d-9715-1ad19f051761",
     "showTitle": false,
     "title": ""
    }
   },
   "outputs": [
    {
     "output_type": "display_data",
     "data": {
      "text/html": [
       "<style scoped>\n",
       "  .table-result-container {\n",
       "    max-height: 300px;\n",
       "    overflow: auto;\n",
       "  }\n",
       "  table, th, td {\n",
       "    border: 1px solid black;\n",
       "    border-collapse: collapse;\n",
       "  }\n",
       "  th, td {\n",
       "    padding: 5px;\n",
       "  }\n",
       "  th {\n",
       "    text-align: left;\n",
       "  }\n",
       "</style><div class='table-result-container'><table class='table-result'><thead style='background-color: white'><tr><th>key</th><th>value</th><th>topic</th><th>partition</th><th>offset</th><th>timestamp</th><th>timestampType</th></tr></thead><tbody><tr><td>QUM4NTgx</td><td>eyJmbGlnaHRfc3RhdHVzIjogImxhbmRlZCIsICJkZXBhcnR1cmVfYWlycG9ydCI6ICJZVUwiLCAiZGVwYXJ0dXJlX2dhdGUiOiAiQzg5IiwgImFycml2YWxfYWlycG9ydCI6ICJEVFciLCAic2NoZWR1bGVkX2RlcGFydHVyZSI= (truncated)</td><td>departures-data-topic</td><td>3</td><td>0</td><td>2024-04-22T20:33:16.866Z</td><td>0</td></tr><tr><td>REw1MzY3</td><td>eyJmbGlnaHRfc3RhdHVzIjogImxhbmRlZCIsICJkZXBhcnR1cmVfYWlycG9ydCI6ICJZVUwiLCAiZGVwYXJ0dXJlX2dhdGUiOiAiQzg0IiwgImFycml2YWxfYWlycG9ydCI6ICJEVFciLCAic2NoZWR1bGVkX2RlcGFydHVyZSI= (truncated)</td><td>departures-data-topic</td><td>3</td><td>1</td><td>2024-04-22T20:33:16.866Z</td><td>0</td></tr><tr><td>Tm9uZQ==</td><td>eyJmbGlnaHRfc3RhdHVzIjogInNjaGVkdWxlZCIsICJkZXBhcnR1cmVfYWlycG9ydCI6ICJZVUwiLCAiZGVwYXJ0dXJlX2dhdGUiOiBudWxsLCAiYXJyaXZhbF9haXJwb3J0IjogIkVXUiIsICJzY2hlZHVsZWRfZGVwYXJ0dXI= (truncated)</td><td>departures-data-topic</td><td>3</td><td>2</td><td>2024-04-22T20:33:16.866Z</td><td>0</td></tr><tr><td>QUM4OTQy</td><td>eyJmbGlnaHRfc3RhdHVzIjogImxhbmRlZCIsICJkZXBhcnR1cmVfYWlycG9ydCI6ICJZVUwiLCAiZGVwYXJ0dXJlX2dhdGUiOiAiQzc0IiwgImFycml2YWxfYWlycG9ydCI6ICJFV1IiLCAic2NoZWR1bGVkX2RlcGFydHVyZSI= (truncated)</td><td>departures-data-topic</td><td>3</td><td>3</td><td>2024-04-22T20:33:16.866Z</td><td>0</td></tr><tr><td>Tm9uZQ==</td><td>eyJmbGlnaHRfc3RhdHVzIjogImxhbmRlZCIsICJkZXBhcnR1cmVfYWlycG9ydCI6ICJZVUwiLCAiZGVwYXJ0dXJlX2dhdGUiOiBudWxsLCAiYXJyaXZhbF9haXJwb3J0IjogIkZMTCIsICJzY2hlZHVsZWRfZGVwYXJ0dXJlIjo= (truncated)</td><td>departures-data-topic</td><td>3</td><td>4</td><td>2024-04-22T20:33:16.866Z</td><td>0</td></tr><tr><td>UlYxNjAw</td><td>eyJmbGlnaHRfc3RhdHVzIjogImxhbmRlZCIsICJkZXBhcnR1cmVfYWlycG9ydCI6ICJZVUwiLCAiZGVwYXJ0dXJlX2dhdGUiOiAiQzc3IiwgImFycml2YWxfYWlycG9ydCI6ICJGTEwiLCAic2NoZWR1bGVkX2RlcGFydHVyZSI= (truncated)</td><td>departures-data-topic</td><td>3</td><td>5</td><td>2024-04-22T20:33:16.866Z</td><td>0</td></tr><tr><td>QUM4NDQ=</td><td>eyJmbGlnaHRfc3RhdHVzIjogImxhbmRlZCIsICJkZXBhcnR1cmVfYWlycG9ydCI6ICJZVUwiLCAiZGVwYXJ0dXJlX2dhdGUiOiAiQTYzIiwgImFycml2YWxfYWlycG9ydCI6ICJGUkEiLCAic2NoZWR1bGVkX2RlcGFydHVyZSI= (truncated)</td><td>departures-data-topic</td><td>3</td><td>6</td><td>2024-04-22T20:33:16.866Z</td><td>0</td></tr><tr><td>Tm9uZQ==</td><td>eyJmbGlnaHRfc3RhdHVzIjogImxhbmRlZCIsICJkZXBhcnR1cmVfYWlycG9ydCI6ICJZVUwiLCAiZGVwYXJ0dXJlX2dhdGUiOiBudWxsLCAiYXJyaXZhbF9haXJwb3J0IjogIkpBWCIsICJzY2hlZHVsZWRfZGVwYXJ0dXJlIjo= (truncated)</td><td>departures-data-topic</td><td>3</td><td>7</td><td>2024-04-22T20:33:16.866Z</td><td>0</td></tr><tr><td>QUM4OTQ2</td><td>eyJmbGlnaHRfc3RhdHVzIjogInNjaGVkdWxlZCIsICJkZXBhcnR1cmVfYWlycG9ydCI6ICJZVUwiLCAiZGVwYXJ0dXJlX2dhdGUiOiAiQzg4IiwgImFycml2YWxfYWlycG9ydCI6ICJFV1IiLCAic2NoZWR1bGVkX2RlcGFydHU= (truncated)</td><td>departures-data-topic</td><td>4</td><td>0</td><td>2024-04-22T20:33:16.866Z</td><td>0</td></tr><tr><td>VUEzNjgw</td><td>eyJmbGlnaHRfc3RhdHVzIjogImxhbmRlZCIsICJkZXBhcnR1cmVfYWlycG9ydCI6ICJZVUwiLCAiZGVwYXJ0dXJlX2dhdGUiOiAiQzgyIiwgImFycml2YWxfYWlycG9ydCI6ICJFV1IiLCAic2NoZWR1bGVkX2RlcGFydHVyZSI= (truncated)</td><td>departures-data-topic</td><td>4</td><td>1</td><td>2024-04-22T20:33:16.866Z</td><td>0</td></tr><tr><td>REw0ODY5</td><td>eyJmbGlnaHRfc3RhdHVzIjogImxhbmRlZCIsICJkZXBhcnR1cmVfYWlycG9ydCI6ICJZVUwiLCAiZGVwYXJ0dXJlX2dhdGUiOiAiQzg3IiwgImFycml2YWxfYWlycG9ydCI6ICJEVFciLCAic2NoZWR1bGVkX2RlcGFydHVyZSI= (truncated)</td><td>departures-data-topic</td><td>2</td><td>0</td><td>2024-04-22T20:33:16.866Z</td><td>0</td></tr><tr><td>RUsyNDQ=</td><td>eyJmbGlnaHRfc3RhdHVzIjogImxhbmRlZCIsICJkZXBhcnR1cmVfYWlycG9ydCI6ICJZVUwiLCAiZGVwYXJ0dXJlX2dhdGUiOiAiQTYzIiwgImFycml2YWxfYWlycG9ydCI6ICJEWEIiLCAic2NoZWR1bGVkX2RlcGFydHVyZSI= (truncated)</td><td>departures-data-topic</td><td>2</td><td>1</td><td>2024-04-22T20:33:16.866Z</td><td>0</td></tr><tr><td>QUM5NDY=</td><td>eyJmbGlnaHRfc3RhdHVzIjogImxhbmRlZCIsICJkZXBhcnR1cmVfYWlycG9ydCI6ICJZVUwiLCAiZGVwYXJ0dXJlX2dhdGUiOiBudWxsLCAiYXJyaXZhbF9haXJwb3J0IjogIkVXUiIsICJzY2hlZHVsZWRfZGVwYXJ0dXJlIjo= (truncated)</td><td>departures-data-topic</td><td>2</td><td>2</td><td>2024-04-22T20:33:16.866Z</td><td>0</td></tr><tr><td>VUEzNDU2</td><td>eyJmbGlnaHRfc3RhdHVzIjogImxhbmRlZCIsICJkZXBhcnR1cmVfYWlycG9ydCI6ICJZVUwiLCAiZGVwYXJ0dXJlX2dhdGUiOiAiQzg0IiwgImFycml2YWxfYWlycG9ydCI6ICJFV1IiLCAic2NoZWR1bGVkX2RlcGFydHVyZSI= (truncated)</td><td>departures-data-topic</td><td>2</td><td>3</td><td>2024-04-22T20:33:16.866Z</td><td>0</td></tr><tr><td>QUMxMDAy</td><td>eyJmbGlnaHRfc3RhdHVzIjogImxhbmRlZCIsICJkZXBhcnR1cmVfYWlycG9ydCI6ICJZVUwiLCAiZGVwYXJ0dXJlX2dhdGUiOiAiQzczIiwgImFycml2YWxfYWlycG9ydCI6ICJGTEwiLCAic2NoZWR1bGVkX2RlcGFydHVyZSI= (truncated)</td><td>departures-data-topic</td><td>2</td><td>4</td><td>2024-04-22T20:33:16.866Z</td><td>0</td></tr><tr><td>UlYxNjA2</td><td>eyJmbGlnaHRfc3RhdHVzIjogImxhbmRlZCIsICJkZXBhcnR1cmVfYWlycG9ydCI6ICJZVUwiLCAiZGVwYXJ0dXJlX2dhdGUiOiAiQzc3IiwgImFycml2YWxfYWlycG9ydCI6ICJGTEwiLCAic2NoZWR1bGVkX2RlcGFydHVyZSI= (truncated)</td><td>departures-data-topic</td><td>2</td><td>5</td><td>2024-04-22T20:33:16.866Z</td><td>0</td></tr><tr><td>VFMzNTY=</td><td>eyJmbGlnaHRfc3RhdHVzIjogImxhbmRlZCIsICJkZXBhcnR1cmVfYWlycG9ydCI6ICJZVUwiLCAiZGVwYXJ0dXJlX2dhdGUiOiAiQTY1IiwgImFycml2YWxfYWlycG9ydCI6ICJIT0ciLCAic2NoZWR1bGVkX2RlcGFydHVyZSI= (truncated)</td><td>departures-data-topic</td><td>2</td><td>6</td><td>2024-04-22T20:33:16.866Z</td><td>0</td></tr><tr><td>QUM4OTQw</td><td>eyJmbGlnaHRfc3RhdHVzIjogImxhbmRlZCIsICJkZXBhcnR1cmVfYWlycG9ydCI6ICJZVUwiLCAiZGVwYXJ0dXJlX2dhdGUiOiAiQzgzIiwgImFycml2YWxfYWlycG9ydCI6ICJFV1IiLCAic2NoZWR1bGVkX2RlcGFydHVyZSI= (truncated)</td><td>departures-data-topic</td><td>1</td><td>0</td><td>2024-04-22T20:33:16.866Z</td><td>0</td></tr><tr><td>QUM4OTI=</td><td>eyJmbGlnaHRfc3RhdHVzIjogImxhbmRlZCIsICJkZXBhcnR1cmVfYWlycG9ydCI6ICJZVUwiLCAiZGVwYXJ0dXJlX2dhdGUiOiAiQTU1IiwgImFycml2YWxfYWlycG9ydCI6ICJGQ08iLCAic2NoZWR1bGVkX2RlcGFydHVyZSI= (truncated)</td><td>departures-data-topic</td><td>1</td><td>1</td><td>2024-04-22T20:33:16.866Z</td><td>0</td></tr><tr><td>QUM5NTQ=</td><td>eyJmbGlnaHRfc3RhdHVzIjogImxhbmRlZCIsICJkZXBhcnR1cmVfYWlycG9ydCI6ICJZVUwiLCAiZGVwYXJ0dXJlX2dhdGUiOiAiQTU1IiwgImFycml2YWxfYWlycG9ydCI6ICJGREYiLCAic2NoZWR1bGVkX2RlcGFydHVyZSI= (truncated)</td><td>departures-data-topic</td><td>1</td><td>2</td><td>2024-04-22T20:33:16.866Z</td><td>0</td></tr><tr><td>RjgxMTAw</td><td>eyJmbGlnaHRfc3RhdHVzIjogImxhbmRlZCIsICJkZXBhcnR1cmVfYWlycG9ydCI6ICJZVUwiLCAiZGVwYXJ0dXJlX2dhdGUiOiAiQzgyIiwgImFycml2YWxfYWlycG9ydCI6ICJGTEwiLCAic2NoZWR1bGVkX2RlcGFydHVyZSI= (truncated)</td><td>departures-data-topic</td><td>1</td><td>3</td><td>2024-04-22T20:33:16.866Z</td><td>0</td></tr><tr><td>VFMyODQ0</td><td>eyJmbGlnaHRfc3RhdHVzIjogImxhbmRlZCIsICJkZXBhcnR1cmVfYWlycG9ydCI6ICJZVUwiLCAiZGVwYXJ0dXJlX2dhdGUiOiAiQzgwIiwgImFycml2YWxfYWlycG9ydCI6ICJGTEwiLCAic2NoZWR1bGVkX2RlcGFydHVyZSI= (truncated)</td><td>departures-data-topic</td><td>1</td><td>4</td><td>2024-04-22T20:33:16.866Z</td><td>0</td></tr><tr><td>QUM4ODQ=</td><td>eyJmbGlnaHRfc3RhdHVzIjogImxhbmRlZCIsICJkZXBhcnR1cmVfYWlycG9ydCI6ICJZVUwiLCAiZGVwYXJ0dXJlX2dhdGUiOiAiQTU2IiwgImFycml2YWxfYWlycG9ydCI6ICJHVkEiLCAic2NoZWR1bGVkX2RlcGFydHVyZSI= (truncated)</td><td>departures-data-topic</td><td>1</td><td>5</td><td>2024-04-22T20:33:16.866Z</td><td>0</td></tr><tr><td>QUM4NzIz</td><td>eyJmbGlnaHRfc3RhdHVzIjogImxhbmRlZCIsICJkZXBhcnR1cmVfYWlycG9ydCI6ICJZVUwiLCAiZGVwYXJ0dXJlX2dhdGUiOiAiQzg1IiwgImFycml2YWxfYWlycG9ydCI6ICJJQUQiLCAic2NoZWR1bGVkX2RlcGFydHVyZSI= (truncated)</td><td>departures-data-topic</td><td>1</td><td>6</td><td>2024-04-22T20:33:16.866Z</td><td>0</td></tr><tr><td>VUEzNDEz</td><td>eyJmbGlnaHRfc3RhdHVzIjogImxhbmRlZCIsICJkZXBhcnR1cmVfYWlycG9ydCI6ICJZVUwiLCAiZGVwYXJ0dXJlX2dhdGUiOiAiQzg0IiwgImFycml2YWxfYWlycG9ydCI6ICJJQUQiLCAic2NoZWR1bGVkX2RlcGFydHVyZSI= (truncated)</td><td>departures-data-topic</td><td>1</td><td>7</td><td>2024-04-22T20:33:16.866Z</td><td>0</td></tr><tr><td>VUEzNTc0</td><td>eyJmbGlnaHRfc3RhdHVzIjogImxhbmRlZCIsICJkZXBhcnR1cmVfYWlycG9ydCI6ICJZVUwiLCAiZGVwYXJ0dXJlX2dhdGUiOiAiQzgwIiwgImFycml2YWxfYWlycG9ydCI6ICJJQUQiLCAic2NoZWR1bGVkX2RlcGFydHVyZSI= (truncated)</td><td>departures-data-topic</td><td>1</td><td>8</td><td>2024-04-22T20:33:16.866Z</td><td>0</td></tr><tr><td>QUM1ODE=</td><td>eyJmbGlnaHRfc3RhdHVzIjogImxhbmRlZCIsICJkZXBhcnR1cmVfYWlycG9ydCI6ICJZVUwiLCAiZGVwYXJ0dXJlX2dhdGUiOiAiQzc2IiwgImFycml2YWxfYWlycG9ydCI6ICJJQUgiLCAic2NoZWR1bGVkX2RlcGFydHVyZSI= (truncated)</td><td>departures-data-topic</td><td>1</td><td>9</td><td>2024-04-22T20:33:16.866Z</td><td>0</td></tr><tr><td>VEszNg==</td><td>eyJmbGlnaHRfc3RhdHVzIjogImxhbmRlZCIsICJkZXBhcnR1cmVfYWlycG9ydCI6ICJZVUwiLCAiZGVwYXJ0dXJlX2dhdGUiOiAiQTY0IiwgImFycml2YWxfYWlycG9ydCI6ICJJU1QiLCAic2NoZWR1bGVkX2RlcGFydHVyZSI= (truncated)</td><td>departures-data-topic</td><td>1</td><td>10</td><td>2024-04-22T20:33:16.866Z</td><td>0</td></tr><tr><td>REw0ODcw</td><td>eyJmbGlnaHRfc3RhdHVzIjogImxhbmRlZCIsICJkZXBhcnR1cmVfYWlycG9ydCI6ICJZVUwiLCAiZGVwYXJ0dXJlX2dhdGUiOiAiQzg2IiwgImFycml2YWxfYWlycG9ydCI6ICJEVFciLCAic2NoZWR1bGVkX2RlcGFydHVyZSI= (truncated)</td><td>departures-data-topic</td><td>5</td><td>0</td><td>2024-04-22T20:33:16.866Z</td><td>0</td></tr><tr><td>UUs5NDY=</td><td>eyJmbGlnaHRfc3RhdHVzIjogInNjaGVkdWxlZCIsICJkZXBhcnR1cmVfYWlycG9ydCI6ICJZVUwiLCAiZGVwYXJ0dXJlX2dhdGUiOiBudWxsLCAiYXJyaXZhbF9haXJwb3J0IjogIkVXUiIsICJzY2hlZHVsZWRfZGVwYXJ0dXI= (truncated)</td><td>departures-data-topic</td><td>5</td><td>1</td><td>2024-04-22T20:33:16.866Z</td><td>0</td></tr><tr><td>QUMxMDA0</td><td>eyJmbGlnaHRfc3RhdHVzIjogImxhbmRlZCIsICJkZXBhcnR1cmVfYWlycG9ydCI6ICJZVUwiLCAiZGVwYXJ0dXJlX2dhdGUiOiAiQzU2IiwgImFycml2YWxfYWlycG9ydCI6ICJGTEwiLCAic2NoZWR1bGVkX2RlcGFydHVyZSI= (truncated)</td><td>departures-data-topic</td><td>5</td><td>2</td><td>2024-04-22T20:33:16.866Z</td><td>0</td></tr><tr><td>V0c2NTQ0</td><td>eyJmbGlnaHRfc3RhdHVzIjogImxhbmRlZCIsICJkZXBhcnR1cmVfYWlycG9ydCI6ICJZVUwiLCAiZGVwYXJ0dXJlX2dhdGUiOiAiQTU5IiwgImFycml2YWxfYWlycG9ydCI6ICJIT0ciLCAic2NoZWR1bGVkX2RlcGFydHVyZSI= (truncated)</td><td>departures-data-topic</td><td>5</td><td>3</td><td>2024-04-22T20:33:16.866Z</td><td>0</td></tr><tr><td>TFhKNDUz</td><td>eyJmbGlnaHRfc3RhdHVzIjogImFjdGl2ZSIsICJkZXBhcnR1cmVfYWlycG9ydCI6ICJZVUwiLCAiZGVwYXJ0dXJlX2dhdGUiOiBudWxsLCAiYXJyaXZhbF9haXJwb3J0IjogIkhQTiIsICJzY2hlZHVsZWRfZGVwYXJ0dXJlIjo= (truncated)</td><td>departures-data-topic</td><td>5</td><td>4</td><td>2024-04-22T20:33:16.866Z</td><td>0</td></tr><tr><td>QUM4ODk4</td><td>eyJmbGlnaHRfc3RhdHVzIjogImFjdGl2ZSIsICJkZXBhcnR1cmVfYWlycG9ydCI6ICJZVUwiLCAiZGVwYXJ0dXJlX2dhdGUiOiAiQzg2IiwgImFycml2YWxfYWlycG9ydCI6ICJKRksiLCAic2NoZWR1bGVkX2RlcGFydHVyZSI= (truncated)</td><td>departures-data-topic</td><td>5</td><td>5</td><td>2024-04-22T20:33:16.866Z</td><td>0</td></tr><tr><td>QUM4OTg=</td><td>eyJmbGlnaHRfc3RhdHVzIjogImxhbmRlZCIsICJkZXBhcnR1cmVfYWlycG9ydCI6ICJZVUwiLCAiZGVwYXJ0dXJlX2dhdGUiOiBudWxsLCAiYXJyaXZhbF9haXJwb3J0IjogIkpGSyIsICJzY2hlZHVsZWRfZGVwYXJ0dXJlIjo= (truncated)</td><td>departures-data-topic</td><td>5</td><td>6</td><td>2024-04-22T20:33:16.866Z</td><td>0</td></tr><tr><td>REw1MDg4</td><td>eyJmbGlnaHRfc3RhdHVzIjogImxhbmRlZCIsICJkZXBhcnR1cmVfYWlycG9ydCI6ICJZVUwiLCAiZGVwYXJ0dXJlX2dhdGUiOiAiQzg0IiwgImFycml2YWxfYWlycG9ydCI6ICJKRksiLCAic2NoZWR1bGVkX2RlcGFydHVyZSI= (truncated)</td><td>departures-data-topic</td><td>5</td><td>7</td><td>2024-04-22T20:33:16.866Z</td><td>0</td></tr><tr><td>REw1MTUx</td><td>eyJmbGlnaHRfc3RhdHVzIjogImxhbmRlZCIsICJkZXBhcnR1cmVfYWlycG9ydCI6ICJZVUwiLCAiZGVwYXJ0dXJlX2dhdGUiOiAiQzg4IiwgImFycml2YWxfYWlycG9ydCI6ICJKRksiLCAic2NoZWR1bGVkX2RlcGFydHVyZSI= (truncated)</td><td>departures-data-topic</td><td>5</td><td>8</td><td>2024-04-22T20:33:16.866Z</td><td>0</td></tr><tr><td>QUM4OTM4</td><td>eyJmbGlnaHRfc3RhdHVzIjogImxhbmRlZCIsICJkZXBhcnR1cmVfYWlycG9ydCI6ICJZVUwiLCAiZGVwYXJ0dXJlX2dhdGUiOiAiQzc5IiwgImFycml2YWxfYWlycG9ydCI6ICJFV1IiLCAic2NoZWR1bGVkX2RlcGFydHVyZSI= (truncated)</td><td>departures-data-topic</td><td>0</td><td>0</td><td>2024-04-22T20:33:16.866Z</td><td>0</td></tr><tr><td>QUM5Ng==</td><td>eyJmbGlnaHRfc3RhdHVzIjogImxhbmRlZCIsICJkZXBhcnR1cmVfYWlycG9ydCI6ICJZVUwiLCAiZGVwYXJ0dXJlX2dhdGUiOiAiQTUxIiwgImFycml2YWxfYWlycG9ydCI6ICJHUlUiLCAic2NoZWR1bGVkX2RlcGFydHVyZSI= (truncated)</td><td>departures-data-topic</td><td>0</td><td>1</td><td>2024-04-22T20:33:16.866Z</td><td>0</td></tr><tr><td>VFM1NTQ=</td><td>eyJmbGlnaHRfc3RhdHVzIjogImxhbmRlZCIsICJkZXBhcnR1cmVfYWlycG9ydCI6ICJZVUwiLCAiZGVwYXJ0dXJlX2dhdGUiOiAiQTY3IiwgImFycml2YWxfYWlycG9ydCI6ICJIQVYiLCAic2NoZWR1bGVkX2RlcGFydHVyZSI= (truncated)</td><td>departures-data-topic</td><td>0</td><td>2</td><td>2024-04-22T20:33:16.866Z</td><td>0</td></tr></tbody></table></div>"
      ]
     },
     "metadata": {
      "application/vnd.databricks.v1+output": {
       "addedWidgets": {},
       "aggData": [],
       "aggError": "",
       "aggOverflow": false,
       "aggSchema": [],
       "aggSeriesLimitReached": false,
       "aggType": "",
       "arguments": {},
       "columnCustomDisplayInfos": {},
       "data": [
        [
         "QUM4NTgx",
         "eyJmbGlnaHRfc3RhdHVzIjogImxhbmRlZCIsICJkZXBhcnR1cmVfYWlycG9ydCI6ICJZVUwiLCAiZGVwYXJ0dXJlX2dhdGUiOiAiQzg5IiwgImFycml2YWxfYWlycG9ydCI6ICJEVFciLCAic2NoZWR1bGVkX2RlcGFydHVyZSI= (truncated)",
         "departures-data-topic",
         3,
         0,
         "2024-04-22T20:33:16.866Z",
         0
        ],
        [
         "REw1MzY3",
         "eyJmbGlnaHRfc3RhdHVzIjogImxhbmRlZCIsICJkZXBhcnR1cmVfYWlycG9ydCI6ICJZVUwiLCAiZGVwYXJ0dXJlX2dhdGUiOiAiQzg0IiwgImFycml2YWxfYWlycG9ydCI6ICJEVFciLCAic2NoZWR1bGVkX2RlcGFydHVyZSI= (truncated)",
         "departures-data-topic",
         3,
         1,
         "2024-04-22T20:33:16.866Z",
         0
        ],
        [
         "Tm9uZQ==",
         "eyJmbGlnaHRfc3RhdHVzIjogInNjaGVkdWxlZCIsICJkZXBhcnR1cmVfYWlycG9ydCI6ICJZVUwiLCAiZGVwYXJ0dXJlX2dhdGUiOiBudWxsLCAiYXJyaXZhbF9haXJwb3J0IjogIkVXUiIsICJzY2hlZHVsZWRfZGVwYXJ0dXI= (truncated)",
         "departures-data-topic",
         3,
         2,
         "2024-04-22T20:33:16.866Z",
         0
        ],
        [
         "QUM4OTQy",
         "eyJmbGlnaHRfc3RhdHVzIjogImxhbmRlZCIsICJkZXBhcnR1cmVfYWlycG9ydCI6ICJZVUwiLCAiZGVwYXJ0dXJlX2dhdGUiOiAiQzc0IiwgImFycml2YWxfYWlycG9ydCI6ICJFV1IiLCAic2NoZWR1bGVkX2RlcGFydHVyZSI= (truncated)",
         "departures-data-topic",
         3,
         3,
         "2024-04-22T20:33:16.866Z",
         0
        ],
        [
         "Tm9uZQ==",
         "eyJmbGlnaHRfc3RhdHVzIjogImxhbmRlZCIsICJkZXBhcnR1cmVfYWlycG9ydCI6ICJZVUwiLCAiZGVwYXJ0dXJlX2dhdGUiOiBudWxsLCAiYXJyaXZhbF9haXJwb3J0IjogIkZMTCIsICJzY2hlZHVsZWRfZGVwYXJ0dXJlIjo= (truncated)",
         "departures-data-topic",
         3,
         4,
         "2024-04-22T20:33:16.866Z",
         0
        ],
        [
         "UlYxNjAw",
         "eyJmbGlnaHRfc3RhdHVzIjogImxhbmRlZCIsICJkZXBhcnR1cmVfYWlycG9ydCI6ICJZVUwiLCAiZGVwYXJ0dXJlX2dhdGUiOiAiQzc3IiwgImFycml2YWxfYWlycG9ydCI6ICJGTEwiLCAic2NoZWR1bGVkX2RlcGFydHVyZSI= (truncated)",
         "departures-data-topic",
         3,
         5,
         "2024-04-22T20:33:16.866Z",
         0
        ],
        [
         "QUM4NDQ=",
         "eyJmbGlnaHRfc3RhdHVzIjogImxhbmRlZCIsICJkZXBhcnR1cmVfYWlycG9ydCI6ICJZVUwiLCAiZGVwYXJ0dXJlX2dhdGUiOiAiQTYzIiwgImFycml2YWxfYWlycG9ydCI6ICJGUkEiLCAic2NoZWR1bGVkX2RlcGFydHVyZSI= (truncated)",
         "departures-data-topic",
         3,
         6,
         "2024-04-22T20:33:16.866Z",
         0
        ],
        [
         "Tm9uZQ==",
         "eyJmbGlnaHRfc3RhdHVzIjogImxhbmRlZCIsICJkZXBhcnR1cmVfYWlycG9ydCI6ICJZVUwiLCAiZGVwYXJ0dXJlX2dhdGUiOiBudWxsLCAiYXJyaXZhbF9haXJwb3J0IjogIkpBWCIsICJzY2hlZHVsZWRfZGVwYXJ0dXJlIjo= (truncated)",
         "departures-data-topic",
         3,
         7,
         "2024-04-22T20:33:16.866Z",
         0
        ],
        [
         "QUM4OTQ2",
         "eyJmbGlnaHRfc3RhdHVzIjogInNjaGVkdWxlZCIsICJkZXBhcnR1cmVfYWlycG9ydCI6ICJZVUwiLCAiZGVwYXJ0dXJlX2dhdGUiOiAiQzg4IiwgImFycml2YWxfYWlycG9ydCI6ICJFV1IiLCAic2NoZWR1bGVkX2RlcGFydHU= (truncated)",
         "departures-data-topic",
         4,
         0,
         "2024-04-22T20:33:16.866Z",
         0
        ],
        [
         "VUEzNjgw",
         "eyJmbGlnaHRfc3RhdHVzIjogImxhbmRlZCIsICJkZXBhcnR1cmVfYWlycG9ydCI6ICJZVUwiLCAiZGVwYXJ0dXJlX2dhdGUiOiAiQzgyIiwgImFycml2YWxfYWlycG9ydCI6ICJFV1IiLCAic2NoZWR1bGVkX2RlcGFydHVyZSI= (truncated)",
         "departures-data-topic",
         4,
         1,
         "2024-04-22T20:33:16.866Z",
         0
        ],
        [
         "REw0ODY5",
         "eyJmbGlnaHRfc3RhdHVzIjogImxhbmRlZCIsICJkZXBhcnR1cmVfYWlycG9ydCI6ICJZVUwiLCAiZGVwYXJ0dXJlX2dhdGUiOiAiQzg3IiwgImFycml2YWxfYWlycG9ydCI6ICJEVFciLCAic2NoZWR1bGVkX2RlcGFydHVyZSI= (truncated)",
         "departures-data-topic",
         2,
         0,
         "2024-04-22T20:33:16.866Z",
         0
        ],
        [
         "RUsyNDQ=",
         "eyJmbGlnaHRfc3RhdHVzIjogImxhbmRlZCIsICJkZXBhcnR1cmVfYWlycG9ydCI6ICJZVUwiLCAiZGVwYXJ0dXJlX2dhdGUiOiAiQTYzIiwgImFycml2YWxfYWlycG9ydCI6ICJEWEIiLCAic2NoZWR1bGVkX2RlcGFydHVyZSI= (truncated)",
         "departures-data-topic",
         2,
         1,
         "2024-04-22T20:33:16.866Z",
         0
        ],
        [
         "QUM5NDY=",
         "eyJmbGlnaHRfc3RhdHVzIjogImxhbmRlZCIsICJkZXBhcnR1cmVfYWlycG9ydCI6ICJZVUwiLCAiZGVwYXJ0dXJlX2dhdGUiOiBudWxsLCAiYXJyaXZhbF9haXJwb3J0IjogIkVXUiIsICJzY2hlZHVsZWRfZGVwYXJ0dXJlIjo= (truncated)",
         "departures-data-topic",
         2,
         2,
         "2024-04-22T20:33:16.866Z",
         0
        ],
        [
         "VUEzNDU2",
         "eyJmbGlnaHRfc3RhdHVzIjogImxhbmRlZCIsICJkZXBhcnR1cmVfYWlycG9ydCI6ICJZVUwiLCAiZGVwYXJ0dXJlX2dhdGUiOiAiQzg0IiwgImFycml2YWxfYWlycG9ydCI6ICJFV1IiLCAic2NoZWR1bGVkX2RlcGFydHVyZSI= (truncated)",
         "departures-data-topic",
         2,
         3,
         "2024-04-22T20:33:16.866Z",
         0
        ],
        [
         "QUMxMDAy",
         "eyJmbGlnaHRfc3RhdHVzIjogImxhbmRlZCIsICJkZXBhcnR1cmVfYWlycG9ydCI6ICJZVUwiLCAiZGVwYXJ0dXJlX2dhdGUiOiAiQzczIiwgImFycml2YWxfYWlycG9ydCI6ICJGTEwiLCAic2NoZWR1bGVkX2RlcGFydHVyZSI= (truncated)",
         "departures-data-topic",
         2,
         4,
         "2024-04-22T20:33:16.866Z",
         0
        ],
        [
         "UlYxNjA2",
         "eyJmbGlnaHRfc3RhdHVzIjogImxhbmRlZCIsICJkZXBhcnR1cmVfYWlycG9ydCI6ICJZVUwiLCAiZGVwYXJ0dXJlX2dhdGUiOiAiQzc3IiwgImFycml2YWxfYWlycG9ydCI6ICJGTEwiLCAic2NoZWR1bGVkX2RlcGFydHVyZSI= (truncated)",
         "departures-data-topic",
         2,
         5,
         "2024-04-22T20:33:16.866Z",
         0
        ],
        [
         "VFMzNTY=",
         "eyJmbGlnaHRfc3RhdHVzIjogImxhbmRlZCIsICJkZXBhcnR1cmVfYWlycG9ydCI6ICJZVUwiLCAiZGVwYXJ0dXJlX2dhdGUiOiAiQTY1IiwgImFycml2YWxfYWlycG9ydCI6ICJIT0ciLCAic2NoZWR1bGVkX2RlcGFydHVyZSI= (truncated)",
         "departures-data-topic",
         2,
         6,
         "2024-04-22T20:33:16.866Z",
         0
        ],
        [
         "QUM4OTQw",
         "eyJmbGlnaHRfc3RhdHVzIjogImxhbmRlZCIsICJkZXBhcnR1cmVfYWlycG9ydCI6ICJZVUwiLCAiZGVwYXJ0dXJlX2dhdGUiOiAiQzgzIiwgImFycml2YWxfYWlycG9ydCI6ICJFV1IiLCAic2NoZWR1bGVkX2RlcGFydHVyZSI= (truncated)",
         "departures-data-topic",
         1,
         0,
         "2024-04-22T20:33:16.866Z",
         0
        ],
        [
         "QUM4OTI=",
         "eyJmbGlnaHRfc3RhdHVzIjogImxhbmRlZCIsICJkZXBhcnR1cmVfYWlycG9ydCI6ICJZVUwiLCAiZGVwYXJ0dXJlX2dhdGUiOiAiQTU1IiwgImFycml2YWxfYWlycG9ydCI6ICJGQ08iLCAic2NoZWR1bGVkX2RlcGFydHVyZSI= (truncated)",
         "departures-data-topic",
         1,
         1,
         "2024-04-22T20:33:16.866Z",
         0
        ],
        [
         "QUM5NTQ=",
         "eyJmbGlnaHRfc3RhdHVzIjogImxhbmRlZCIsICJkZXBhcnR1cmVfYWlycG9ydCI6ICJZVUwiLCAiZGVwYXJ0dXJlX2dhdGUiOiAiQTU1IiwgImFycml2YWxfYWlycG9ydCI6ICJGREYiLCAic2NoZWR1bGVkX2RlcGFydHVyZSI= (truncated)",
         "departures-data-topic",
         1,
         2,
         "2024-04-22T20:33:16.866Z",
         0
        ],
        [
         "RjgxMTAw",
         "eyJmbGlnaHRfc3RhdHVzIjogImxhbmRlZCIsICJkZXBhcnR1cmVfYWlycG9ydCI6ICJZVUwiLCAiZGVwYXJ0dXJlX2dhdGUiOiAiQzgyIiwgImFycml2YWxfYWlycG9ydCI6ICJGTEwiLCAic2NoZWR1bGVkX2RlcGFydHVyZSI= (truncated)",
         "departures-data-topic",
         1,
         3,
         "2024-04-22T20:33:16.866Z",
         0
        ],
        [
         "VFMyODQ0",
         "eyJmbGlnaHRfc3RhdHVzIjogImxhbmRlZCIsICJkZXBhcnR1cmVfYWlycG9ydCI6ICJZVUwiLCAiZGVwYXJ0dXJlX2dhdGUiOiAiQzgwIiwgImFycml2YWxfYWlycG9ydCI6ICJGTEwiLCAic2NoZWR1bGVkX2RlcGFydHVyZSI= (truncated)",
         "departures-data-topic",
         1,
         4,
         "2024-04-22T20:33:16.866Z",
         0
        ],
        [
         "QUM4ODQ=",
         "eyJmbGlnaHRfc3RhdHVzIjogImxhbmRlZCIsICJkZXBhcnR1cmVfYWlycG9ydCI6ICJZVUwiLCAiZGVwYXJ0dXJlX2dhdGUiOiAiQTU2IiwgImFycml2YWxfYWlycG9ydCI6ICJHVkEiLCAic2NoZWR1bGVkX2RlcGFydHVyZSI= (truncated)",
         "departures-data-topic",
         1,
         5,
         "2024-04-22T20:33:16.866Z",
         0
        ],
        [
         "QUM4NzIz",
         "eyJmbGlnaHRfc3RhdHVzIjogImxhbmRlZCIsICJkZXBhcnR1cmVfYWlycG9ydCI6ICJZVUwiLCAiZGVwYXJ0dXJlX2dhdGUiOiAiQzg1IiwgImFycml2YWxfYWlycG9ydCI6ICJJQUQiLCAic2NoZWR1bGVkX2RlcGFydHVyZSI= (truncated)",
         "departures-data-topic",
         1,
         6,
         "2024-04-22T20:33:16.866Z",
         0
        ],
        [
         "VUEzNDEz",
         "eyJmbGlnaHRfc3RhdHVzIjogImxhbmRlZCIsICJkZXBhcnR1cmVfYWlycG9ydCI6ICJZVUwiLCAiZGVwYXJ0dXJlX2dhdGUiOiAiQzg0IiwgImFycml2YWxfYWlycG9ydCI6ICJJQUQiLCAic2NoZWR1bGVkX2RlcGFydHVyZSI= (truncated)",
         "departures-data-topic",
         1,
         7,
         "2024-04-22T20:33:16.866Z",
         0
        ],
        [
         "VUEzNTc0",
         "eyJmbGlnaHRfc3RhdHVzIjogImxhbmRlZCIsICJkZXBhcnR1cmVfYWlycG9ydCI6ICJZVUwiLCAiZGVwYXJ0dXJlX2dhdGUiOiAiQzgwIiwgImFycml2YWxfYWlycG9ydCI6ICJJQUQiLCAic2NoZWR1bGVkX2RlcGFydHVyZSI= (truncated)",
         "departures-data-topic",
         1,
         8,
         "2024-04-22T20:33:16.866Z",
         0
        ],
        [
         "QUM1ODE=",
         "eyJmbGlnaHRfc3RhdHVzIjogImxhbmRlZCIsICJkZXBhcnR1cmVfYWlycG9ydCI6ICJZVUwiLCAiZGVwYXJ0dXJlX2dhdGUiOiAiQzc2IiwgImFycml2YWxfYWlycG9ydCI6ICJJQUgiLCAic2NoZWR1bGVkX2RlcGFydHVyZSI= (truncated)",
         "departures-data-topic",
         1,
         9,
         "2024-04-22T20:33:16.866Z",
         0
        ],
        [
         "VEszNg==",
         "eyJmbGlnaHRfc3RhdHVzIjogImxhbmRlZCIsICJkZXBhcnR1cmVfYWlycG9ydCI6ICJZVUwiLCAiZGVwYXJ0dXJlX2dhdGUiOiAiQTY0IiwgImFycml2YWxfYWlycG9ydCI6ICJJU1QiLCAic2NoZWR1bGVkX2RlcGFydHVyZSI= (truncated)",
         "departures-data-topic",
         1,
         10,
         "2024-04-22T20:33:16.866Z",
         0
        ],
        [
         "REw0ODcw",
         "eyJmbGlnaHRfc3RhdHVzIjogImxhbmRlZCIsICJkZXBhcnR1cmVfYWlycG9ydCI6ICJZVUwiLCAiZGVwYXJ0dXJlX2dhdGUiOiAiQzg2IiwgImFycml2YWxfYWlycG9ydCI6ICJEVFciLCAic2NoZWR1bGVkX2RlcGFydHVyZSI= (truncated)",
         "departures-data-topic",
         5,
         0,
         "2024-04-22T20:33:16.866Z",
         0
        ],
        [
         "UUs5NDY=",
         "eyJmbGlnaHRfc3RhdHVzIjogInNjaGVkdWxlZCIsICJkZXBhcnR1cmVfYWlycG9ydCI6ICJZVUwiLCAiZGVwYXJ0dXJlX2dhdGUiOiBudWxsLCAiYXJyaXZhbF9haXJwb3J0IjogIkVXUiIsICJzY2hlZHVsZWRfZGVwYXJ0dXI= (truncated)",
         "departures-data-topic",
         5,
         1,
         "2024-04-22T20:33:16.866Z",
         0
        ],
        [
         "QUMxMDA0",
         "eyJmbGlnaHRfc3RhdHVzIjogImxhbmRlZCIsICJkZXBhcnR1cmVfYWlycG9ydCI6ICJZVUwiLCAiZGVwYXJ0dXJlX2dhdGUiOiAiQzU2IiwgImFycml2YWxfYWlycG9ydCI6ICJGTEwiLCAic2NoZWR1bGVkX2RlcGFydHVyZSI= (truncated)",
         "departures-data-topic",
         5,
         2,
         "2024-04-22T20:33:16.866Z",
         0
        ],
        [
         "V0c2NTQ0",
         "eyJmbGlnaHRfc3RhdHVzIjogImxhbmRlZCIsICJkZXBhcnR1cmVfYWlycG9ydCI6ICJZVUwiLCAiZGVwYXJ0dXJlX2dhdGUiOiAiQTU5IiwgImFycml2YWxfYWlycG9ydCI6ICJIT0ciLCAic2NoZWR1bGVkX2RlcGFydHVyZSI= (truncated)",
         "departures-data-topic",
         5,
         3,
         "2024-04-22T20:33:16.866Z",
         0
        ],
        [
         "TFhKNDUz",
         "eyJmbGlnaHRfc3RhdHVzIjogImFjdGl2ZSIsICJkZXBhcnR1cmVfYWlycG9ydCI6ICJZVUwiLCAiZGVwYXJ0dXJlX2dhdGUiOiBudWxsLCAiYXJyaXZhbF9haXJwb3J0IjogIkhQTiIsICJzY2hlZHVsZWRfZGVwYXJ0dXJlIjo= (truncated)",
         "departures-data-topic",
         5,
         4,
         "2024-04-22T20:33:16.866Z",
         0
        ],
        [
         "QUM4ODk4",
         "eyJmbGlnaHRfc3RhdHVzIjogImFjdGl2ZSIsICJkZXBhcnR1cmVfYWlycG9ydCI6ICJZVUwiLCAiZGVwYXJ0dXJlX2dhdGUiOiAiQzg2IiwgImFycml2YWxfYWlycG9ydCI6ICJKRksiLCAic2NoZWR1bGVkX2RlcGFydHVyZSI= (truncated)",
         "departures-data-topic",
         5,
         5,
         "2024-04-22T20:33:16.866Z",
         0
        ],
        [
         "QUM4OTg=",
         "eyJmbGlnaHRfc3RhdHVzIjogImxhbmRlZCIsICJkZXBhcnR1cmVfYWlycG9ydCI6ICJZVUwiLCAiZGVwYXJ0dXJlX2dhdGUiOiBudWxsLCAiYXJyaXZhbF9haXJwb3J0IjogIkpGSyIsICJzY2hlZHVsZWRfZGVwYXJ0dXJlIjo= (truncated)",
         "departures-data-topic",
         5,
         6,
         "2024-04-22T20:33:16.866Z",
         0
        ],
        [
         "REw1MDg4",
         "eyJmbGlnaHRfc3RhdHVzIjogImxhbmRlZCIsICJkZXBhcnR1cmVfYWlycG9ydCI6ICJZVUwiLCAiZGVwYXJ0dXJlX2dhdGUiOiAiQzg0IiwgImFycml2YWxfYWlycG9ydCI6ICJKRksiLCAic2NoZWR1bGVkX2RlcGFydHVyZSI= (truncated)",
         "departures-data-topic",
         5,
         7,
         "2024-04-22T20:33:16.866Z",
         0
        ],
        [
         "REw1MTUx",
         "eyJmbGlnaHRfc3RhdHVzIjogImxhbmRlZCIsICJkZXBhcnR1cmVfYWlycG9ydCI6ICJZVUwiLCAiZGVwYXJ0dXJlX2dhdGUiOiAiQzg4IiwgImFycml2YWxfYWlycG9ydCI6ICJKRksiLCAic2NoZWR1bGVkX2RlcGFydHVyZSI= (truncated)",
         "departures-data-topic",
         5,
         8,
         "2024-04-22T20:33:16.866Z",
         0
        ],
        [
         "QUM4OTM4",
         "eyJmbGlnaHRfc3RhdHVzIjogImxhbmRlZCIsICJkZXBhcnR1cmVfYWlycG9ydCI6ICJZVUwiLCAiZGVwYXJ0dXJlX2dhdGUiOiAiQzc5IiwgImFycml2YWxfYWlycG9ydCI6ICJFV1IiLCAic2NoZWR1bGVkX2RlcGFydHVyZSI= (truncated)",
         "departures-data-topic",
         0,
         0,
         "2024-04-22T20:33:16.866Z",
         0
        ],
        [
         "QUM5Ng==",
         "eyJmbGlnaHRfc3RhdHVzIjogImxhbmRlZCIsICJkZXBhcnR1cmVfYWlycG9ydCI6ICJZVUwiLCAiZGVwYXJ0dXJlX2dhdGUiOiAiQTUxIiwgImFycml2YWxfYWlycG9ydCI6ICJHUlUiLCAic2NoZWR1bGVkX2RlcGFydHVyZSI= (truncated)",
         "departures-data-topic",
         0,
         1,
         "2024-04-22T20:33:16.866Z",
         0
        ],
        [
         "VFM1NTQ=",
         "eyJmbGlnaHRfc3RhdHVzIjogImxhbmRlZCIsICJkZXBhcnR1cmVfYWlycG9ydCI6ICJZVUwiLCAiZGVwYXJ0dXJlX2dhdGUiOiAiQTY3IiwgImFycml2YWxfYWlycG9ydCI6ICJIQVYiLCAic2NoZWR1bGVkX2RlcGFydHVyZSI= (truncated)",
         "departures-data-topic",
         0,
         2,
         "2024-04-22T20:33:16.866Z",
         0
        ]
       ],
       "datasetInfos": [],
       "dbfsResultPath": null,
       "isJsonSchema": true,
       "metadata": {},
       "overflow": false,
       "plotOptions": {
        "customPlotOptions": {},
        "displayType": "table",
        "pivotAggregation": null,
        "pivotColumns": null,
        "xColumns": null,
        "yColumns": null
       },
       "removedWidgets": [],
       "schema": [
        {
         "metadata": "{}",
         "name": "key",
         "type": "\"binary\""
        },
        {
         "metadata": "{}",
         "name": "value",
         "type": "\"binary\""
        },
        {
         "metadata": "{}",
         "name": "topic",
         "type": "\"string\""
        },
        {
         "metadata": "{}",
         "name": "partition",
         "type": "\"integer\""
        },
        {
         "metadata": "{}",
         "name": "offset",
         "type": "\"long\""
        },
        {
         "metadata": "{}",
         "name": "timestamp",
         "type": "\"timestamp\""
        },
        {
         "metadata": "{}",
         "name": "timestampType",
         "type": "\"integer\""
        }
       ],
       "type": "table"
      }
     },
     "output_type": "display_data"
    }
   ],
   "source": [
    "topic_name = \"departures-data-topic\"\n",
    "\n",
    "df_kafka = spark.read.format(\"kafka\")\\\n",
    "    .option(\"kafka.bootstrap.servers\", \"pkc-419q3.us-east4.gcp.confluent.cloud:9092\")\\\n",
    "    .option(\"subscribe\", topic_name)\\\n",
    "    .option(\"kafka.security.protocol\", \"SASL_SSL\")\\\n",
    "    .option(\"kafka.sasl.mechanism\", \"PLAIN\")\\\n",
    "    .option(\"kafka.sasl.jaas.config\", \"kafkashaded.org.apache.kafka.common.security.plain.PlainLoginModule required username=\\\"RWW2JNIHJX5CBZ6O\\\" password=\\\"l6w9fDyCxbJTRAOcmiE2ktO8sB4DF89LMwPpQl6tVHaV1pIuO1DGvR76lCe5sthk\\\";\")\\\n",
    "    .load()\n",
    "\n",
    "display(df_kafka)"
   ]
  },
  {
   "cell_type": "code",
   "execution_count": 0,
   "metadata": {
    "application/vnd.databricks.v1+cell": {
     "cellMetadata": {
      "byteLimit": 2048000,
      "rowLimit": 10000
     },
     "inputWidgets": {},
     "nuid": "b9132306-c149-487e-b028-e9a65163443f",
     "showTitle": false,
     "title": ""
    }
   },
   "outputs": [
    {
     "output_type": "display_data",
     "data": {
      "text/html": [
       "<style scoped>\n",
       "  .table-result-container {\n",
       "    max-height: 300px;\n",
       "    overflow: auto;\n",
       "  }\n",
       "  table, th, td {\n",
       "    border: 1px solid black;\n",
       "    border-collapse: collapse;\n",
       "  }\n",
       "  th, td {\n",
       "    padding: 5px;\n",
       "  }\n",
       "  th {\n",
       "    text-align: left;\n",
       "  }\n",
       "</style><div class='table-result-container'><table class='table-result'><thead style='background-color: white'><tr><th>key</th><th>value</th><th>topic</th><th>partition</th><th>offset</th><th>timestamp</th><th>timestampType</th></tr></thead><tbody><tr><td>QUM4NTgx</td><td>eyJmbGlnaHRfc3RhdHVzIjogImxhbmRlZCIsICJkZXBhcnR1cmVfYWlycG9ydCI6ICJZVUwiLCAiZGVwYXJ0dXJlX2dhdGUiOiAiQzg5IiwgImFycml2YWxfYWlycG9ydCI6ICJEVFciLCAic2NoZWR1bGVkX2RlcGFydHVyZSI= (truncated)</td><td>departures-data-topic</td><td>3</td><td>0</td><td>2024-04-22T20:33:16.866Z</td><td>0</td></tr><tr><td>REw1MzY3</td><td>eyJmbGlnaHRfc3RhdHVzIjogImxhbmRlZCIsICJkZXBhcnR1cmVfYWlycG9ydCI6ICJZVUwiLCAiZGVwYXJ0dXJlX2dhdGUiOiAiQzg0IiwgImFycml2YWxfYWlycG9ydCI6ICJEVFciLCAic2NoZWR1bGVkX2RlcGFydHVyZSI= (truncated)</td><td>departures-data-topic</td><td>3</td><td>1</td><td>2024-04-22T20:33:16.866Z</td><td>0</td></tr><tr><td>Tm9uZQ==</td><td>eyJmbGlnaHRfc3RhdHVzIjogInNjaGVkdWxlZCIsICJkZXBhcnR1cmVfYWlycG9ydCI6ICJZVUwiLCAiZGVwYXJ0dXJlX2dhdGUiOiBudWxsLCAiYXJyaXZhbF9haXJwb3J0IjogIkVXUiIsICJzY2hlZHVsZWRfZGVwYXJ0dXI= (truncated)</td><td>departures-data-topic</td><td>3</td><td>2</td><td>2024-04-22T20:33:16.866Z</td><td>0</td></tr><tr><td>QUM4OTQy</td><td>eyJmbGlnaHRfc3RhdHVzIjogImxhbmRlZCIsICJkZXBhcnR1cmVfYWlycG9ydCI6ICJZVUwiLCAiZGVwYXJ0dXJlX2dhdGUiOiAiQzc0IiwgImFycml2YWxfYWlycG9ydCI6ICJFV1IiLCAic2NoZWR1bGVkX2RlcGFydHVyZSI= (truncated)</td><td>departures-data-topic</td><td>3</td><td>3</td><td>2024-04-22T20:33:16.866Z</td><td>0</td></tr><tr><td>Tm9uZQ==</td><td>eyJmbGlnaHRfc3RhdHVzIjogImxhbmRlZCIsICJkZXBhcnR1cmVfYWlycG9ydCI6ICJZVUwiLCAiZGVwYXJ0dXJlX2dhdGUiOiBudWxsLCAiYXJyaXZhbF9haXJwb3J0IjogIkZMTCIsICJzY2hlZHVsZWRfZGVwYXJ0dXJlIjo= (truncated)</td><td>departures-data-topic</td><td>3</td><td>4</td><td>2024-04-22T20:33:16.866Z</td><td>0</td></tr><tr><td>UlYxNjAw</td><td>eyJmbGlnaHRfc3RhdHVzIjogImxhbmRlZCIsICJkZXBhcnR1cmVfYWlycG9ydCI6ICJZVUwiLCAiZGVwYXJ0dXJlX2dhdGUiOiAiQzc3IiwgImFycml2YWxfYWlycG9ydCI6ICJGTEwiLCAic2NoZWR1bGVkX2RlcGFydHVyZSI= (truncated)</td><td>departures-data-topic</td><td>3</td><td>5</td><td>2024-04-22T20:33:16.866Z</td><td>0</td></tr><tr><td>QUM4NDQ=</td><td>eyJmbGlnaHRfc3RhdHVzIjogImxhbmRlZCIsICJkZXBhcnR1cmVfYWlycG9ydCI6ICJZVUwiLCAiZGVwYXJ0dXJlX2dhdGUiOiAiQTYzIiwgImFycml2YWxfYWlycG9ydCI6ICJGUkEiLCAic2NoZWR1bGVkX2RlcGFydHVyZSI= (truncated)</td><td>departures-data-topic</td><td>3</td><td>6</td><td>2024-04-22T20:33:16.866Z</td><td>0</td></tr><tr><td>Tm9uZQ==</td><td>eyJmbGlnaHRfc3RhdHVzIjogImxhbmRlZCIsICJkZXBhcnR1cmVfYWlycG9ydCI6ICJZVUwiLCAiZGVwYXJ0dXJlX2dhdGUiOiBudWxsLCAiYXJyaXZhbF9haXJwb3J0IjogIkpBWCIsICJzY2hlZHVsZWRfZGVwYXJ0dXJlIjo= (truncated)</td><td>departures-data-topic</td><td>3</td><td>7</td><td>2024-04-22T20:33:16.866Z</td><td>0</td></tr><tr><td>QUM4OTQ2</td><td>eyJmbGlnaHRfc3RhdHVzIjogInNjaGVkdWxlZCIsICJkZXBhcnR1cmVfYWlycG9ydCI6ICJZVUwiLCAiZGVwYXJ0dXJlX2dhdGUiOiAiQzg4IiwgImFycml2YWxfYWlycG9ydCI6ICJFV1IiLCAic2NoZWR1bGVkX2RlcGFydHU= (truncated)</td><td>departures-data-topic</td><td>4</td><td>0</td><td>2024-04-22T20:33:16.866Z</td><td>0</td></tr><tr><td>VUEzNjgw</td><td>eyJmbGlnaHRfc3RhdHVzIjogImxhbmRlZCIsICJkZXBhcnR1cmVfYWlycG9ydCI6ICJZVUwiLCAiZGVwYXJ0dXJlX2dhdGUiOiAiQzgyIiwgImFycml2YWxfYWlycG9ydCI6ICJFV1IiLCAic2NoZWR1bGVkX2RlcGFydHVyZSI= (truncated)</td><td>departures-data-topic</td><td>4</td><td>1</td><td>2024-04-22T20:33:16.866Z</td><td>0</td></tr><tr><td>REw0ODY5</td><td>eyJmbGlnaHRfc3RhdHVzIjogImxhbmRlZCIsICJkZXBhcnR1cmVfYWlycG9ydCI6ICJZVUwiLCAiZGVwYXJ0dXJlX2dhdGUiOiAiQzg3IiwgImFycml2YWxfYWlycG9ydCI6ICJEVFciLCAic2NoZWR1bGVkX2RlcGFydHVyZSI= (truncated)</td><td>departures-data-topic</td><td>2</td><td>0</td><td>2024-04-22T20:33:16.866Z</td><td>0</td></tr><tr><td>RUsyNDQ=</td><td>eyJmbGlnaHRfc3RhdHVzIjogImxhbmRlZCIsICJkZXBhcnR1cmVfYWlycG9ydCI6ICJZVUwiLCAiZGVwYXJ0dXJlX2dhdGUiOiAiQTYzIiwgImFycml2YWxfYWlycG9ydCI6ICJEWEIiLCAic2NoZWR1bGVkX2RlcGFydHVyZSI= (truncated)</td><td>departures-data-topic</td><td>2</td><td>1</td><td>2024-04-22T20:33:16.866Z</td><td>0</td></tr><tr><td>QUM5NDY=</td><td>eyJmbGlnaHRfc3RhdHVzIjogImxhbmRlZCIsICJkZXBhcnR1cmVfYWlycG9ydCI6ICJZVUwiLCAiZGVwYXJ0dXJlX2dhdGUiOiBudWxsLCAiYXJyaXZhbF9haXJwb3J0IjogIkVXUiIsICJzY2hlZHVsZWRfZGVwYXJ0dXJlIjo= (truncated)</td><td>departures-data-topic</td><td>2</td><td>2</td><td>2024-04-22T20:33:16.866Z</td><td>0</td></tr><tr><td>VUEzNDU2</td><td>eyJmbGlnaHRfc3RhdHVzIjogImxhbmRlZCIsICJkZXBhcnR1cmVfYWlycG9ydCI6ICJZVUwiLCAiZGVwYXJ0dXJlX2dhdGUiOiAiQzg0IiwgImFycml2YWxfYWlycG9ydCI6ICJFV1IiLCAic2NoZWR1bGVkX2RlcGFydHVyZSI= (truncated)</td><td>departures-data-topic</td><td>2</td><td>3</td><td>2024-04-22T20:33:16.866Z</td><td>0</td></tr><tr><td>QUMxMDAy</td><td>eyJmbGlnaHRfc3RhdHVzIjogImxhbmRlZCIsICJkZXBhcnR1cmVfYWlycG9ydCI6ICJZVUwiLCAiZGVwYXJ0dXJlX2dhdGUiOiAiQzczIiwgImFycml2YWxfYWlycG9ydCI6ICJGTEwiLCAic2NoZWR1bGVkX2RlcGFydHVyZSI= (truncated)</td><td>departures-data-topic</td><td>2</td><td>4</td><td>2024-04-22T20:33:16.866Z</td><td>0</td></tr><tr><td>UlYxNjA2</td><td>eyJmbGlnaHRfc3RhdHVzIjogImxhbmRlZCIsICJkZXBhcnR1cmVfYWlycG9ydCI6ICJZVUwiLCAiZGVwYXJ0dXJlX2dhdGUiOiAiQzc3IiwgImFycml2YWxfYWlycG9ydCI6ICJGTEwiLCAic2NoZWR1bGVkX2RlcGFydHVyZSI= (truncated)</td><td>departures-data-topic</td><td>2</td><td>5</td><td>2024-04-22T20:33:16.866Z</td><td>0</td></tr><tr><td>VFMzNTY=</td><td>eyJmbGlnaHRfc3RhdHVzIjogImxhbmRlZCIsICJkZXBhcnR1cmVfYWlycG9ydCI6ICJZVUwiLCAiZGVwYXJ0dXJlX2dhdGUiOiAiQTY1IiwgImFycml2YWxfYWlycG9ydCI6ICJIT0ciLCAic2NoZWR1bGVkX2RlcGFydHVyZSI= (truncated)</td><td>departures-data-topic</td><td>2</td><td>6</td><td>2024-04-22T20:33:16.866Z</td><td>0</td></tr><tr><td>QUM4OTQw</td><td>eyJmbGlnaHRfc3RhdHVzIjogImxhbmRlZCIsICJkZXBhcnR1cmVfYWlycG9ydCI6ICJZVUwiLCAiZGVwYXJ0dXJlX2dhdGUiOiAiQzgzIiwgImFycml2YWxfYWlycG9ydCI6ICJFV1IiLCAic2NoZWR1bGVkX2RlcGFydHVyZSI= (truncated)</td><td>departures-data-topic</td><td>1</td><td>0</td><td>2024-04-22T20:33:16.866Z</td><td>0</td></tr><tr><td>QUM4OTI=</td><td>eyJmbGlnaHRfc3RhdHVzIjogImxhbmRlZCIsICJkZXBhcnR1cmVfYWlycG9ydCI6ICJZVUwiLCAiZGVwYXJ0dXJlX2dhdGUiOiAiQTU1IiwgImFycml2YWxfYWlycG9ydCI6ICJGQ08iLCAic2NoZWR1bGVkX2RlcGFydHVyZSI= (truncated)</td><td>departures-data-topic</td><td>1</td><td>1</td><td>2024-04-22T20:33:16.866Z</td><td>0</td></tr><tr><td>QUM5NTQ=</td><td>eyJmbGlnaHRfc3RhdHVzIjogImxhbmRlZCIsICJkZXBhcnR1cmVfYWlycG9ydCI6ICJZVUwiLCAiZGVwYXJ0dXJlX2dhdGUiOiAiQTU1IiwgImFycml2YWxfYWlycG9ydCI6ICJGREYiLCAic2NoZWR1bGVkX2RlcGFydHVyZSI= (truncated)</td><td>departures-data-topic</td><td>1</td><td>2</td><td>2024-04-22T20:33:16.866Z</td><td>0</td></tr><tr><td>RjgxMTAw</td><td>eyJmbGlnaHRfc3RhdHVzIjogImxhbmRlZCIsICJkZXBhcnR1cmVfYWlycG9ydCI6ICJZVUwiLCAiZGVwYXJ0dXJlX2dhdGUiOiAiQzgyIiwgImFycml2YWxfYWlycG9ydCI6ICJGTEwiLCAic2NoZWR1bGVkX2RlcGFydHVyZSI= (truncated)</td><td>departures-data-topic</td><td>1</td><td>3</td><td>2024-04-22T20:33:16.866Z</td><td>0</td></tr><tr><td>VFMyODQ0</td><td>eyJmbGlnaHRfc3RhdHVzIjogImxhbmRlZCIsICJkZXBhcnR1cmVfYWlycG9ydCI6ICJZVUwiLCAiZGVwYXJ0dXJlX2dhdGUiOiAiQzgwIiwgImFycml2YWxfYWlycG9ydCI6ICJGTEwiLCAic2NoZWR1bGVkX2RlcGFydHVyZSI= (truncated)</td><td>departures-data-topic</td><td>1</td><td>4</td><td>2024-04-22T20:33:16.866Z</td><td>0</td></tr><tr><td>QUM4ODQ=</td><td>eyJmbGlnaHRfc3RhdHVzIjogImxhbmRlZCIsICJkZXBhcnR1cmVfYWlycG9ydCI6ICJZVUwiLCAiZGVwYXJ0dXJlX2dhdGUiOiAiQTU2IiwgImFycml2YWxfYWlycG9ydCI6ICJHVkEiLCAic2NoZWR1bGVkX2RlcGFydHVyZSI= (truncated)</td><td>departures-data-topic</td><td>1</td><td>5</td><td>2024-04-22T20:33:16.866Z</td><td>0</td></tr><tr><td>QUM4NzIz</td><td>eyJmbGlnaHRfc3RhdHVzIjogImxhbmRlZCIsICJkZXBhcnR1cmVfYWlycG9ydCI6ICJZVUwiLCAiZGVwYXJ0dXJlX2dhdGUiOiAiQzg1IiwgImFycml2YWxfYWlycG9ydCI6ICJJQUQiLCAic2NoZWR1bGVkX2RlcGFydHVyZSI= (truncated)</td><td>departures-data-topic</td><td>1</td><td>6</td><td>2024-04-22T20:33:16.866Z</td><td>0</td></tr><tr><td>VUEzNDEz</td><td>eyJmbGlnaHRfc3RhdHVzIjogImxhbmRlZCIsICJkZXBhcnR1cmVfYWlycG9ydCI6ICJZVUwiLCAiZGVwYXJ0dXJlX2dhdGUiOiAiQzg0IiwgImFycml2YWxfYWlycG9ydCI6ICJJQUQiLCAic2NoZWR1bGVkX2RlcGFydHVyZSI= (truncated)</td><td>departures-data-topic</td><td>1</td><td>7</td><td>2024-04-22T20:33:16.866Z</td><td>0</td></tr><tr><td>VUEzNTc0</td><td>eyJmbGlnaHRfc3RhdHVzIjogImxhbmRlZCIsICJkZXBhcnR1cmVfYWlycG9ydCI6ICJZVUwiLCAiZGVwYXJ0dXJlX2dhdGUiOiAiQzgwIiwgImFycml2YWxfYWlycG9ydCI6ICJJQUQiLCAic2NoZWR1bGVkX2RlcGFydHVyZSI= (truncated)</td><td>departures-data-topic</td><td>1</td><td>8</td><td>2024-04-22T20:33:16.866Z</td><td>0</td></tr><tr><td>QUM1ODE=</td><td>eyJmbGlnaHRfc3RhdHVzIjogImxhbmRlZCIsICJkZXBhcnR1cmVfYWlycG9ydCI6ICJZVUwiLCAiZGVwYXJ0dXJlX2dhdGUiOiAiQzc2IiwgImFycml2YWxfYWlycG9ydCI6ICJJQUgiLCAic2NoZWR1bGVkX2RlcGFydHVyZSI= (truncated)</td><td>departures-data-topic</td><td>1</td><td>9</td><td>2024-04-22T20:33:16.866Z</td><td>0</td></tr><tr><td>VEszNg==</td><td>eyJmbGlnaHRfc3RhdHVzIjogImxhbmRlZCIsICJkZXBhcnR1cmVfYWlycG9ydCI6ICJZVUwiLCAiZGVwYXJ0dXJlX2dhdGUiOiAiQTY0IiwgImFycml2YWxfYWlycG9ydCI6ICJJU1QiLCAic2NoZWR1bGVkX2RlcGFydHVyZSI= (truncated)</td><td>departures-data-topic</td><td>1</td><td>10</td><td>2024-04-22T20:33:16.866Z</td><td>0</td></tr><tr><td>REw0ODcw</td><td>eyJmbGlnaHRfc3RhdHVzIjogImxhbmRlZCIsICJkZXBhcnR1cmVfYWlycG9ydCI6ICJZVUwiLCAiZGVwYXJ0dXJlX2dhdGUiOiAiQzg2IiwgImFycml2YWxfYWlycG9ydCI6ICJEVFciLCAic2NoZWR1bGVkX2RlcGFydHVyZSI= (truncated)</td><td>departures-data-topic</td><td>5</td><td>0</td><td>2024-04-22T20:33:16.866Z</td><td>0</td></tr><tr><td>UUs5NDY=</td><td>eyJmbGlnaHRfc3RhdHVzIjogInNjaGVkdWxlZCIsICJkZXBhcnR1cmVfYWlycG9ydCI6ICJZVUwiLCAiZGVwYXJ0dXJlX2dhdGUiOiBudWxsLCAiYXJyaXZhbF9haXJwb3J0IjogIkVXUiIsICJzY2hlZHVsZWRfZGVwYXJ0dXI= (truncated)</td><td>departures-data-topic</td><td>5</td><td>1</td><td>2024-04-22T20:33:16.866Z</td><td>0</td></tr><tr><td>QUMxMDA0</td><td>eyJmbGlnaHRfc3RhdHVzIjogImxhbmRlZCIsICJkZXBhcnR1cmVfYWlycG9ydCI6ICJZVUwiLCAiZGVwYXJ0dXJlX2dhdGUiOiAiQzU2IiwgImFycml2YWxfYWlycG9ydCI6ICJGTEwiLCAic2NoZWR1bGVkX2RlcGFydHVyZSI= (truncated)</td><td>departures-data-topic</td><td>5</td><td>2</td><td>2024-04-22T20:33:16.866Z</td><td>0</td></tr><tr><td>V0c2NTQ0</td><td>eyJmbGlnaHRfc3RhdHVzIjogImxhbmRlZCIsICJkZXBhcnR1cmVfYWlycG9ydCI6ICJZVUwiLCAiZGVwYXJ0dXJlX2dhdGUiOiAiQTU5IiwgImFycml2YWxfYWlycG9ydCI6ICJIT0ciLCAic2NoZWR1bGVkX2RlcGFydHVyZSI= (truncated)</td><td>departures-data-topic</td><td>5</td><td>3</td><td>2024-04-22T20:33:16.866Z</td><td>0</td></tr><tr><td>TFhKNDUz</td><td>eyJmbGlnaHRfc3RhdHVzIjogImFjdGl2ZSIsICJkZXBhcnR1cmVfYWlycG9ydCI6ICJZVUwiLCAiZGVwYXJ0dXJlX2dhdGUiOiBudWxsLCAiYXJyaXZhbF9haXJwb3J0IjogIkhQTiIsICJzY2hlZHVsZWRfZGVwYXJ0dXJlIjo= (truncated)</td><td>departures-data-topic</td><td>5</td><td>4</td><td>2024-04-22T20:33:16.866Z</td><td>0</td></tr><tr><td>QUM4ODk4</td><td>eyJmbGlnaHRfc3RhdHVzIjogImFjdGl2ZSIsICJkZXBhcnR1cmVfYWlycG9ydCI6ICJZVUwiLCAiZGVwYXJ0dXJlX2dhdGUiOiAiQzg2IiwgImFycml2YWxfYWlycG9ydCI6ICJKRksiLCAic2NoZWR1bGVkX2RlcGFydHVyZSI= (truncated)</td><td>departures-data-topic</td><td>5</td><td>5</td><td>2024-04-22T20:33:16.866Z</td><td>0</td></tr><tr><td>QUM4OTg=</td><td>eyJmbGlnaHRfc3RhdHVzIjogImxhbmRlZCIsICJkZXBhcnR1cmVfYWlycG9ydCI6ICJZVUwiLCAiZGVwYXJ0dXJlX2dhdGUiOiBudWxsLCAiYXJyaXZhbF9haXJwb3J0IjogIkpGSyIsICJzY2hlZHVsZWRfZGVwYXJ0dXJlIjo= (truncated)</td><td>departures-data-topic</td><td>5</td><td>6</td><td>2024-04-22T20:33:16.866Z</td><td>0</td></tr><tr><td>REw1MDg4</td><td>eyJmbGlnaHRfc3RhdHVzIjogImxhbmRlZCIsICJkZXBhcnR1cmVfYWlycG9ydCI6ICJZVUwiLCAiZGVwYXJ0dXJlX2dhdGUiOiAiQzg0IiwgImFycml2YWxfYWlycG9ydCI6ICJKRksiLCAic2NoZWR1bGVkX2RlcGFydHVyZSI= (truncated)</td><td>departures-data-topic</td><td>5</td><td>7</td><td>2024-04-22T20:33:16.866Z</td><td>0</td></tr><tr><td>REw1MTUx</td><td>eyJmbGlnaHRfc3RhdHVzIjogImxhbmRlZCIsICJkZXBhcnR1cmVfYWlycG9ydCI6ICJZVUwiLCAiZGVwYXJ0dXJlX2dhdGUiOiAiQzg4IiwgImFycml2YWxfYWlycG9ydCI6ICJKRksiLCAic2NoZWR1bGVkX2RlcGFydHVyZSI= (truncated)</td><td>departures-data-topic</td><td>5</td><td>8</td><td>2024-04-22T20:33:16.866Z</td><td>0</td></tr><tr><td>QUM4OTM4</td><td>eyJmbGlnaHRfc3RhdHVzIjogImxhbmRlZCIsICJkZXBhcnR1cmVfYWlycG9ydCI6ICJZVUwiLCAiZGVwYXJ0dXJlX2dhdGUiOiAiQzc5IiwgImFycml2YWxfYWlycG9ydCI6ICJFV1IiLCAic2NoZWR1bGVkX2RlcGFydHVyZSI= (truncated)</td><td>departures-data-topic</td><td>0</td><td>0</td><td>2024-04-22T20:33:16.866Z</td><td>0</td></tr><tr><td>QUM5Ng==</td><td>eyJmbGlnaHRfc3RhdHVzIjogImxhbmRlZCIsICJkZXBhcnR1cmVfYWlycG9ydCI6ICJZVUwiLCAiZGVwYXJ0dXJlX2dhdGUiOiAiQTUxIiwgImFycml2YWxfYWlycG9ydCI6ICJHUlUiLCAic2NoZWR1bGVkX2RlcGFydHVyZSI= (truncated)</td><td>departures-data-topic</td><td>0</td><td>1</td><td>2024-04-22T20:33:16.866Z</td><td>0</td></tr><tr><td>VFM1NTQ=</td><td>eyJmbGlnaHRfc3RhdHVzIjogImxhbmRlZCIsICJkZXBhcnR1cmVfYWlycG9ydCI6ICJZVUwiLCAiZGVwYXJ0dXJlX2dhdGUiOiAiQTY3IiwgImFycml2YWxfYWlycG9ydCI6ICJIQVYiLCAic2NoZWR1bGVkX2RlcGFydHVyZSI= (truncated)</td><td>departures-data-topic</td><td>0</td><td>2</td><td>2024-04-22T20:33:16.866Z</td><td>0</td></tr></tbody></table></div>"
      ]
     },
     "metadata": {
      "application/vnd.databricks.v1+output": {
       "addedWidgets": {},
       "aggData": [],
       "aggError": "",
       "aggOverflow": false,
       "aggSchema": [],
       "aggSeriesLimitReached": false,
       "aggType": "",
       "arguments": {},
       "columnCustomDisplayInfos": {},
       "data": [
        [
         "QUM4NTgx",
         "eyJmbGlnaHRfc3RhdHVzIjogImxhbmRlZCIsICJkZXBhcnR1cmVfYWlycG9ydCI6ICJZVUwiLCAiZGVwYXJ0dXJlX2dhdGUiOiAiQzg5IiwgImFycml2YWxfYWlycG9ydCI6ICJEVFciLCAic2NoZWR1bGVkX2RlcGFydHVyZSI= (truncated)",
         "departures-data-topic",
         3,
         0,
         "2024-04-22T20:33:16.866Z",
         0
        ],
        [
         "REw1MzY3",
         "eyJmbGlnaHRfc3RhdHVzIjogImxhbmRlZCIsICJkZXBhcnR1cmVfYWlycG9ydCI6ICJZVUwiLCAiZGVwYXJ0dXJlX2dhdGUiOiAiQzg0IiwgImFycml2YWxfYWlycG9ydCI6ICJEVFciLCAic2NoZWR1bGVkX2RlcGFydHVyZSI= (truncated)",
         "departures-data-topic",
         3,
         1,
         "2024-04-22T20:33:16.866Z",
         0
        ],
        [
         "Tm9uZQ==",
         "eyJmbGlnaHRfc3RhdHVzIjogInNjaGVkdWxlZCIsICJkZXBhcnR1cmVfYWlycG9ydCI6ICJZVUwiLCAiZGVwYXJ0dXJlX2dhdGUiOiBudWxsLCAiYXJyaXZhbF9haXJwb3J0IjogIkVXUiIsICJzY2hlZHVsZWRfZGVwYXJ0dXI= (truncated)",
         "departures-data-topic",
         3,
         2,
         "2024-04-22T20:33:16.866Z",
         0
        ],
        [
         "QUM4OTQy",
         "eyJmbGlnaHRfc3RhdHVzIjogImxhbmRlZCIsICJkZXBhcnR1cmVfYWlycG9ydCI6ICJZVUwiLCAiZGVwYXJ0dXJlX2dhdGUiOiAiQzc0IiwgImFycml2YWxfYWlycG9ydCI6ICJFV1IiLCAic2NoZWR1bGVkX2RlcGFydHVyZSI= (truncated)",
         "departures-data-topic",
         3,
         3,
         "2024-04-22T20:33:16.866Z",
         0
        ],
        [
         "Tm9uZQ==",
         "eyJmbGlnaHRfc3RhdHVzIjogImxhbmRlZCIsICJkZXBhcnR1cmVfYWlycG9ydCI6ICJZVUwiLCAiZGVwYXJ0dXJlX2dhdGUiOiBudWxsLCAiYXJyaXZhbF9haXJwb3J0IjogIkZMTCIsICJzY2hlZHVsZWRfZGVwYXJ0dXJlIjo= (truncated)",
         "departures-data-topic",
         3,
         4,
         "2024-04-22T20:33:16.866Z",
         0
        ],
        [
         "UlYxNjAw",
         "eyJmbGlnaHRfc3RhdHVzIjogImxhbmRlZCIsICJkZXBhcnR1cmVfYWlycG9ydCI6ICJZVUwiLCAiZGVwYXJ0dXJlX2dhdGUiOiAiQzc3IiwgImFycml2YWxfYWlycG9ydCI6ICJGTEwiLCAic2NoZWR1bGVkX2RlcGFydHVyZSI= (truncated)",
         "departures-data-topic",
         3,
         5,
         "2024-04-22T20:33:16.866Z",
         0
        ],
        [
         "QUM4NDQ=",
         "eyJmbGlnaHRfc3RhdHVzIjogImxhbmRlZCIsICJkZXBhcnR1cmVfYWlycG9ydCI6ICJZVUwiLCAiZGVwYXJ0dXJlX2dhdGUiOiAiQTYzIiwgImFycml2YWxfYWlycG9ydCI6ICJGUkEiLCAic2NoZWR1bGVkX2RlcGFydHVyZSI= (truncated)",
         "departures-data-topic",
         3,
         6,
         "2024-04-22T20:33:16.866Z",
         0
        ],
        [
         "Tm9uZQ==",
         "eyJmbGlnaHRfc3RhdHVzIjogImxhbmRlZCIsICJkZXBhcnR1cmVfYWlycG9ydCI6ICJZVUwiLCAiZGVwYXJ0dXJlX2dhdGUiOiBudWxsLCAiYXJyaXZhbF9haXJwb3J0IjogIkpBWCIsICJzY2hlZHVsZWRfZGVwYXJ0dXJlIjo= (truncated)",
         "departures-data-topic",
         3,
         7,
         "2024-04-22T20:33:16.866Z",
         0
        ],
        [
         "QUM4OTQ2",
         "eyJmbGlnaHRfc3RhdHVzIjogInNjaGVkdWxlZCIsICJkZXBhcnR1cmVfYWlycG9ydCI6ICJZVUwiLCAiZGVwYXJ0dXJlX2dhdGUiOiAiQzg4IiwgImFycml2YWxfYWlycG9ydCI6ICJFV1IiLCAic2NoZWR1bGVkX2RlcGFydHU= (truncated)",
         "departures-data-topic",
         4,
         0,
         "2024-04-22T20:33:16.866Z",
         0
        ],
        [
         "VUEzNjgw",
         "eyJmbGlnaHRfc3RhdHVzIjogImxhbmRlZCIsICJkZXBhcnR1cmVfYWlycG9ydCI6ICJZVUwiLCAiZGVwYXJ0dXJlX2dhdGUiOiAiQzgyIiwgImFycml2YWxfYWlycG9ydCI6ICJFV1IiLCAic2NoZWR1bGVkX2RlcGFydHVyZSI= (truncated)",
         "departures-data-topic",
         4,
         1,
         "2024-04-22T20:33:16.866Z",
         0
        ],
        [
         "REw0ODY5",
         "eyJmbGlnaHRfc3RhdHVzIjogImxhbmRlZCIsICJkZXBhcnR1cmVfYWlycG9ydCI6ICJZVUwiLCAiZGVwYXJ0dXJlX2dhdGUiOiAiQzg3IiwgImFycml2YWxfYWlycG9ydCI6ICJEVFciLCAic2NoZWR1bGVkX2RlcGFydHVyZSI= (truncated)",
         "departures-data-topic",
         2,
         0,
         "2024-04-22T20:33:16.866Z",
         0
        ],
        [
         "RUsyNDQ=",
         "eyJmbGlnaHRfc3RhdHVzIjogImxhbmRlZCIsICJkZXBhcnR1cmVfYWlycG9ydCI6ICJZVUwiLCAiZGVwYXJ0dXJlX2dhdGUiOiAiQTYzIiwgImFycml2YWxfYWlycG9ydCI6ICJEWEIiLCAic2NoZWR1bGVkX2RlcGFydHVyZSI= (truncated)",
         "departures-data-topic",
         2,
         1,
         "2024-04-22T20:33:16.866Z",
         0
        ],
        [
         "QUM5NDY=",
         "eyJmbGlnaHRfc3RhdHVzIjogImxhbmRlZCIsICJkZXBhcnR1cmVfYWlycG9ydCI6ICJZVUwiLCAiZGVwYXJ0dXJlX2dhdGUiOiBudWxsLCAiYXJyaXZhbF9haXJwb3J0IjogIkVXUiIsICJzY2hlZHVsZWRfZGVwYXJ0dXJlIjo= (truncated)",
         "departures-data-topic",
         2,
         2,
         "2024-04-22T20:33:16.866Z",
         0
        ],
        [
         "VUEzNDU2",
         "eyJmbGlnaHRfc3RhdHVzIjogImxhbmRlZCIsICJkZXBhcnR1cmVfYWlycG9ydCI6ICJZVUwiLCAiZGVwYXJ0dXJlX2dhdGUiOiAiQzg0IiwgImFycml2YWxfYWlycG9ydCI6ICJFV1IiLCAic2NoZWR1bGVkX2RlcGFydHVyZSI= (truncated)",
         "departures-data-topic",
         2,
         3,
         "2024-04-22T20:33:16.866Z",
         0
        ],
        [
         "QUMxMDAy",
         "eyJmbGlnaHRfc3RhdHVzIjogImxhbmRlZCIsICJkZXBhcnR1cmVfYWlycG9ydCI6ICJZVUwiLCAiZGVwYXJ0dXJlX2dhdGUiOiAiQzczIiwgImFycml2YWxfYWlycG9ydCI6ICJGTEwiLCAic2NoZWR1bGVkX2RlcGFydHVyZSI= (truncated)",
         "departures-data-topic",
         2,
         4,
         "2024-04-22T20:33:16.866Z",
         0
        ],
        [
         "UlYxNjA2",
         "eyJmbGlnaHRfc3RhdHVzIjogImxhbmRlZCIsICJkZXBhcnR1cmVfYWlycG9ydCI6ICJZVUwiLCAiZGVwYXJ0dXJlX2dhdGUiOiAiQzc3IiwgImFycml2YWxfYWlycG9ydCI6ICJGTEwiLCAic2NoZWR1bGVkX2RlcGFydHVyZSI= (truncated)",
         "departures-data-topic",
         2,
         5,
         "2024-04-22T20:33:16.866Z",
         0
        ],
        [
         "VFMzNTY=",
         "eyJmbGlnaHRfc3RhdHVzIjogImxhbmRlZCIsICJkZXBhcnR1cmVfYWlycG9ydCI6ICJZVUwiLCAiZGVwYXJ0dXJlX2dhdGUiOiAiQTY1IiwgImFycml2YWxfYWlycG9ydCI6ICJIT0ciLCAic2NoZWR1bGVkX2RlcGFydHVyZSI= (truncated)",
         "departures-data-topic",
         2,
         6,
         "2024-04-22T20:33:16.866Z",
         0
        ],
        [
         "QUM4OTQw",
         "eyJmbGlnaHRfc3RhdHVzIjogImxhbmRlZCIsICJkZXBhcnR1cmVfYWlycG9ydCI6ICJZVUwiLCAiZGVwYXJ0dXJlX2dhdGUiOiAiQzgzIiwgImFycml2YWxfYWlycG9ydCI6ICJFV1IiLCAic2NoZWR1bGVkX2RlcGFydHVyZSI= (truncated)",
         "departures-data-topic",
         1,
         0,
         "2024-04-22T20:33:16.866Z",
         0
        ],
        [
         "QUM4OTI=",
         "eyJmbGlnaHRfc3RhdHVzIjogImxhbmRlZCIsICJkZXBhcnR1cmVfYWlycG9ydCI6ICJZVUwiLCAiZGVwYXJ0dXJlX2dhdGUiOiAiQTU1IiwgImFycml2YWxfYWlycG9ydCI6ICJGQ08iLCAic2NoZWR1bGVkX2RlcGFydHVyZSI= (truncated)",
         "departures-data-topic",
         1,
         1,
         "2024-04-22T20:33:16.866Z",
         0
        ],
        [
         "QUM5NTQ=",
         "eyJmbGlnaHRfc3RhdHVzIjogImxhbmRlZCIsICJkZXBhcnR1cmVfYWlycG9ydCI6ICJZVUwiLCAiZGVwYXJ0dXJlX2dhdGUiOiAiQTU1IiwgImFycml2YWxfYWlycG9ydCI6ICJGREYiLCAic2NoZWR1bGVkX2RlcGFydHVyZSI= (truncated)",
         "departures-data-topic",
         1,
         2,
         "2024-04-22T20:33:16.866Z",
         0
        ],
        [
         "RjgxMTAw",
         "eyJmbGlnaHRfc3RhdHVzIjogImxhbmRlZCIsICJkZXBhcnR1cmVfYWlycG9ydCI6ICJZVUwiLCAiZGVwYXJ0dXJlX2dhdGUiOiAiQzgyIiwgImFycml2YWxfYWlycG9ydCI6ICJGTEwiLCAic2NoZWR1bGVkX2RlcGFydHVyZSI= (truncated)",
         "departures-data-topic",
         1,
         3,
         "2024-04-22T20:33:16.866Z",
         0
        ],
        [
         "VFMyODQ0",
         "eyJmbGlnaHRfc3RhdHVzIjogImxhbmRlZCIsICJkZXBhcnR1cmVfYWlycG9ydCI6ICJZVUwiLCAiZGVwYXJ0dXJlX2dhdGUiOiAiQzgwIiwgImFycml2YWxfYWlycG9ydCI6ICJGTEwiLCAic2NoZWR1bGVkX2RlcGFydHVyZSI= (truncated)",
         "departures-data-topic",
         1,
         4,
         "2024-04-22T20:33:16.866Z",
         0
        ],
        [
         "QUM4ODQ=",
         "eyJmbGlnaHRfc3RhdHVzIjogImxhbmRlZCIsICJkZXBhcnR1cmVfYWlycG9ydCI6ICJZVUwiLCAiZGVwYXJ0dXJlX2dhdGUiOiAiQTU2IiwgImFycml2YWxfYWlycG9ydCI6ICJHVkEiLCAic2NoZWR1bGVkX2RlcGFydHVyZSI= (truncated)",
         "departures-data-topic",
         1,
         5,
         "2024-04-22T20:33:16.866Z",
         0
        ],
        [
         "QUM4NzIz",
         "eyJmbGlnaHRfc3RhdHVzIjogImxhbmRlZCIsICJkZXBhcnR1cmVfYWlycG9ydCI6ICJZVUwiLCAiZGVwYXJ0dXJlX2dhdGUiOiAiQzg1IiwgImFycml2YWxfYWlycG9ydCI6ICJJQUQiLCAic2NoZWR1bGVkX2RlcGFydHVyZSI= (truncated)",
         "departures-data-topic",
         1,
         6,
         "2024-04-22T20:33:16.866Z",
         0
        ],
        [
         "VUEzNDEz",
         "eyJmbGlnaHRfc3RhdHVzIjogImxhbmRlZCIsICJkZXBhcnR1cmVfYWlycG9ydCI6ICJZVUwiLCAiZGVwYXJ0dXJlX2dhdGUiOiAiQzg0IiwgImFycml2YWxfYWlycG9ydCI6ICJJQUQiLCAic2NoZWR1bGVkX2RlcGFydHVyZSI= (truncated)",
         "departures-data-topic",
         1,
         7,
         "2024-04-22T20:33:16.866Z",
         0
        ],
        [
         "VUEzNTc0",
         "eyJmbGlnaHRfc3RhdHVzIjogImxhbmRlZCIsICJkZXBhcnR1cmVfYWlycG9ydCI6ICJZVUwiLCAiZGVwYXJ0dXJlX2dhdGUiOiAiQzgwIiwgImFycml2YWxfYWlycG9ydCI6ICJJQUQiLCAic2NoZWR1bGVkX2RlcGFydHVyZSI= (truncated)",
         "departures-data-topic",
         1,
         8,
         "2024-04-22T20:33:16.866Z",
         0
        ],
        [
         "QUM1ODE=",
         "eyJmbGlnaHRfc3RhdHVzIjogImxhbmRlZCIsICJkZXBhcnR1cmVfYWlycG9ydCI6ICJZVUwiLCAiZGVwYXJ0dXJlX2dhdGUiOiAiQzc2IiwgImFycml2YWxfYWlycG9ydCI6ICJJQUgiLCAic2NoZWR1bGVkX2RlcGFydHVyZSI= (truncated)",
         "departures-data-topic",
         1,
         9,
         "2024-04-22T20:33:16.866Z",
         0
        ],
        [
         "VEszNg==",
         "eyJmbGlnaHRfc3RhdHVzIjogImxhbmRlZCIsICJkZXBhcnR1cmVfYWlycG9ydCI6ICJZVUwiLCAiZGVwYXJ0dXJlX2dhdGUiOiAiQTY0IiwgImFycml2YWxfYWlycG9ydCI6ICJJU1QiLCAic2NoZWR1bGVkX2RlcGFydHVyZSI= (truncated)",
         "departures-data-topic",
         1,
         10,
         "2024-04-22T20:33:16.866Z",
         0
        ],
        [
         "REw0ODcw",
         "eyJmbGlnaHRfc3RhdHVzIjogImxhbmRlZCIsICJkZXBhcnR1cmVfYWlycG9ydCI6ICJZVUwiLCAiZGVwYXJ0dXJlX2dhdGUiOiAiQzg2IiwgImFycml2YWxfYWlycG9ydCI6ICJEVFciLCAic2NoZWR1bGVkX2RlcGFydHVyZSI= (truncated)",
         "departures-data-topic",
         5,
         0,
         "2024-04-22T20:33:16.866Z",
         0
        ],
        [
         "UUs5NDY=",
         "eyJmbGlnaHRfc3RhdHVzIjogInNjaGVkdWxlZCIsICJkZXBhcnR1cmVfYWlycG9ydCI6ICJZVUwiLCAiZGVwYXJ0dXJlX2dhdGUiOiBudWxsLCAiYXJyaXZhbF9haXJwb3J0IjogIkVXUiIsICJzY2hlZHVsZWRfZGVwYXJ0dXI= (truncated)",
         "departures-data-topic",
         5,
         1,
         "2024-04-22T20:33:16.866Z",
         0
        ],
        [
         "QUMxMDA0",
         "eyJmbGlnaHRfc3RhdHVzIjogImxhbmRlZCIsICJkZXBhcnR1cmVfYWlycG9ydCI6ICJZVUwiLCAiZGVwYXJ0dXJlX2dhdGUiOiAiQzU2IiwgImFycml2YWxfYWlycG9ydCI6ICJGTEwiLCAic2NoZWR1bGVkX2RlcGFydHVyZSI= (truncated)",
         "departures-data-topic",
         5,
         2,
         "2024-04-22T20:33:16.866Z",
         0
        ],
        [
         "V0c2NTQ0",
         "eyJmbGlnaHRfc3RhdHVzIjogImxhbmRlZCIsICJkZXBhcnR1cmVfYWlycG9ydCI6ICJZVUwiLCAiZGVwYXJ0dXJlX2dhdGUiOiAiQTU5IiwgImFycml2YWxfYWlycG9ydCI6ICJIT0ciLCAic2NoZWR1bGVkX2RlcGFydHVyZSI= (truncated)",
         "departures-data-topic",
         5,
         3,
         "2024-04-22T20:33:16.866Z",
         0
        ],
        [
         "TFhKNDUz",
         "eyJmbGlnaHRfc3RhdHVzIjogImFjdGl2ZSIsICJkZXBhcnR1cmVfYWlycG9ydCI6ICJZVUwiLCAiZGVwYXJ0dXJlX2dhdGUiOiBudWxsLCAiYXJyaXZhbF9haXJwb3J0IjogIkhQTiIsICJzY2hlZHVsZWRfZGVwYXJ0dXJlIjo= (truncated)",
         "departures-data-topic",
         5,
         4,
         "2024-04-22T20:33:16.866Z",
         0
        ],
        [
         "QUM4ODk4",
         "eyJmbGlnaHRfc3RhdHVzIjogImFjdGl2ZSIsICJkZXBhcnR1cmVfYWlycG9ydCI6ICJZVUwiLCAiZGVwYXJ0dXJlX2dhdGUiOiAiQzg2IiwgImFycml2YWxfYWlycG9ydCI6ICJKRksiLCAic2NoZWR1bGVkX2RlcGFydHVyZSI= (truncated)",
         "departures-data-topic",
         5,
         5,
         "2024-04-22T20:33:16.866Z",
         0
        ],
        [
         "QUM4OTg=",
         "eyJmbGlnaHRfc3RhdHVzIjogImxhbmRlZCIsICJkZXBhcnR1cmVfYWlycG9ydCI6ICJZVUwiLCAiZGVwYXJ0dXJlX2dhdGUiOiBudWxsLCAiYXJyaXZhbF9haXJwb3J0IjogIkpGSyIsICJzY2hlZHVsZWRfZGVwYXJ0dXJlIjo= (truncated)",
         "departures-data-topic",
         5,
         6,
         "2024-04-22T20:33:16.866Z",
         0
        ],
        [
         "REw1MDg4",
         "eyJmbGlnaHRfc3RhdHVzIjogImxhbmRlZCIsICJkZXBhcnR1cmVfYWlycG9ydCI6ICJZVUwiLCAiZGVwYXJ0dXJlX2dhdGUiOiAiQzg0IiwgImFycml2YWxfYWlycG9ydCI6ICJKRksiLCAic2NoZWR1bGVkX2RlcGFydHVyZSI= (truncated)",
         "departures-data-topic",
         5,
         7,
         "2024-04-22T20:33:16.866Z",
         0
        ],
        [
         "REw1MTUx",
         "eyJmbGlnaHRfc3RhdHVzIjogImxhbmRlZCIsICJkZXBhcnR1cmVfYWlycG9ydCI6ICJZVUwiLCAiZGVwYXJ0dXJlX2dhdGUiOiAiQzg4IiwgImFycml2YWxfYWlycG9ydCI6ICJKRksiLCAic2NoZWR1bGVkX2RlcGFydHVyZSI= (truncated)",
         "departures-data-topic",
         5,
         8,
         "2024-04-22T20:33:16.866Z",
         0
        ],
        [
         "QUM4OTM4",
         "eyJmbGlnaHRfc3RhdHVzIjogImxhbmRlZCIsICJkZXBhcnR1cmVfYWlycG9ydCI6ICJZVUwiLCAiZGVwYXJ0dXJlX2dhdGUiOiAiQzc5IiwgImFycml2YWxfYWlycG9ydCI6ICJFV1IiLCAic2NoZWR1bGVkX2RlcGFydHVyZSI= (truncated)",
         "departures-data-topic",
         0,
         0,
         "2024-04-22T20:33:16.866Z",
         0
        ],
        [
         "QUM5Ng==",
         "eyJmbGlnaHRfc3RhdHVzIjogImxhbmRlZCIsICJkZXBhcnR1cmVfYWlycG9ydCI6ICJZVUwiLCAiZGVwYXJ0dXJlX2dhdGUiOiAiQTUxIiwgImFycml2YWxfYWlycG9ydCI6ICJHUlUiLCAic2NoZWR1bGVkX2RlcGFydHVyZSI= (truncated)",
         "departures-data-topic",
         0,
         1,
         "2024-04-22T20:33:16.866Z",
         0
        ],
        [
         "VFM1NTQ=",
         "eyJmbGlnaHRfc3RhdHVzIjogImxhbmRlZCIsICJkZXBhcnR1cmVfYWlycG9ydCI6ICJZVUwiLCAiZGVwYXJ0dXJlX2dhdGUiOiAiQTY3IiwgImFycml2YWxfYWlycG9ydCI6ICJIQVYiLCAic2NoZWR1bGVkX2RlcGFydHVyZSI= (truncated)",
         "departures-data-topic",
         0,
         2,
         "2024-04-22T20:33:16.866Z",
         0
        ]
       ],
       "datasetInfos": [],
       "dbfsResultPath": null,
       "isJsonSchema": true,
       "metadata": {},
       "overflow": false,
       "plotOptions": {
        "customPlotOptions": {},
        "displayType": "table",
        "pivotAggregation": null,
        "pivotColumns": null,
        "xColumns": null,
        "yColumns": null
       },
       "removedWidgets": [],
       "schema": [
        {
         "metadata": "{}",
         "name": "key",
         "type": "\"binary\""
        },
        {
         "metadata": "{}",
         "name": "value",
         "type": "\"binary\""
        },
        {
         "metadata": "{}",
         "name": "topic",
         "type": "\"string\""
        },
        {
         "metadata": "{}",
         "name": "partition",
         "type": "\"integer\""
        },
        {
         "metadata": "{}",
         "name": "offset",
         "type": "\"long\""
        },
        {
         "metadata": "{}",
         "name": "timestamp",
         "type": "\"timestamp\""
        },
        {
         "metadata": "{}",
         "name": "timestampType",
         "type": "\"integer\""
        }
       ],
       "type": "table"
      }
     },
     "output_type": "display_data"
    }
   ],
   "source": [
    "display(df_kafka)"
   ]
  },
  {
   "cell_type": "code",
   "execution_count": 0,
   "metadata": {
    "application/vnd.databricks.v1+cell": {
     "cellMetadata": {
      "byteLimit": 2048000,
      "rowLimit": 10000
     },
     "inputWidgets": {},
     "nuid": "34e3dcc0-da01-49dd-980c-5a3b98763f8d",
     "showTitle": false,
     "title": ""
    }
   },
   "outputs": [],
   "source": [
    "# De-serialize the above data frame to make sense of what is going on using the schema declared earlier\n",
    "departures_data = df_kafka.select(from_json(col(\"value\").cast(\"string\"), schema).alias(\"data\")).select(\"data.*\")"
   ]
  },
  {
   "cell_type": "code",
   "execution_count": 0,
   "metadata": {
    "application/vnd.databricks.v1+cell": {
     "cellMetadata": {
      "byteLimit": 2048000,
      "rowLimit": 10000
     },
     "inputWidgets": {},
     "nuid": "f11c8472-6942-4dbb-a84b-a0b8b09b8a66",
     "showTitle": false,
     "title": ""
    }
   },
   "outputs": [
    {
     "output_type": "display_data",
     "data": {
      "text/html": [
       "<style scoped>\n",
       "  .table-result-container {\n",
       "    max-height: 300px;\n",
       "    overflow: auto;\n",
       "  }\n",
       "  table, th, td {\n",
       "    border: 1px solid black;\n",
       "    border-collapse: collapse;\n",
       "  }\n",
       "  th, td {\n",
       "    padding: 5px;\n",
       "  }\n",
       "  th {\n",
       "    text-align: left;\n",
       "  }\n",
       "</style><div class='table-result-container'><table class='table-result'><thead style='background-color: white'><tr><th>flight_status</th><th>departure_airport</th><th>departure_gate</th><th>arrival_airport</th><th>scheduled_departure</th><th>actual_departure</th><th>delay_minutes</th><th>airline_name</th><th>flight_number</th></tr></thead><tbody><tr><td>landed</td><td>YUL</td><td>C89</td><td>DTW</td><td>2024-03-01T13:05:00+00:00</td><td>2024-03-01T13:55:00+00:00</td><td>50</td><td>Air Canada</td><td>AC8581</td></tr><tr><td>landed</td><td>YUL</td><td>C84</td><td>DTW</td><td>2024-03-01T17:50:00+00:00</td><td>2024-03-01T18:16:00+00:00</td><td>27</td><td>Delta Air Lines</td><td>DL5367</td></tr><tr><td>scheduled</td><td>YUL</td><td>null</td><td>EWR</td><td>2024-03-01T20:00:00+00:00</td><td>null</td><td>null</td><td>empty</td><td>null</td></tr><tr><td>landed</td><td>YUL</td><td>C74</td><td>EWR</td><td>2024-03-01T15:05:00+00:00</td><td>2024-03-01T15:44:00+00:00</td><td>39</td><td>Air Canada</td><td>AC8942</td></tr><tr><td>landed</td><td>YUL</td><td>null</td><td>FLL</td><td>2024-03-01T09:00:00+00:00</td><td>2024-03-01T08:52:00+00:00</td><td>null</td><td>Airsprint</td><td>null</td></tr><tr><td>landed</td><td>YUL</td><td>C77</td><td>FLL</td><td>2024-03-01T07:40:00+00:00</td><td>2024-03-01T07:56:00+00:00</td><td>17</td><td>Air Canada Rouge</td><td>RV1600</td></tr><tr><td>landed</td><td>YUL</td><td>A63</td><td>FRA</td><td>2024-03-01T18:05:00+00:00</td><td>2024-03-01T18:33:00+00:00</td><td>28</td><td>Air Canada</td><td>AC844</td></tr><tr><td>landed</td><td>YUL</td><td>null</td><td>JAX</td><td>2024-03-01T14:30:00+00:00</td><td>2024-03-01T14:50:00+00:00</td><td>21</td><td>Hop-A-Jet</td><td>null</td></tr><tr><td>scheduled</td><td>YUL</td><td>C88</td><td>EWR</td><td>2024-03-01T20:00:00+00:00</td><td>null</td><td>21</td><td>Air Canada</td><td>AC8946</td></tr><tr><td>landed</td><td>YUL</td><td>C82</td><td>EWR</td><td>2024-03-01T11:08:00+00:00</td><td>2024-03-01T11:15:00+00:00</td><td>8</td><td>United Airlines</td><td>UA3680</td></tr><tr><td>landed</td><td>YUL</td><td>C87</td><td>DTW</td><td>2024-03-01T06:00:00+00:00</td><td>2024-03-01T06:10:00+00:00</td><td>11</td><td>Delta Air Lines</td><td>DL4869</td></tr><tr><td>landed</td><td>YUL</td><td>A63</td><td>DXB</td><td>2024-03-01T09:20:00+00:00</td><td>2024-03-01T09:54:00+00:00</td><td>35</td><td>Emirates</td><td>EK244</td></tr><tr><td>landed</td><td>YUL</td><td>null</td><td>EWR</td><td>2024-03-01T20:00:00+00:00</td><td>2024-03-01T20:27:00+00:00</td><td>28</td><td>Air Canada</td><td>AC946</td></tr><tr><td>landed</td><td>YUL</td><td>C84</td><td>EWR</td><td>2024-03-01T07:00:00+00:00</td><td>2024-03-01T07:19:00+00:00</td><td>20</td><td>United Airlines</td><td>UA3456</td></tr><tr><td>landed</td><td>YUL</td><td>C73</td><td>FLL</td><td>2024-03-01T08:55:00+00:00</td><td>2024-03-01T09:39:00+00:00</td><td>44</td><td>Air Canada</td><td>AC1002</td></tr><tr><td>landed</td><td>YUL</td><td>C77</td><td>FLL</td><td>2024-03-01T16:20:00+00:00</td><td>2024-03-01T16:27:00+00:00</td><td>8</td><td>Air Canada Rouge</td><td>RV1606</td></tr><tr><td>landed</td><td>YUL</td><td>A65</td><td>HOG</td><td>2024-03-01T07:10:00+00:00</td><td>2024-03-01T07:50:00+00:00</td><td>41</td><td>Air Transat</td><td>TS356</td></tr><tr><td>landed</td><td>YUL</td><td>C83</td><td>EWR</td><td>2024-03-01T13:05:00+00:00</td><td>2024-03-01T13:16:00+00:00</td><td>11</td><td>Air Canada</td><td>AC8940</td></tr><tr><td>landed</td><td>YUL</td><td>A55</td><td>FCO</td><td>2024-03-01T20:45:00+00:00</td><td>2024-03-01T22:24:00+00:00</td><td>99</td><td>Air Canada</td><td>AC892</td></tr><tr><td>landed</td><td>YUL</td><td>A55</td><td>FDF</td><td>2024-03-01T09:00:00+00:00</td><td>2024-03-01T09:16:00+00:00</td><td>16</td><td>Air Canada</td><td>AC954</td></tr><tr><td>landed</td><td>YUL</td><td>C82</td><td>FLL</td><td>2024-03-01T15:50:00+00:00</td><td>2024-03-01T16:40:00+00:00</td><td>51</td><td>Flair Airlines</td><td>F81100</td></tr><tr><td>landed</td><td>YUL</td><td>C80</td><td>FLL</td><td>2024-03-01T06:30:00+00:00</td><td>2024-03-01T06:50:00+00:00</td><td>21</td><td>Air Transat</td><td>TS2844</td></tr><tr><td>landed</td><td>YUL</td><td>A56</td><td>GVA</td><td>2024-03-01T20:25:00+00:00</td><td>2024-03-01T20:42:00+00:00</td><td>18</td><td>Air Canada</td><td>AC884</td></tr><tr><td>landed</td><td>YUL</td><td>C85</td><td>IAD</td><td>2024-03-01T13:05:00+00:00</td><td>2024-03-01T13:25:00+00:00</td><td>21</td><td>Air Canada</td><td>AC8723</td></tr><tr><td>landed</td><td>YUL</td><td>C84</td><td>IAD</td><td>2024-03-01T09:15:00+00:00</td><td>2024-03-01T09:25:00+00:00</td><td>10</td><td>United Airlines</td><td>UA3413</td></tr><tr><td>landed</td><td>YUL</td><td>C80</td><td>IAD</td><td>2024-03-01T18:30:00+00:00</td><td>2024-03-01T18:52:00+00:00</td><td>23</td><td>United Airlines</td><td>UA3574</td></tr><tr><td>landed</td><td>YUL</td><td>C76</td><td>IAH</td><td>2024-03-01T09:50:00+00:00</td><td>2024-03-01T10:05:00+00:00</td><td>15</td><td>Air Canada</td><td>AC581</td></tr><tr><td>landed</td><td>YUL</td><td>A64</td><td>IST</td><td>2024-03-01T20:30:00+00:00</td><td>2024-03-01T21:25:00+00:00</td><td>55</td><td>Turkish Airlines</td><td>TK36</td></tr><tr><td>landed</td><td>YUL</td><td>C86</td><td>DTW</td><td>2024-03-01T13:05:00+00:00</td><td>2024-03-01T13:14:00+00:00</td><td>10</td><td>Delta Air Lines</td><td>DL4870</td></tr><tr><td>scheduled</td><td>YUL</td><td>null</td><td>EWR</td><td>2024-03-01T20:00:00+00:00</td><td>null</td><td>21</td><td>Jazz</td><td>QK946</td></tr><tr><td>landed</td><td>YUL</td><td>C56</td><td>FLL</td><td>2024-03-01T13:10:00+00:00</td><td>2024-03-01T13:42:00+00:00</td><td>32</td><td>Air Canada</td><td>AC1004</td></tr><tr><td>landed</td><td>YUL</td><td>A59</td><td>HOG</td><td>2024-03-01T07:30:00+00:00</td><td>2024-03-01T07:55:00+00:00</td><td>25</td><td>Sunwing</td><td>WG6544</td></tr><tr><td>active</td><td>YUL</td><td>null</td><td>HPN</td><td>2024-03-01T07:00:00+00:00</td><td>2024-03-01T06:56:00+00:00</td><td>null</td><td>Flexjet</td><td>LXJ453</td></tr><tr><td>active</td><td>YUL</td><td>C86</td><td>JFK</td><td>2024-03-01T18:55:00+00:00</td><td>null</td><td>38</td><td>Air Canada</td><td>AC8898</td></tr><tr><td>landed</td><td>YUL</td><td>null</td><td>JFK</td><td>2024-03-01T18:55:00+00:00</td><td>2024-03-01T19:33:00+00:00</td><td>39</td><td>Air Canada</td><td>AC898</td></tr><tr><td>landed</td><td>YUL</td><td>C84</td><td>JFK</td><td>2024-03-01T12:20:00+00:00</td><td>2024-03-01T12:36:00+00:00</td><td>16</td><td>Delta Air Lines</td><td>DL5088</td></tr><tr><td>landed</td><td>YUL</td><td>C88</td><td>JFK</td><td>2024-03-01T17:55:00+00:00</td><td>2024-03-01T18:27:00+00:00</td><td>33</td><td>Delta Air Lines</td><td>DL5151</td></tr><tr><td>landed</td><td>YUL</td><td>C79</td><td>EWR</td><td>2024-03-01T08:15:00+00:00</td><td>2024-03-01T08:57:00+00:00</td><td>43</td><td>Air Canada</td><td>AC8938</td></tr><tr><td>landed</td><td>YUL</td><td>A51</td><td>GRU</td><td>2024-03-01T21:25:00+00:00</td><td>2024-03-01T21:54:00+00:00</td><td>29</td><td>Air Canada</td><td>AC96</td></tr><tr><td>landed</td><td>YUL</td><td>A67</td><td>HAV</td><td>2024-03-01T18:30:00+00:00</td><td>2024-03-01T19:03:00+00:00</td><td>33</td><td>Air Transat</td><td>TS554</td></tr></tbody></table></div>"
      ]
     },
     "metadata": {
      "application/vnd.databricks.v1+output": {
       "addedWidgets": {},
       "aggData": [],
       "aggError": "",
       "aggOverflow": false,
       "aggSchema": [],
       "aggSeriesLimitReached": false,
       "aggType": "",
       "arguments": {},
       "columnCustomDisplayInfos": {},
       "data": [
        [
         "landed",
         "YUL",
         "C89",
         "DTW",
         "2024-03-01T13:05:00+00:00",
         "2024-03-01T13:55:00+00:00",
         50,
         "Air Canada",
         "AC8581"
        ],
        [
         "landed",
         "YUL",
         "C84",
         "DTW",
         "2024-03-01T17:50:00+00:00",
         "2024-03-01T18:16:00+00:00",
         27,
         "Delta Air Lines",
         "DL5367"
        ],
        [
         "scheduled",
         "YUL",
         null,
         "EWR",
         "2024-03-01T20:00:00+00:00",
         null,
         null,
         "empty",
         null
        ],
        [
         "landed",
         "YUL",
         "C74",
         "EWR",
         "2024-03-01T15:05:00+00:00",
         "2024-03-01T15:44:00+00:00",
         39,
         "Air Canada",
         "AC8942"
        ],
        [
         "landed",
         "YUL",
         null,
         "FLL",
         "2024-03-01T09:00:00+00:00",
         "2024-03-01T08:52:00+00:00",
         null,
         "Airsprint",
         null
        ],
        [
         "landed",
         "YUL",
         "C77",
         "FLL",
         "2024-03-01T07:40:00+00:00",
         "2024-03-01T07:56:00+00:00",
         17,
         "Air Canada Rouge",
         "RV1600"
        ],
        [
         "landed",
         "YUL",
         "A63",
         "FRA",
         "2024-03-01T18:05:00+00:00",
         "2024-03-01T18:33:00+00:00",
         28,
         "Air Canada",
         "AC844"
        ],
        [
         "landed",
         "YUL",
         null,
         "JAX",
         "2024-03-01T14:30:00+00:00",
         "2024-03-01T14:50:00+00:00",
         21,
         "Hop-A-Jet",
         null
        ],
        [
         "scheduled",
         "YUL",
         "C88",
         "EWR",
         "2024-03-01T20:00:00+00:00",
         null,
         21,
         "Air Canada",
         "AC8946"
        ],
        [
         "landed",
         "YUL",
         "C82",
         "EWR",
         "2024-03-01T11:08:00+00:00",
         "2024-03-01T11:15:00+00:00",
         8,
         "United Airlines",
         "UA3680"
        ],
        [
         "landed",
         "YUL",
         "C87",
         "DTW",
         "2024-03-01T06:00:00+00:00",
         "2024-03-01T06:10:00+00:00",
         11,
         "Delta Air Lines",
         "DL4869"
        ],
        [
         "landed",
         "YUL",
         "A63",
         "DXB",
         "2024-03-01T09:20:00+00:00",
         "2024-03-01T09:54:00+00:00",
         35,
         "Emirates",
         "EK244"
        ],
        [
         "landed",
         "YUL",
         null,
         "EWR",
         "2024-03-01T20:00:00+00:00",
         "2024-03-01T20:27:00+00:00",
         28,
         "Air Canada",
         "AC946"
        ],
        [
         "landed",
         "YUL",
         "C84",
         "EWR",
         "2024-03-01T07:00:00+00:00",
         "2024-03-01T07:19:00+00:00",
         20,
         "United Airlines",
         "UA3456"
        ],
        [
         "landed",
         "YUL",
         "C73",
         "FLL",
         "2024-03-01T08:55:00+00:00",
         "2024-03-01T09:39:00+00:00",
         44,
         "Air Canada",
         "AC1002"
        ],
        [
         "landed",
         "YUL",
         "C77",
         "FLL",
         "2024-03-01T16:20:00+00:00",
         "2024-03-01T16:27:00+00:00",
         8,
         "Air Canada Rouge",
         "RV1606"
        ],
        [
         "landed",
         "YUL",
         "A65",
         "HOG",
         "2024-03-01T07:10:00+00:00",
         "2024-03-01T07:50:00+00:00",
         41,
         "Air Transat",
         "TS356"
        ],
        [
         "landed",
         "YUL",
         "C83",
         "EWR",
         "2024-03-01T13:05:00+00:00",
         "2024-03-01T13:16:00+00:00",
         11,
         "Air Canada",
         "AC8940"
        ],
        [
         "landed",
         "YUL",
         "A55",
         "FCO",
         "2024-03-01T20:45:00+00:00",
         "2024-03-01T22:24:00+00:00",
         99,
         "Air Canada",
         "AC892"
        ],
        [
         "landed",
         "YUL",
         "A55",
         "FDF",
         "2024-03-01T09:00:00+00:00",
         "2024-03-01T09:16:00+00:00",
         16,
         "Air Canada",
         "AC954"
        ],
        [
         "landed",
         "YUL",
         "C82",
         "FLL",
         "2024-03-01T15:50:00+00:00",
         "2024-03-01T16:40:00+00:00",
         51,
         "Flair Airlines",
         "F81100"
        ],
        [
         "landed",
         "YUL",
         "C80",
         "FLL",
         "2024-03-01T06:30:00+00:00",
         "2024-03-01T06:50:00+00:00",
         21,
         "Air Transat",
         "TS2844"
        ],
        [
         "landed",
         "YUL",
         "A56",
         "GVA",
         "2024-03-01T20:25:00+00:00",
         "2024-03-01T20:42:00+00:00",
         18,
         "Air Canada",
         "AC884"
        ],
        [
         "landed",
         "YUL",
         "C85",
         "IAD",
         "2024-03-01T13:05:00+00:00",
         "2024-03-01T13:25:00+00:00",
         21,
         "Air Canada",
         "AC8723"
        ],
        [
         "landed",
         "YUL",
         "C84",
         "IAD",
         "2024-03-01T09:15:00+00:00",
         "2024-03-01T09:25:00+00:00",
         10,
         "United Airlines",
         "UA3413"
        ],
        [
         "landed",
         "YUL",
         "C80",
         "IAD",
         "2024-03-01T18:30:00+00:00",
         "2024-03-01T18:52:00+00:00",
         23,
         "United Airlines",
         "UA3574"
        ],
        [
         "landed",
         "YUL",
         "C76",
         "IAH",
         "2024-03-01T09:50:00+00:00",
         "2024-03-01T10:05:00+00:00",
         15,
         "Air Canada",
         "AC581"
        ],
        [
         "landed",
         "YUL",
         "A64",
         "IST",
         "2024-03-01T20:30:00+00:00",
         "2024-03-01T21:25:00+00:00",
         55,
         "Turkish Airlines",
         "TK36"
        ],
        [
         "landed",
         "YUL",
         "C86",
         "DTW",
         "2024-03-01T13:05:00+00:00",
         "2024-03-01T13:14:00+00:00",
         10,
         "Delta Air Lines",
         "DL4870"
        ],
        [
         "scheduled",
         "YUL",
         null,
         "EWR",
         "2024-03-01T20:00:00+00:00",
         null,
         21,
         "Jazz",
         "QK946"
        ],
        [
         "landed",
         "YUL",
         "C56",
         "FLL",
         "2024-03-01T13:10:00+00:00",
         "2024-03-01T13:42:00+00:00",
         32,
         "Air Canada",
         "AC1004"
        ],
        [
         "landed",
         "YUL",
         "A59",
         "HOG",
         "2024-03-01T07:30:00+00:00",
         "2024-03-01T07:55:00+00:00",
         25,
         "Sunwing",
         "WG6544"
        ],
        [
         "active",
         "YUL",
         null,
         "HPN",
         "2024-03-01T07:00:00+00:00",
         "2024-03-01T06:56:00+00:00",
         null,
         "Flexjet",
         "LXJ453"
        ],
        [
         "active",
         "YUL",
         "C86",
         "JFK",
         "2024-03-01T18:55:00+00:00",
         null,
         38,
         "Air Canada",
         "AC8898"
        ],
        [
         "landed",
         "YUL",
         null,
         "JFK",
         "2024-03-01T18:55:00+00:00",
         "2024-03-01T19:33:00+00:00",
         39,
         "Air Canada",
         "AC898"
        ],
        [
         "landed",
         "YUL",
         "C84",
         "JFK",
         "2024-03-01T12:20:00+00:00",
         "2024-03-01T12:36:00+00:00",
         16,
         "Delta Air Lines",
         "DL5088"
        ],
        [
         "landed",
         "YUL",
         "C88",
         "JFK",
         "2024-03-01T17:55:00+00:00",
         "2024-03-01T18:27:00+00:00",
         33,
         "Delta Air Lines",
         "DL5151"
        ],
        [
         "landed",
         "YUL",
         "C79",
         "EWR",
         "2024-03-01T08:15:00+00:00",
         "2024-03-01T08:57:00+00:00",
         43,
         "Air Canada",
         "AC8938"
        ],
        [
         "landed",
         "YUL",
         "A51",
         "GRU",
         "2024-03-01T21:25:00+00:00",
         "2024-03-01T21:54:00+00:00",
         29,
         "Air Canada",
         "AC96"
        ],
        [
         "landed",
         "YUL",
         "A67",
         "HAV",
         "2024-03-01T18:30:00+00:00",
         "2024-03-01T19:03:00+00:00",
         33,
         "Air Transat",
         "TS554"
        ]
       ],
       "datasetInfos": [],
       "dbfsResultPath": null,
       "isJsonSchema": true,
       "metadata": {},
       "overflow": false,
       "plotOptions": {
        "customPlotOptions": {},
        "displayType": "table",
        "pivotAggregation": null,
        "pivotColumns": null,
        "xColumns": null,
        "yColumns": null
       },
       "removedWidgets": [],
       "schema": [
        {
         "metadata": "{}",
         "name": "flight_status",
         "type": "\"string\""
        },
        {
         "metadata": "{}",
         "name": "departure_airport",
         "type": "\"string\""
        },
        {
         "metadata": "{}",
         "name": "departure_gate",
         "type": "\"string\""
        },
        {
         "metadata": "{}",
         "name": "arrival_airport",
         "type": "\"string\""
        },
        {
         "metadata": "{}",
         "name": "scheduled_departure",
         "type": "\"string\""
        },
        {
         "metadata": "{}",
         "name": "actual_departure",
         "type": "\"string\""
        },
        {
         "metadata": "{}",
         "name": "delay_minutes",
         "type": "\"integer\""
        },
        {
         "metadata": "{}",
         "name": "airline_name",
         "type": "\"string\""
        },
        {
         "metadata": "{}",
         "name": "flight_number",
         "type": "\"string\""
        }
       ],
       "type": "table"
      }
     },
     "output_type": "display_data"
    }
   ],
   "source": [
    "display(departures_data)"
   ]
  },
  {
   "cell_type": "code",
   "execution_count": 0,
   "metadata": {
    "application/vnd.databricks.v1+cell": {
     "cellMetadata": {},
     "inputWidgets": {},
     "nuid": "d7aaad7e-8acb-4743-b898-7f20a813a60f",
     "showTitle": false,
     "title": ""
    }
   },
   "outputs": [],
   "source": []
  }
 ],
 "metadata": {
  "application/vnd.databricks.v1+notebook": {
   "dashboards": [],
   "language": "python",
   "notebookMetadata": {
    "pythonIndentUnit": 4
   },
   "notebookName": "Jared-Kafka-Experiment",
   "widgets": {}
  }
 },
 "nbformat": 4,
 "nbformat_minor": 0
}
